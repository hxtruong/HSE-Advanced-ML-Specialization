{
  "nbformat": 4,
  "nbformat_minor": 0,
  "metadata": {
    "kernelspec": {
      "name": "python3",
      "display_name": "Python 3"
    },
    "language_info": {
      "codemirror_mode": {
        "name": "ipython",
        "version": 3
      },
      "file_extension": ".py",
      "mimetype": "text/x-python",
      "name": "python",
      "nbconvert_exporter": "python",
      "pygments_lexer": "ipython3",
      "version": "3.6.5"
    },
    "colab": {
      "name": "Digits_classification-Week-IntroDL.ipynb",
      "provenance": [],
      "collapsed_sections": [],
      "include_colab_link": true
    },
    "accelerator": "GPU"
  },
  "cells": [
    {
      "cell_type": "markdown",
      "metadata": {
        "id": "view-in-github",
        "colab_type": "text"
      },
      "source": [
        "<a href=\"https://colab.research.google.com/github/hxtruong/HSE-Advanced-ML-Specialization/blob/master/Course%201%20-%20Introduction%20to%20Deep%20Learning/Week%202/Digits_classification_Week_IntroDL.ipynb\" target=\"_parent\"><img src=\"https://colab.research.google.com/assets/colab-badge.svg\" alt=\"Open In Colab\"/></a>"
      ]
    },
    {
      "cell_type": "code",
      "metadata": {
        "id": "GiRqrdoz7BG3",
        "colab_type": "code",
        "colab": {
          "base_uri": "https://localhost:8080/",
          "height": 326
        },
        "outputId": "80fa1bf2-ab63-4851-aadc-0d9f963f5cf5"
      },
      "source": [
        "! shred -u setup_google_colab.py\n",
        "! wget https://raw.githubusercontent.com/hse-aml/intro-to-dl/master/setup_google_colab.py -O setup_google_colab.py\n",
        "import setup_google_colab\n",
        "# please, uncomment the week you're working on\n",
        "# setup_google_colab.setup_week1()\n",
        "setup_google_colab.setup_week2()\n",
        "# setup_google_colab.setup_week2_honor()\n",
        "# setup_google_colab.setup_week3()\n",
        "# setup_google_colab.setup_week4()\n",
        "# setup_google_colab.setup_week5()\n",
        "# setup_google_colab.setup_week6()"
      ],
      "execution_count": 1,
      "outputs": [
        {
          "output_type": "stream",
          "text": [
            "--2020-03-06 04:38:30--  https://raw.githubusercontent.com/hse-aml/intro-to-dl/master/setup_google_colab.py\n",
            "Resolving raw.githubusercontent.com (raw.githubusercontent.com)... 151.101.0.133, 151.101.64.133, 151.101.128.133, ...\n",
            "Connecting to raw.githubusercontent.com (raw.githubusercontent.com)|151.101.0.133|:443... connected.\n",
            "HTTP request sent, awaiting response... 200 OK\n",
            "Length: 3636 (3.6K) [text/plain]\n",
            "Saving to: ‘setup_google_colab.py’\n",
            "\n",
            "\rsetup_google_colab.   0%[                    ]       0  --.-KB/s               \rsetup_google_colab. 100%[===================>]   3.55K  --.-KB/s    in 0s      \n",
            "\n",
            "2020-03-06 04:38:30 (80.2 MB/s) - ‘setup_google_colab.py’ saved [3636/3636]\n",
            "\n",
            "**************************************************\n",
            "inception_v3_weights_tf_dim_ordering_tf_kernels_notop.h5\n",
            "**************************************************\n",
            "cifar-10-batches-py.tar.gz\n",
            "**************************************************\n",
            "mnist.npz\n"
          ],
          "name": "stdout"
        }
      ]
    },
    {
      "cell_type": "code",
      "metadata": {
        "id": "p3JnGZWp6wWr",
        "colab_type": "code",
        "colab": {}
      },
      "source": [
        "# set tf 1.x for colab\n",
        "%tensorflow_version 1.x"
      ],
      "execution_count": 0,
      "outputs": []
    },
    {
      "cell_type": "markdown",
      "metadata": {
        "id": "XiiZRD-C6wWy",
        "colab_type": "text"
      },
      "source": [
        "# MNIST digits classification with TensorFlow"
      ]
    },
    {
      "cell_type": "markdown",
      "metadata": {
        "id": "VNl9huBc6wW0",
        "colab_type": "text"
      },
      "source": [
        "<img src=\"https://github.com/hse-aml/intro-to-dl/blob/master/week2/v2/images/mnist_sample.png?raw=1\" style=\"width:30%\">"
      ]
    },
    {
      "cell_type": "code",
      "metadata": {
        "id": "_9CyLiFT6wW2",
        "colab_type": "code",
        "colab": {
          "base_uri": "https://localhost:8080/",
          "height": 54
        },
        "outputId": "d0e8e227-75d9-49bb-bd22-536492811160"
      },
      "source": [
        "import numpy as np\n",
        "from sklearn.metrics import accuracy_score\n",
        "from matplotlib import pyplot as plt\n",
        "%matplotlib inline\n",
        "import tensorflow as tf\n",
        "print(\"We're using TF\", tf.__version__)\n",
        "\n",
        "import sys\n",
        "sys.path.append(\"../..\")\n",
        "import grading\n",
        "\n",
        "import matplotlib_utils\n",
        "from importlib import reload\n",
        "reload(matplotlib_utils)\n",
        "\n",
        "import grading_utils\n",
        "reload(grading_utils)\n",
        "\n",
        "import keras_utils\n",
        "from keras_utils import reset_tf_session"
      ],
      "execution_count": 3,
      "outputs": [
        {
          "output_type": "stream",
          "text": [
            "We're using TF 1.15.0\n"
          ],
          "name": "stdout"
        },
        {
          "output_type": "stream",
          "text": [
            "Using TensorFlow backend.\n"
          ],
          "name": "stderr"
        }
      ]
    },
    {
      "cell_type": "markdown",
      "metadata": {
        "id": "SmRsldOW6wW8",
        "colab_type": "text"
      },
      "source": [
        "# Fill in your Coursera token and email\n",
        "To successfully submit your answers to our grader, please fill in your Coursera submission token and email"
      ]
    },
    {
      "cell_type": "code",
      "metadata": {
        "id": "95BEg6q-6wW9",
        "colab_type": "code",
        "colab": {}
      },
      "source": [
        "grader = grading.Grader(assignment_key=\"XtD7ho3TEeiHQBLWejjYAA\", \n",
        "                        all_parts=[\"9XaAS\", \"vmogZ\", \"RMv95\", \"i8bgs\", \"rE763\"])"
      ],
      "execution_count": 0,
      "outputs": []
    },
    {
      "cell_type": "code",
      "metadata": {
        "id": "4KvnFdLc6wXC",
        "colab_type": "code",
        "colab": {}
      },
      "source": [
        "# token expires every 30 min\n",
        "COURSERA_TOKEN = \"1Ba2gYh6NQn2TVyN\"\n",
        "COURSERA_EMAIL = \"hoangxuantruong98@gmail.com\""
      ],
      "execution_count": 0,
      "outputs": []
    },
    {
      "cell_type": "markdown",
      "metadata": {
        "id": "fgyTy4Qj6wXG",
        "colab_type": "text"
      },
      "source": [
        "# Look at the data\n",
        "\n",
        "In this task we have 50000 28x28 images of digits from 0 to 9.\n",
        "We will train a classifier on this data."
      ]
    },
    {
      "cell_type": "code",
      "metadata": {
        "id": "jpthcjYq6wXI",
        "colab_type": "code",
        "colab": {}
      },
      "source": [
        "import preprocessed_mnist\n",
        "X_train, y_train, X_val, y_val, X_test, y_test = preprocessed_mnist.load_dataset()"
      ],
      "execution_count": 0,
      "outputs": []
    },
    {
      "cell_type": "code",
      "metadata": {
        "id": "C4EwKbsL6wXN",
        "colab_type": "code",
        "colab": {
          "base_uri": "https://localhost:8080/",
          "height": 695
        },
        "outputId": "8d212877-bbae-4857-fcd7-7b98aa5307b7"
      },
      "source": [
        "# X contains rgb values divided by 255\n",
        "print(\"X_train [shape %s] sample patch:\\n\" % (str(X_train.shape)), X_train[1, 15:20, 5:10])\n",
        "print(\"A closeup of a sample patch:\")\n",
        "plt.imshow(X_train[1, 15:20, 5:10], cmap=\"Greys\")\n",
        "plt.show()\n",
        "print(\"And the whole sample:\")\n",
        "plt.imshow(X_train[1], cmap=\"Greys\")\n",
        "plt.show()\n",
        "print(\"y_train [shape %s] 10 samples:\\n\" % (str(y_train.shape)), y_train[:10])"
      ],
      "execution_count": 7,
      "outputs": [
        {
          "output_type": "stream",
          "text": [
            "X_train [shape (50000, 28, 28)] sample patch:\n",
            " [[0.         0.29803922 0.96470588 0.98823529 0.43921569]\n",
            " [0.         0.33333333 0.98823529 0.90196078 0.09803922]\n",
            " [0.         0.33333333 0.98823529 0.8745098  0.        ]\n",
            " [0.         0.33333333 0.98823529 0.56862745 0.        ]\n",
            " [0.         0.3372549  0.99215686 0.88235294 0.        ]]\n",
            "A closeup of a sample patch:\n"
          ],
          "name": "stdout"
        },
        {
          "output_type": "display_data",
          "data": {
            "image/png": "[encoded data removed]",
            "text/plain": [
              "<Figure size 432x288 with 1 Axes>"
            ]
          },
          "metadata": {
            "tags": []
          }
        },
        {
          "output_type": "stream",
          "text": [
            "And the whole sample:\n"
          ],
          "name": "stdout"
        },
        {
          "output_type": "display_data",
          "data": {
            "image/png": "[encoded data removed]",
            "text/plain": [
              "<Figure size 432x288 with 1 Axes>"
            ]
          },
          "metadata": {
            "tags": []
          }
        },
        {
          "output_type": "stream",
          "text": [
            "y_train [shape (50000,)] 10 samples:\n",
            " [5 0 4 1 9 2 1 3 1 4]\n"
          ],
          "name": "stdout"
        }
      ]
    },
    {
      "cell_type": "markdown",
      "metadata": {
        "id": "mHdK4yGC6wXT",
        "colab_type": "text"
      },
      "source": [
        "# Linear model\n",
        "\n",
        "Your task is to train a linear classifier $\\vec{x} \\rightarrow y$ with SGD using TensorFlow.\n",
        "\n",
        "You will need to calculate a logit (a linear transformation) $z_k$ for each class: \n",
        "$$z_k = \\vec{x} \\cdot \\vec{w_k} + b_k \\quad k = 0..9$$\n",
        "\n",
        "And transform logits $z_k$ to valid probabilities $p_k$ with softmax: \n",
        "$$p_k = \\frac{e^{z_k}}{\\sum_{i=0}^{9}{e^{z_i}}} \\quad k = 0..9$$\n",
        "\n",
        "We will use a cross-entropy loss to train our multi-class classifier:\n",
        "$$\\text{cross-entropy}(y, p) = -\\sum_{k=0}^{9}{\\log(p_k)[y = k]}$$ \n",
        "\n",
        "where \n",
        "$$\n",
        "[x]=\\begin{cases}\n",
        "       1, \\quad \\text{if $x$ is true} \\\\\n",
        "       0, \\quad \\text{otherwise}\n",
        "    \\end{cases}\n",
        "$$\n",
        "\n",
        "Cross-entropy minimization pushes $p_k$ close to 1 when $y = k$, which is what we want.\n",
        "\n",
        "Here's the plan:\n",
        "* Flatten the images (28x28 -> 784) with `X_train.reshape((X_train.shape[0], -1))` to simplify our linear model implementation\n",
        "* Use a matrix placeholder for flattened `X_train`\n",
        "* Convert `y_train` to one-hot encoded vectors that are needed for cross-entropy\n",
        "* Use a shared variable `W` for all weights (a column $\\vec{w_k}$ per class) and `b` for all biases.\n",
        "* Aim for ~0.93 validation accuracy"
      ]
    },
    {
      "cell_type": "code",
      "metadata": {
        "id": "HhwysjWa6wXV",
        "colab_type": "code",
        "colab": {
          "base_uri": "https://localhost:8080/",
          "height": 54
        },
        "outputId": "6ef0728b-34a7-4675-ed67-24f0e6007f6a"
      },
      "source": [
        "X_train_flat = X_train.reshape((X_train.shape[0], -1))\n",
        "print(X_train_flat.shape)\n",
        "\n",
        "X_val_flat = X_val.reshape((X_val.shape[0], -1))\n",
        "print(X_val_flat.shape)"
      ],
      "execution_count": 8,
      "outputs": [
        {
          "output_type": "stream",
          "text": [
            "(50000, 784)\n",
            "(10000, 784)\n"
          ],
          "name": "stdout"
        }
      ]
    },
    {
      "cell_type": "code",
      "metadata": {
        "id": "MJbV9cWx6wXa",
        "colab_type": "code",
        "colab": {
          "base_uri": "https://localhost:8080/",
          "height": 90
        },
        "outputId": "6fda6168-c3bd-4ff7-e7ef-eccc47abe6f8"
      },
      "source": [
        "import keras\n",
        "\n",
        "y_train_oh = keras.utils.to_categorical(y_train, 10)\n",
        "y_val_oh = keras.utils.to_categorical(y_val, 10)\n",
        "\n",
        "print(y_train_oh.shape)\n",
        "print(y_train_oh[:3], y_train[:3])"
      ],
      "execution_count": 9,
      "outputs": [
        {
          "output_type": "stream",
          "text": [
            "(50000, 10)\n",
            "[[0. 0. 0. 0. 0. 1. 0. 0. 0. 0.]\n",
            " [1. 0. 0. 0. 0. 0. 0. 0. 0. 0.]\n",
            " [0. 0. 0. 0. 1. 0. 0. 0. 0. 0.]] [5 0 4]\n"
          ],
          "name": "stdout"
        }
      ]
    },
    {
      "cell_type": "code",
      "metadata": {
        "id": "qIAIY65f6wXf",
        "colab_type": "code",
        "colab": {
          "base_uri": "https://localhost:8080/",
          "height": 255
        },
        "outputId": "d3c8dffa-5149-4814-b859-f640ce4d84e3"
      },
      "source": [
        "# run this again if you remake your graph\n",
        "s = reset_tf_session()"
      ],
      "execution_count": 10,
      "outputs": [
        {
          "output_type": "stream",
          "text": [
            "WARNING:tensorflow:From /content/keras_utils.py:68: The name tf.get_default_session is deprecated. Please use tf.compat.v1.get_default_session instead.\n",
            "\n",
            "WARNING:tensorflow:From /usr/local/lib/python3.6/dist-packages/keras/backend/tensorflow_backend.py:79: The name tf.reset_default_graph is deprecated. Please use tf.compat.v1.reset_default_graph instead.\n",
            "\n",
            "WARNING:tensorflow:From /usr/local/lib/python3.6/dist-packages/keras/backend/tensorflow_backend.py:82: The name tf.placeholder is deprecated. Please use tf.compat.v1.placeholder instead.\n",
            "\n",
            "WARNING:tensorflow:From /usr/local/lib/python3.6/dist-packages/keras/backend/tensorflow_backend.py:84: The name tf.get_default_graph is deprecated. Please use tf.compat.v1.get_default_graph instead.\n",
            "\n",
            "WARNING:tensorflow:From /content/keras_utils.py:75: The name tf.ConfigProto is deprecated. Please use tf.compat.v1.ConfigProto instead.\n",
            "\n",
            "WARNING:tensorflow:From /content/keras_utils.py:77: The name tf.InteractiveSession is deprecated. Please use tf.compat.v1.InteractiveSession instead.\n",
            "\n"
          ],
          "name": "stdout"
        }
      ]
    },
    {
      "cell_type": "code",
      "metadata": {
        "id": "abVKvWIg6wXk",
        "colab_type": "code",
        "colab": {}
      },
      "source": [
        "# Model parameters: W and b\n",
        "W = tf.get_variable(name=\"W\", shape=(784, 10)) ### YOUR CODE HERE ### tf.get_variable(...) with shape[0] = 784\n",
        "b = tf.get_variable(name=\"b\", shape=(10,)) ### YOUR CODE HERE ### tf.get_variable(...)"
      ],
      "execution_count": 0,
      "outputs": []
    },
    {
      "cell_type": "code",
      "metadata": {
        "id": "Jd8UP1sz6wXo",
        "colab_type": "code",
        "colab": {}
      },
      "source": [
        "# Placeholders for the input data\n",
        "input_X = tf.placeholder(tf.float32, shape=[None, 784], name=\"input_x\")  ### YOUR CODE HERE ### tf.placeholder(...) for flat X with shape[0] = None for any batch size\n",
        "input_y = tf.placeholder(tf.float32, shape=[None, 10], name=\"input_y\")### YOUR CODE HERE ### tf.placeholder(...) for one-hot encoded true labels"
      ],
      "execution_count": 0,
      "outputs": []
    },
    {
      "cell_type": "code",
      "metadata": {
        "id": "_s4CXL0C6wXt",
        "colab_type": "code",
        "colab": {
          "base_uri": "https://localhost:8080/",
          "height": 163
        },
        "outputId": "3385f68e-3091-49dd-ab5d-5396171e2df2"
      },
      "source": [
        "# Compute predictions\n",
        "logits = input_X @ W + b ### YOUR CODE HERE ### logits for input_X, resulting shape should be [input_X.shape[0], 10]\n",
        "probas = tf.nn.softmax(logits) ### YOUR CODE HERE ### apply tf.nn.softmax to logits\n",
        "classes = tf.argmax(probas, axis=1) ### YOUR CODE HERE ### apply tf.argmax to find a class index with highest probability\n",
        "\n",
        "# Loss should be a scalar number: average loss over all the objects with tf.reduce_mean().\n",
        "# Use tf.nn.softmax_cross_entropy_with_logits on top of one-hot encoded input_y and logits.\n",
        "# It is identical to calculating cross-entropy on top of probas, but is more numerically friendly (read the docs).\n",
        "loss = tf.reduce_mean(tf.nn.softmax_cross_entropy_with_logits(labels=input_y, logits=logits)) ### YOUR CODE HERE ### cross-entropy loss\n",
        "\n",
        "# Use a default tf.train.AdamOptimizer to get an SGD step\n",
        "step = tf.train.AdamOptimizer().minimize(loss)  ### YOUR CODE HERE ### optimizer step that minimizes the loss"
      ],
      "execution_count": 13,
      "outputs": [
        {
          "output_type": "stream",
          "text": [
            "WARNING:tensorflow:From <ipython-input-13-3d3cdf6fd54f>:8: softmax_cross_entropy_with_logits (from tensorflow.python.ops.nn_ops) is deprecated and will be removed in a future version.\n",
            "Instructions for updating:\n",
            "\n",
            "Future major versions of TensorFlow will allow gradients to flow\n",
            "into the labels input on backprop by default.\n",
            "\n",
            "See `tf.nn.softmax_cross_entropy_with_logits_v2`.\n",
            "\n"
          ],
          "name": "stdout"
        }
      ]
    },
    {
      "cell_type": "code",
      "metadata": {
        "scrolled": false,
        "id": "C6_gsq8j6wXx",
        "colab_type": "code",
        "colab": {
          "base_uri": "https://localhost:8080/",
          "height": 308
        },
        "outputId": "89175750-2ab1-4271-9ba5-35b7d9e616ef"
      },
      "source": [
        "s.run(tf.global_variables_initializer())\n",
        "\n",
        "BATCH_SIZE = 512\n",
        "EPOCHS = 40\n",
        "\n",
        "# for logging the progress right here in Jupyter (for those who don't have TensorBoard)\n",
        "simpleTrainingCurves = matplotlib_utils.SimpleTrainingCurves(\"cross-entropy\", \"accuracy\")\n",
        "\n",
        "for epoch in range(EPOCHS):  # we finish an epoch when we've looked at all training samples\n",
        "    \n",
        "    batch_losses = []\n",
        "    for batch_start in range(0, X_train_flat.shape[0], BATCH_SIZE):  # data is already shuffled\n",
        "        _, batch_loss = s.run([step, loss], {input_X: X_train_flat[batch_start:batch_start+BATCH_SIZE], \n",
        "                                             input_y: y_train_oh[batch_start:batch_start+BATCH_SIZE]})\n",
        "        # collect batch losses, this is almost free as we need a forward pass for backprop anyway\n",
        "        batch_losses.append(batch_loss)\n",
        "\n",
        "    train_loss = np.mean(batch_losses)\n",
        "    val_loss = s.run(loss, {input_X: X_val_flat, input_y: y_val_oh})  # this part is usually small\n",
        "    train_accuracy = accuracy_score(y_train, s.run(classes, {input_X: X_train_flat}))  # this is slow and usually skipped\n",
        "    valid_accuracy = accuracy_score(y_val, s.run(classes, {input_X: X_val_flat}))  \n",
        "    simpleTrainingCurves.add(train_loss, val_loss, train_accuracy, valid_accuracy)"
      ],
      "execution_count": 14,
      "outputs": [
        {
          "output_type": "display_data",
          "data": {
            "text/html": [
              "<img src=\"data:image/jpeg;base64,/9j/4AAQSkZJRgABAQEASABIAAD/2wBDAAIBAQEBAQIBAQECAgICAgQDAgICAgUEBAMEBgUGBgYFBgYGBwkIBgcJBwYGCAsICQoKCgoKBggLDAsKDAkKCgr/2wBDAQICAgICAgUDAwUKBwYHCgoKCgoKCgoKCgoKCgoKCgoKCgoKCgoKCgoKCgoKCgoKCgoKCgoKCgoKCgoKCgoKCgr/wAARCAEgA2ADASIAAhEBAxEB/8QAHwAAAQUBAQEBAQEAAAAAAAAAAAECAwQFBgcICQoL/8QAtRAAAgEDAwIEAwUFBAQAAAF9AQIDAAQRBRIhMUEGE1FhByJxFDKBkaEII0KxwRVS0fAkM2JyggkKFhcYGRolJicoKSo0NTY3ODk6Q0RFRkdISUpTVFVWV1hZWmNkZWZnaGlqc3R1dnd4eXqDhIWGh4iJipKTlJWWl5iZmqKjpKWmp6ipqrKztLW2t7i5usLDxMXGx8jJytLT1NXW19jZ2uHi4%2BTl5ufo6erx8vP09fb3%2BPn6/8QAHwEAAwEBAQEBAQEBAQAAAAAAAAECAwQFBgcICQoL/8QAtREAAgECBAQDBAcFBAQAAQJ3AAECAxEEBSExBhJBUQdhcRMiMoEIFEKRobHBCSMzUvAVYnLRChYkNOEl8RcYGRomJygpKjU2Nzg5OkNERUZHSElKU1RVVldYWVpjZGVmZ2hpanN0dXZ3eHl6goOEhYaHiImKkpOUlZaXmJmaoqOkpaanqKmqsrO0tba3uLm6wsPExcbHyMnK0tPU1dbX2Nna4uPk5ebn6Onq8vP09fb3%2BPn6/9oADAMBAAIRAxEAPwD9/KKKKACiiigAooooAKKKKACiiigAooooAKKKKACiiigAooooAKKKKACiiigAooooAKKKKACiiigAooooAKKKKACiiigAooooAKKKKACiiigAooooAKKKKACiiigAooooAKKKKACiiigAooooAKKKKACiiigAooooAKKKKACiiigAooooAKKKKACiiigAooooAKKKKACiiigAooooAKKKKACiiigAooooAKKKKACiiigAooooAKKKKACiiigAooooAKKKKACiiigAooooAKKKKACiiigAooooAKKKKACiiigAooooAKKKKACiiigAooooAKKKKACiiigAooooAKKKKACiiigAooooAKKKKACvPfjt%2B1J8FP2b5NGsfil4g1Maj4ilnTQNB8OeF9R1zVNR8lVed4bHTbee5kjiVkMkixlI96biu5c%2BhV4N%2B0P8D/j5/wANJ%2BDv2tv2bLLwfrWueH/B2seFNX8KeOdcutLtLywv7mwuxcQXtraXj288U2noCpt3WVJSCUKK1ABpf/BTL9izWLvxPb2nxXv0h8FWsk/jLUrvwXrEFjoIS0iu9l5dy2iwWsrQzRskMjrJIWKorMrKL2n/APBQ/wDZK1HwBrXxFTx/q9vB4f1ay0vVdE1DwNrNrrkV5ebfscC6PNaLqEr3AYGER27eaAxTcFYjy2b9gH4y%2BMf2a/jn8NfGHinwppHin4o/FS38daHc6U1xeWFpeW0OiywQ3IkihkkiN3pRRwoyYHGDuJVaPi79i/8AaV%2BLmr/Ef45fG34S/CjWvFnjWx8KaPp/gKy%2BI2s2Wm6fY6Hcaldw3qa7b6al5DqDXOqTOksVoPJSKNFZiWcgHsviH9vv9mzwv4a8OeI9XvvG3meK0v5NE8P2vwm8SXGuSRWUscV3NJpMWntf28MLzQq8s0CIpmiy37xM%2Bmaz8RPBHhv4e3XxX8T%2BJbbSvDljo76rf6vqrfZYbSySIzPPMZdvlKsYLNvxtAOcYNfGHin9hH9s/WPgX4X8Nay3hfxV470a58RHRfGV/wDHbxNpGr%2BCLW%2BuUktLO11q1sJLzXIYkjhEy3qw/aTbReYCFGPUfjR/wTotfj1%2Bzb4n%2BHHxD%2BOfjW78d%2BMPhfH4Z17xS3jbWho818tpDE2oJoS3y2FuzzQLK3kRRSEPIBIrSM5AOkg/4KUfsZf8K58V/FbWPite6Jo3giysr7xQ/ifwdq%2Bk3NlZXkxhtb37LeWsVxJaSyK6pcxxtC3luQ%2BEYjj/AI3f8FZP2d/hn8ENU%2BMfgPRfFXiqbQfiD4X8L674Y/4QXXbHU7A6zqVrax3T2cmnNdeV5Fw88DeT5d48aW8MhknjB8r1T/gmJ8ZPHfwq8faR4i8DeG9G8Y%2BI9D0fR7DxDqv7RfjPxut3aWusW%2BoTRyf27AfsEZ8likUSzHe%2BGkxknv8A9qH9gz40/GD4g/F/4g%2BBfEPheOTxfB8LbzwlZ6tfXMSvf%2BE/EdzrUsN40dvJ5ENwGt4VljEzrl2MfyKrgHqFh/wUE/Zb1H4m2XwZh8T%2BJo/Fd5oun6xLoF38N9egudO0%2B9adILu/SSyU6dDut5VeS68pYiFEhQum6j4a/wCCmH7FPi3wZ4s%2BIWkfGC4TR/Bfgi68Zaxe6h4S1W0Fx4et0Z5tWsVntUbVLNVQ4nsxPGxZArEugbB0P9kP4ofEP4mfG74g/G9fD2gxfGj4O%2BHfCF1Y%2BE9duNRl0u4tE11Ltlnns7XzYwNViMT7FZikm6OPA3fN37Y37Kn7UOj/ALDHxS%2BJv7TF34AtIfhD%2BxT8QfBHhePwFqF5cNrzXukWxn1G6W5toBYqE0i3CWcbXAVppCZ22oKAPrPw9/wUl/Yy8TaHrHiPT/i1dQWehppU1/JqnhLVbJmtNSu1s7HUIUuLVGubCWdgovoQ9qoDO0qorMPT9E%2BLvw88R/FLX/gvofiH7T4k8LaXp%2Boa/YR2k22zgvmuBa7pinlF3%2ByzHy1cyKoRmVVkjLfJOofsz%2BIPFegeKfjb/wAFIvF/wz8J%2BBbf9nu5%2BHUlx4f8QTLay6beyQyXmq3k17BbpYOTBbCG2QzCAmT/AEiQsuOw/wCCPngP4u2f7I9r8f8A9pDUDf8AxJ%2BL15H4n8V6g9nJbtJCLSCy01fKl%2BeH/iX2lpI0TYKSzTZAYtkA%2BqqKKKACiiigAooooAKKKKACiiigAooooAKKKKACiiigAooooAKKKKACiiigAooooAKKKKACiiigAooooAKKKKACiiigAooooAK8R0j/AIKMfse6ld69Z6n8Urzw83hzw5c%2BINQk8a%2BEdV0GObSbd0jnv7WTUrWBb63R5IlaW2MqAyxjOXXPtN7FczWcsNndCCZ4mWKYx7/LYjhtp64POO9fmJq//BHL9uX4v6t4X1z43fHHQ31vw14P1Cz1DxRqHxW8TeJx4h1v7ZpV9a6idLvoobLSbaS50xfPsLIBRHJtWWQKgUA%2B2X/b/wD2YbX4aN8WNY8QeKtK0ttcg0axs9c%2BGWv2GqanfzIZIYLLTbixS9v2kQM6/Z4ZAyo7AkIxHReA/wBqz4H/ABH1%2By8J%2BHPEOqQ6vf8AhSfxJDpGteFdS0y7TTYbv7JLLLDeW8UkDrP8hhkVZe%2BzbzXk3xO%2BDn7bvxib4e/G3XPBvwq0P4h/Cjx1NrHh/wAM2vjjUr/Rdcs7jSbvTLmO4vn0qGaxmKXskkbpa3AjMQU%2BYJGxV%2BJPwG/bg1/4y%2BHf2mvA%2BjfCu08WX3ww1XwX4x0LUvFepSWGkLcX8N1a39lcJpwk1AxCN1kt5YrQSlxiWLHIB3Gk/wDBRv8AZA8R694F8LeFfiNqus6n8SfBuleLfBunaJ4H1m9nvND1F9lrqMiQWjNa2%2B7HmSTiNbcMpm8oMCdj4a/tufs3fFf4jXPwn8M%2BL9Ws9ft9LudThsvE/gzVtEW/sbeRI57uyl1G1gjv4I3liDy2zSIvmISQGUnyj9hT9hL4sfsw6/8ADjWfHniDw1dnwd%2Byl4R%2BGN%2B%2BkXM8rNq2lvM1zNF5kEe61bemxmKu235o0wK8a%2BGn/BKv9sbxP8UfC/ib9qb4w2eqRaf4A8V%2BF/GniaD4v%2BJNavPEUur2KW39p2umX0Men6EcqWNpaKUXKgTOI1WgD6l8J/8ABRf9kfxrosfirQfHeuf2Hcarpen6f4lvfh/rdrpWoy6lex2VlJaX09mlteQS3M0UYuIJHhBlQs4VgT6X4W%2BLvw88a/EDxT8LvC/iH7XrnguSzj8T2iWkwWxkuoPtEEZlZBG7tCVkKIzMiyRlgokTd8w%2BOPAnxF8K/wDBPbxp8CP%2BChnif4VeCPAWg/DSLQLb4meHfFt2GadI0trXUntLqzgTTZlmFvJDBHcXTGcoiOTtDdr/AMEr/h98WPDf7ImlfFX9oqwS3%2BJ3xYvpfHXxEhW3aL7Pf36xmG02N8yfZbGOys9pyQLXBoA%2BjaKKKACiiigAooooAKKKKACiiigAooooAKKKKACiiigAooooAKKKKACiiigAooooAKKKKACiiigAooooAKKKKACiiigAooooAKKKKACvF/j14/8A2i/%2BGi/AvwI%2BAvjPwV4fTX/BXiXXtX1Pxf4Lu9aJOnXeh28MMMdvqVj5Yb%2B1JWZmZ8%2BWgAXkn2ivCviLrSWX/BSr4Q6LIoxe/BP4hsjZ53R6t4NOPyZj%2BFJtLcuEJVHaPZv7tWX/APhB/wDgoX/0dB8Gf/DD6t/81FH/AAg//BQv/o6D4M/%2BGH1b/wCaivZqKZB4z/wg/wDwUL/6Og%2BDP/hh9W/%2Baij/AIQf/goX/wBHQfBn/wAMPq3/AM1FezUUAeM/8IP/AMFC/wDo6D4M/wDhh9W/%2Baij/hB/%2BChf/R0HwZ/8MPq3/wA1FezUUAeM/wDCD/8ABQv/AKOg%2BDP/AIYfVv8A5qKP%2BEH/AOChf/R0HwZ/8MPq3/zUV7NRQB4z/wAIP/wUL/6Og%2BDP/hh9W/8Amoo/4Qf/AIKF/wDR0HwZ/wDDD6t/81FezUUAeM/8IP8A8FC/%2BjoPgz/4YfVv/moo/wCEH/4KF/8AR0HwZ/8ADD6t/wDNRXs1FAHjP/CD/wDBQv8A6Og%2BDP8A4YfVv/moo/4Qf/goX/0dB8Gf/DD6t/8ANRXs1FAHjP8Awg//AAUL/wCjoPgz/wCGH1b/AOaij/hB/wDgoX/0dB8Gf/DD6t/81FWtf%2BN/7InwptNI0n46fGH4c%2BHNc1DRYNQNt4u8Q2Fpd3EcmR5%2B24dXZGdJAG6ZRhnggZv/AA1//wAE4P8Ao6L4I/8AhbaP/wDHa5p4zB05OM6sU10cop/c5JntYfhviTF0I1qGBrzhJXUo0a0otd1KNGUWtHqm1puWP%2BEH/wCChf8A0dB8Gf8Aww%2Brf/NRR/wg/wDwUL/6Og%2BDP/hh9W/%2Baiq//DX/APwTg/6Oi%2BCP/hbaP/8AHa9O0DRfhZ4r0Ky8U%2BFtJ8P6lpmpWkd1p2o6fBBNBdQSKHjljkQFXRlIZWUkEEEHBq6WJw9dtU5xlbtJP8mznx2TZzlcIzxuFq0lJ2TqU6lNN72TnTgm7a2Tbtra2p5z/wAIP/wUL/6Og%2BDP/hh9W/8Amoo/4Qf/AIKF/wDR0HwZ/wDDD6t/81FeefD7/go1%2Bxf4v8D2fjDxD8PfE%2Bgz6p441rwtomjXPwe1ue81a9064v45FtIodPZ7omHT552WJXMIBjk2SKyjsviF%2B1R%2By14FsvHtpeaJFp%2BseAvCGteIby28WeBNW0mzu7PTF/0ue3upNOcXtvEzRCSWyS6KiaNgj70V9jzTR/4Qf/goX/0dB8Gf/DD6t/8ANRR/wg//AAUL/wCjoPgz/wCGH1b/AOaiqth%2B1Z%2BxhqHxnk/Z%2BhvLf/hKLfxBHoN1H/wg1%2BLCHVX06PUo7FtQa0Fos72kqTJGZQzg4UFgVGz8a/ir8FfhJ%2Bzzrv7Q%2Bj%2BEdG8Uadpdg0mm2%2BhrbSDVbppRBBaxTAFA0lwyQ7idqsxLdDQBQ/4Qf/goX/0dB8Gf/DD6t/8ANRR/wg//AAUL/wCjoPgz/wCGH1b/AOain/s4fEC2%2BLl54y8D/FH4FeG/CvjDwH4gh0zX9K0fUV1WxkWextr23uba6ktLZ5Y3iuVU74I2WWKVcMoV38k%2BJn7aPiH4DeGfifL8cv2Q/BGneIPAHwsHjuy03QvHQvrO6sjPPAILy6k0uBrCbfA3Kw3EbKshR38phQB6x/wg/wDwUL/6Og%2BDP/hh9W/%2Baij/AIQf/goX/wBHQfBn/wAMPq3/AM1FeS/FD9uXw58L/gN8P/jFfeBf2fL1fiB8RH8M2uuWvxrT/hE7GJdN1G%2B%2B1S62dH%2B8W09oPKFtjzJkHmdRWr8cv2w7T4NJeXdn%2BzT4Q8Q2Xgj4W2HxA%2BL%2BpaZ4pX7Poei3Ml0gk0xjYH%2B1mC6dqcqhxZh4rQHKtKsYAPRf%2BEH/AOChf/R0HwZ/8MPq3/zUUf8ACD/8FC/%2BjoPgz/4YfVv/AJqK57xN8WviN4R/a%2B8F/s46r%2By18O7jQvGw1m7svEOm%2BNppdSstM062RpL64099HSJVNzc2NsVW7ba14jZbBFeW%2BI/%2BCiui%2BCPCPxdvPFHwC%2BE97rPwki0b%2B138JfE9dR0K2ur7U30%2BSw1HUm0qFtNvLZozNNA1vKUidGJG7AAPc/8AhB/%2BChf/AEdB8Gf/AAw%2Brf8AzUUf8IP/AMFC/wDo6D4M/wDhh9W/%2BaiuQ8X/AB68T6F%2ByRJ%2B1d4Z%2BD3wI17TNL0bUta8R3umfFqebRYNMtEkkM9pqMGhSG7bZE25TBEEYEB3xmsr4n/tEfHT4bfDr4YfEO6/Ye%2BHm/4gXXhfS7/w1ffESaDVdL1jVZ4o7i0jiXQ5IrmOzR5JnmaWEtHazHy02gMAeif8IP8A8FC/%2BjoPgz/4YfVv/moo/wCEH/4KF/8AR0HwZ/8ADD6t/wDNRWZ4f%2BNNnb/tJ/EX4JfFT4CeF/D2ieCvBVh4q0zxTa6wL19Q064nv4Xae1%2Bxxi0ZDYSNtWWfcrj7pGK8is/%2BCi3hO/8A2T/Ff7Wln8Gfg9NpejXPh%2BPTtKt/i1bzXFiNUv4bULr7RaayaJLAlxFNJGrXYG2Vdw8vcwB7h/wg/wDwUL/6Og%2BDP/hh9W/%2Baij/AIQf/goX/wBHQfBn/wAMPq3/AM1Fea/Ez9tr4efDH4R%2BAPFureFfgbLrvxCuL1tLux8WYYvCEFla5Mt4%2BvSaapdPntogqWjMZ7lIwNivMtj4jftfWnw%2B8YPpw/Zk8Lan4f8AC%2Bn%2BF5/ij4isfEqEaNJrdybeJdPj%2Bw41OOAYuJpHe1/cSI0ayyExKAehf8IP/wAFC/8Ao6D4M/8Ahh9W/wDmoo/4Qf8A4KF/9HQfBn/ww%2Brf/NRXn3iL9s/4efDD9onxZ8FPjB8L/h1DYeFfBus%2BKtSv/Bni9dZ1PRtKsEhmWfWNOOnwHTPtFvMHhAlnDsrKCQA5tfCP9rrwD4z%2BAniX9oDxx8MvhvHZaPJbwafofw%2B8c23iXUZb%2B4KpDpF0iWkEVrqbzS29uLZJJlMswAlIAYgHb/8ACD/8FC/%2BjoPgz/4YfVv/AJqKoeB/HH7Vng79qzw58Efjd8R/h74m0bxN8PfEOuQzeFfh5faLdWl1pt9oluis9xq98ksbpqkpKhEYNEhDYyDa/Zz%2BJemftEfsk6P%2B0LefCLTPCGr6volzdS6RYXaXf9m3MLyxlUuhDCZQHiyH8tM%2BlS%2BOP%2BUhfwv/AOyM%2BPP/AE7eEKAPZqKKKACiiigAooooAK%2BcfhN4q/bv%2BOuj69478L/G/wCEmgaXb/ELxVoel6Vf/B/VL%2B4itdL16/0yFpbhPEUCyyPHZq7MsUa7nICgAV9HV4z%2Bwf8A8kQ1z/ss3xH/APU11ugA/wCEH/4KF/8AR0HwZ/8ADD6t/wDNRR/wg/8AwUL/AOjoPgz/AOGH1b/5qK9mooA8Z/4Qf/goX/0dB8Gf/DD6t/8ANRR/wg//AAUL/wCjoPgz/wCGH1b/AOaivZqKAPGf%2BEH/AOChf/R0HwZ/8MPq3/zUUf8ACD/8FC/%2BjoPgz/4YfVv/AJqK9mooA8Z/4Qf/AIKF/wDR0HwZ/wDDD6t/81FH/CD/APBQv/o6D4M/%2BGH1b/5qK9mooA8Z/wCEH/4KF/8AR0HwZ/8ADD6t/wDNRR/wg/8AwUL/AOjoPgz/AOGH1b/5qK9mooA8Z/4Qf/goX/0dB8Gf/DD6t/8ANRR/wg//AAUL/wCjoPgz/wCGH1b/AOaivZqKAPGf%2BEH/AOChf/R0HwZ/8MPq3/zUUf8ACD/8FC/%2BjoPgz/4YfVv/AJqK9mooA8Z/4Qf/AIKF/wDR0HwZ/wDDD6t/81FH/CD/APBQv/o6D4M/%2BGH1b/5qK9mooA8Z/wCEH/4KF/8AR0HwZ/8ADD6t/wDNRR/wg/8AwUL/AOjoPgz/AOGH1b/5qK9mooA8Z/4Qf/goX/0dB8Gf/DD6t/8ANRR/wg//AAUL/wCjoPgz/wCGH1b/AOaivZqKAPGf%2BEH/AOChf/R0HwZ/8MPq3/zUUf8ACD/8FC/%2BjoPgz/4YfVv/AJqK9mooA8Z/4Qf/AIKF/wDR0HwZ/wDDD6t/81FH/CD/APBQv/o6D4M/%2BGH1b/5qK9mooA8Z/wCEH/4KF/8AR0HwZ/8ADD6t/wDNRR/wg/8AwUL/AOjoPgz/AOGH1b/5qK9mooA8Z/4Qf/goX/0dB8Gf/DD6t/8ANRR/wg//AAUL/wCjoPgz/wCGH1b/AOaivUPE3jzwN4Kh%2B0%2BMvGek6RHjPmanqMVuuPXLsK8%2B1L9u/wDYg0e7aw1X9sX4W286ffhm8f6crL9QZsisamJw1F2qTjH1kl%2BbRz1cXhMO7VakY%2Bsor85Iof8ACD/8FC/%2BjoPgz/4YfVv/AJqKP%2BEH/wCChf8A0dB8Gf8Aww%2Brf/NRS3//AAUU/YI02Lzrj9s74YMPSDxvYyn8klJrndQ/4Kx/8E49Ncpc/td%2BEmI6/Z7mSUfmiHNc8szy2HxV4L/t%2BP8A8kcs85yen8WJpr/t%2BH/yR0P/AAg//BQv/o6D4M/%2BGH1b/wCaij/hB/8AgoX/ANHQfBn/AMMPq3/zUVwOt/8ABaf/AIJj6Cm66/amsJyfupYaBqVyxPp%2B6tmrlNY/4L4/8E6NIJYeNfFFxGPuyxeDbtVb6eYq1zzz7JKfxYmH/gS/S5FPPMmrT5KWIhN9ovmf3QU3%2BB7T/wAIP/wUL/6Og%2BDP/hh9W/8Amoo/4Qf/AIKF/wDR0HwZ/wDDD6t/81FfPN3/AMHEv/BPG2z5Mnjm4/64%2BGFGf%2B%2BphWXef8HIv7A9tnyfBfxNuP8Arj4esxn/AL7vVrB8T8PR3xUPv/4B6NOdSt/DpVZf4aGIl/6ThpH01/wg/wDwUL/6Og%2BDP/hh9W/%2Baij/AIQf/goX/wBHQfBn/wAMPq3/AM1FfLEv/Bx5%2ByxqCb/B/wCzp8W9Sz93do1igP4pdyVAn/BfnVNeYp8P/wDgnV8U9YJ%2B4AjLn/v3BJUPirh/7NdP0Un%2BUDqWDzWSvHBYl/8Acrif/bsPA%2Brv%2BEH/AOChf/R0HwZ/8MPq3/zUVb/ZW%2BI3xp8Yax8UPAnx01/wvq2qeAfiFFodnqvhPw1c6Tb3VrLoOj6mrPb3F7eMsiyajKhYS7SsaHapzn5Hm/4LB/t/%2BJxs%2BHn/AARu%2BIiq3%2BrutTbUDGf/ACnRj/x%2BvZv%2BCVXxL%2BMXxg0v43fEb4/fCh/A/i3UvjMh1Xws%2B/NiE8K%2BHY4c7/m%2BeFI5Of8AnpXZgs5wOY1nToczaV7uE4r75Rir67Eyw2YUo81fDVace9Sm4K/b3pc1/wDt1evf6tooor1DMKKKKACiiigAooooAKKKKACiiigAooooAKKKKACiiigAooooA5b42%2BCLH4jfCjXfBupa/r2lwXdiS994Z1%2B60u%2Bj2ESDyrq0kjmhJKBS0bqxUsMjNeQ/s2%2BI9G8Zf8EsPhn45/aB%2BLWsadZXnwP8P6r4y8aS%2BLLiwvVT%2Byrae6u5dRSRZ4nbDs84kWT5mO4E5r274g/Dr4ffFrwdffDv4qeBNG8TeH9UjWPUtC8QaXFe2d2gYOFlhmVkkAZVYBgeVB6iuO0n9jL9j7QPh9c/CTQv2UfhrZeFLyyazvPDNp4F0%2BPT57ZphM0L2ywiNozKqyFCuC6hsZGaAOV/4J/af8Qo/hJrfiPxTceLU8N694vudR%2BGmlePdWu77W9O8OvBbpAl5Neu9yXlnjurtI7h2mhivIoZNrRFF8x%2BLXxL8R3v/BY/4CeEtX%2BFPiDQbSH4b/Eiz0/W9VudOe111S/huZntVtruWdFTyBuFzFAx3rtDYbb9N/Cj4J/Br4D%2BHZvB/wADvhJ4Y8GaTcXrXlxpfhTQbfTraW4ZERpmjt0RWkKRxqXIyQijOAK%2BWf2zdXOkf8FjP2LgzYju/D3xPtpD/vWGjlR/30q1y4yfs6HN5x/GUV%2Bp7vDmG%2Bt5p7LvTrP/AMBoVpf%2B2n2bRRRXUeEFFFFABRRRQAUUUUAFFFFABRRRQAUUUUAeZ6l%2BzJ%2Bzb8aNH0HxT8Yv2e/A/izU7fw/a2sGo%2BJfCdnfzxwKpdYlknjZggZ3YKDgF2OMk1S/4YH/AGFf%2BjLPhL/4bnTP/jFcn8Xv%2BCkH7F/7H0vhz4aftF/GX/hHdbvvClnqdrZf8I7qN3vtX3xLJvtbeRBl4ZRtLBvlzjBBPIf8Pzf%2BCWX/AEdF/wCWTrn/AMhV4uIxfDtOvKNedJTT15vZ3v53V7%2BpovEPEZUvqkc4nSVPTkWJqQUetlFV4qO%2Byit9tT1v/hgf9hX/AKMs%2BEv/AIbnTP8A4xXp2gaBoXhTQrLwt4W0W003TNNtI7XTtO0%2B2WGC1gjUJHFHGgCoiqAqqoAAAAGBXyt/w/N/4JZf9HRf%2BWTrn/yFX094B8deFfih4E0X4l%2BBdU%2B3aJ4i0i21PR73yHi%2B0WtxEssUmyRVdNyOp2soYZwQDxXRgcRk9aclg5U20teTlvbz5UtL9xS4uq8Sfup5jLE8mtnXnV5b6XtKrUtfa6SvtfoeE/DD9hfxX4A8eeFNa1P4z6bqGg%2BB/ih4q8X%2BGtLh8ISQXYXXf7Wee0uLk3rpKYpdVYpKkMX7uEIyFmMg8j1r/gjDLr3inx74kvPjt4diuPGXgLx/4X/tq1%2BF6JrdzH4mkVxcarqJvi%2BqPZbRHCgW3Tyxt2pgMPdrD9vz4R6vp1jNpPhTxHNfXWi%2BLdSu9Jl%2BwW8ulp4cvVsNRju5J7tIIGF26QIzS%2BWxJYusau68J4N/4KfeB/jtN8ONR%2BAkFnLY678Z9R8DeN4L%2B%2BsdSl082/g3V/EKG2udKvrizldjaWB3pPMgSaaNgkqnyvSIOuk/YYD%2BIdV18fFDB1P466T8RzENE/1f2LSNP037Bnz/AJt/2DzPOwNvm7fLbbubvPjX8DtQ/aA/Z5134JeP/GMVvf61YNGniDQ9LMAsrpJRNa3UUEssuWhlSF9rOyu0ZzgNgfPHi3/gqtK/wQ8KeNfhF8Kdf8R3uqQfD2TxH4pl8PwW%2BjaK3iS705UguYBqTXMdw1re%2BaqQG6igaaDzZmUkt9IfGH48eH/hJ8AvHnx9utG1K5sfAXh/WNUvrK40%2Ba0luBp0MssqxidFLK3ksElUNG4IZGZSCQDnfgL%2Bz/8AFD4U6v4i8d%2BNfi1ofiHxV448Wxat401Gy8HzWFpJawaZFYW9lY27X0zWmz7PBKZJZbkszXA2qJU8ni/2cf2S/wBqf4H6L44v/Fn7THw/8WeMfGt2dRu/Gdz8Ir2Cea%2BDgQi5jOuyLLZwQAW8NpCbcRqAwcu0jPt/stfGz4/eIfip4m%2BA37So8I3PiLRvBXh3xXa6l4L0q5srQWuqyalAbJo7m5uHeW3n0ubM4dFlSaMiKMhlrmvGX7RP7VHwy%2BPGv/CO%2BufA3jSWT4X%2BIvF2j6V4X8KX9ve%2BHjaTQx6ZDfs19OL0XhkmjQxpauz2U3lo6q5iANvwN%2By1%2B0N8MPDvi3V/BHx88DDxt4/8fP4n8W6tqvwruJtHLHS7XTVhs9Oi1eKW3PlWVuzSSXU7O7TlhiRRHwOof8Eq5bD4ZWvwb%2BH/AMfjpvh3XPhNZfDj4pQ6j4UW6n8Q6Fb3F5MEs2juYU0uUjU9ThB8u4jSK7VVjBiRq2vgP%2B038dPi1%2BzV4h8V6h8YfDEHxB8PwWV1r%2Bjn9nbxPa3Xh5ZLdJntptAm1L%2B0r13AlEMsLIsm3KJJtIPj3xJ/4KnftIeHP2fvBfxM0jw34dtL7WPDvjnUtQvP%2BFcazrC3kmg6mlnawvplpdpdaBHdxMZp7i/d49LcC2usSmgD6%2BsvgHcw/tL%2BIv2lb/xktze3/gax8M%2BGtObTcJocMVxc3N1KH8w%2Bc1zLLbFxhAFsIBycseI8OfsyftK2HjnxP8cvEX7RPgm8%2BIGr%2BGNN0DRryy%2BFlzbaLaWlpey3Re5sTrEk95OxnlRXF3EsQIKJkvv8v1j/AIKG/HC1/bA0n4NR%2BH/DVtoN34r8O6M1mPD1/exXUOpaTFey3Y8SQzjTLOaOWR4otNmiNzdLDG8Xy3cJGN4C/wCCqviDxl8I/G3x6sfEfhW7jXwpqWrfDr4cy%2BB9X067uViv47K2mk1m4m%2By6jGJJrdbtbK3/wBDkuljZ3ZAZAD1hP2B9S1X4BeIPgx4z%2BL1rdT%2BPPifB4v%2BIl5pfhb7HZanEL61uLrTLa0NzIbS3uIrRLeRnlndhNcOxZ5cj0z4kfAf/hZnx0%2BHPxa1rxVjTPh1Jqt/ZeHfsO4XOr3VqLKC%2BM2/5PItJtRiEext5vg29PKw/i8/7ZPx48A6b49%2BCXji08I%2BI/i7oviSx0XwRJoGj3Wn6VrTX%2BmLfR3U1rLd3E1vFaIl7JcqLhy0NjujZXmSJea8T/8ABR/4wD9nT4B%2BOfAfhDwze%2BLfH2m/DvXPick9tcf2foOk%2BIdT03Tn8hFm8xbiae%2BmFqsjsoSyuXcyeTskAPVp/wBlT4wa3%2B1z4r%2BOnjD4yeEb/wAD%2BLfAkHhG/wDA0Xw%2Bu4b8afC99LGf7S/tZozIZb%2BXe32QBo1VFVGzIeZ%2BBn7B3xe%2BAdi%2Bo%2BE/2gPCU%2Bv6N8PND8DeB7u5%2BF8iWNlo2mXLyxm/tYdTRr%2B7ZZGXzYprWKNstHAu51avpX7Yvx61T432EsWm%2BEB8PfEPxg1r4aaHYNpl0NXttQ0/T76b%2B057r7SYpIJLvTbm3%2BzJbq6pJFL5zfNHWJ40/a1/bN%2BH%2Bi/GXwVYweC/H3iv4dab4Wnstc8EfDjV5bSC81O9kju9Mn0uLULi5u7m1s0gvdsFwjvHew7o48qZADdsf%2BCdfivw7b6B8Q/Cvxk8NL8TtH8a%2BIvEcviLVvh21zorya3F5V/bw6Wl/FJbxlUgKsLtpN8btI0vnSBs3R/%2BCWbeDfDmg/CvwJ8entvAv/CL%2BD9E8d6LqXhgXF7rsfh2bzLeS3ukuYksDcIEguF8idTDGiwiBgXKfFb9vvxn4I/YvvfiF8KvGHhP4h/FCa31xdKtx4K1LQLKyk0yKS4vpdR0u7u5L2zS0hRRJHLLG8k0tvEDCbmMjpvjB%2B0T%2B0h8O7H4ZfE7R9b8BXejeONc8L6MvgF/Dd62tarcajPEt7NaXq3wjiW1tnnvDG1rL%2B5sZi8sakugBe%2BJH7Ffjj9ob4g3eq/tKfGPRdY8LR%2BG/Emg6NoHhXwXLpN2LHWIBbTR3t5Lf3IutluAAI4rdGlCyspKIq894H/4Ji%2BGdTvLnWv2lfiK/ifUI9K8NaZoM/w8j1LwSNNt9CTUksZg2nakZ3uSNWuw7iZIioiVII/L57n4bfFz49aj%2B2T8Uf2ffHd94QuNE0PwN4f8SeCpdI0S6t7qBNRvdbtWgvpJLqRLkr/ZcThoo4Mea64bAauW%2BEf7X3xT0X9nzx343/aDs/D2veLvCfxJ1Dwho2neBtKn06LxDfLPFBY2sMV1c3LRyzSzJGXaQoozIwRFbaAdd%2BzX%2By9pH7HH7Ia/ADRfGeq%2BIItI0/UZG1XWNRu7iWZpnllOPtVxO8ajeAEEhXIJABY0vjj/AJSF/C//ALIz48/9O3hCqv7KPxl%2BKHx8/YwX4lfGm00GDxTL/wAJDp2tJ4Xt54tPMtjqN7Y7oUnkkkCstsrfMxOSenQWvHH/ACkL%2BF//AGRnx5/6dvCFAHs1FFFABRRRQAUUUUAFeM/sH/8AJENc/wCyzfEf/wBTXW69mrxn9g//AJIhrn/ZZviP/wCprrdAHs1FFFABRRRQAUUUUAFFFFABRQSAMk4A6mvJPi3%2B3n%2Bxj8C2kg%2BKf7TXg3S7mEnzNP8A7binu1/7d4S8v/jtZVq9DDw5qs1Fd20vzaMMRicNhIc9ecYLvJpL8Wj1uivkm4/4LS/sca2Xg%2BC%2Bk/EX4lXAysVv4G%2BHd/O0r/3VM6RAknjrioI/jP8A8FZP2jJBL8Hf2bPB/wAGNAc5j1j4p6m%2BoapPH2KWVpgQN2KTZ4zz0rzv7awE9KDdV9oJy/FWivnI8p8Q5XU0w0nWfanFz/FJQXzmfXtFfJTfs6f8FdNdHl6r/wAFG/Buhh%2BGfRPhFbXLIPVftEgyfrTR/wAEwvid44PnfH3/AIKV/HPxCx5ltPDWuQ6BZyn0aC3RuPYMKf1/Gz/h4Sf/AG9KEV/6VJ/gP%2B08xqaUsFP/ALelTgv/AEqb/A%2BtndI13yOFA6knFVdT1/QtFsJdV1jWrS0tYELz3NzcrHHGvqzMQAPc18U/Er/gmJ/wSN%2BFMK6l%2B1H4q89yNyXXxH%2BL15A7n1GbqLcT7CvF9e8Nf8GzngHWYobbSdL1m/jkzDZ6Hf8AiXVlkI7YjkkicezHBrjxGb4vDO1ZUYeUq2v3KB9JlHCvijxDDnyvJp1ovrD201/4FHD8mnW0/mj6/wDin/wVj/4J8/CTUP7D1n9pTRtX1Jn2R6b4Sjm1iV3/ALn%2BhJIqt7Mwrkh/wVU1fxr8nwC/4J9/Hjxcrf6rUrrwgulWEvptuLiT%2BaiuS%2BFf/BQH9iT4Taf/AGR%2ByR%2BwN8ULveuyOP4f/BQ2/wBo93kbyi3qWbJ7nNdd/wANi/8ABSD4kfJ8Gf8AgmNc6Nayf6vWPiT4%2BtLHZ6b7OMGb8mrl/tSvX2xK9KVGc/8AyaSt89D3F4S%2BKb97MZUcFH/p5PD0rfOviXN/KjfsmH/DSH/BWrx5x4H/AOCdnhLwdE/%2Bpu/HXxSgu8j%2B80Nkgdf93rQvgX/gtZ4sP23W/jt8B/CR6rZeHvDGo3649Ge6IOfpxQPh/wD8FoPiMfN8SftBfBb4cRP9yLwl4Uu9XmjH%2B0b4hC304ob/AIJ9fth%2BNl8j40/8FX/iVewyf69PA3h6w8OOR6I8G8p9cUcmMrfZxEvWVOkvuWof8QyyWj/yM%2BKaV%2BqpSr1X8vq%2BFpQf/gxevUjvPhb/AMFhtHgN9dftn/CAqva98BSxRn6sHyK5XxD8Vf8Agp/4OiaDxV%2B2R%2ByNp1uv%2Bs1HU572CWP/AIA0oT867Ox/4Ir/ALCN9cDVPiv4Z8WfEPUwOdW8c%2BO9Rurg%2BpPlSxoc/wC7XWeH/wDgk/8A8E5vDMqy6d%2ByL4RkKdBqFtJdj8RO7g/jR/Z2cS%2BFuPriKj%2B%2B1O33MP8AVPwow%2Bks3zKq%2Bvs6dOmn6OtXnK3rFPyPlTxl%2B2H8bNDR5vGn/Bcz4IaIV%2B/H4J%2BHlvrm36YeQtXDH9sD4leNWK%2BG/wDgqt8bviHC3G/4Z/sxw2gf2Vm2EflX6X%2BDf2X/ANmn4cuknw%2B/Z58D6G0f3H0jwnZ2zL%2BMcYNdyqqqhVAAAwAO1H9g5jU/iYi3o60v/SqkV%2BAf2f4Q4b4cFmGJf/T7H%2ByXzjh6T/CZ%2BS/l/tAeO%2BdPm/4KM6u79Hae18MwSe4JEgCmmt%2Bxd%2B2H8SMWn/DIPxz1W3k63nxW/aoh8n/gdvaxJKfwNfrXRR/qpRn/ABa0n8kvzlMPrPhvR/gcM0JP/p/icfX%2B9PEUov0cbeR%2BVXhb/gix%2B0c039r/APDPX7MuiPIdxTV9U8Ua5c59ZDcXDRM3%2B6AK9C03/gkD%2B0hqFoul3/i39m3wxDjm40H9nHTNSmH43ynd%2BJr9E6K2p8J5PTVkpf8AgVvygjopcU4LCaYPJMspduXL8PK3zqutf1d79T8%2B7H/ggV4H1qbz/iX%2B01qUrt/rH8C/DvQvDjH/AHTb2z7a7fQv%2BCEf7DOnQLB4ju/iD4i2j5m1nxzcAv8AUW4iH5AV9m0V00%2BGsip6/V4v1u/zf6Gz8QOK4rloVYUV2o4fC0V8vZYSD/8AJj5a0P8A4Ir/APBMnQWElv8Asu2dw/VpNQ8Q6nclj6kS3LD9K7bw9/wTT/4J/eGCp0z9jr4eSFehv/DFvd/%2Bj1evb6K66eUZTS%2BDDwX/AG5H/wCRZjW4%2B46r0%2BSpmuJce3t6qX3RqQX4HAWf7J/7LOnRLBp/7NXgCBEGFSHwbYqB9AIq2NB%2BCfwZ8Ky%2Bf4Y%2BEfhjTXznfYaBbwnP1RBXT0V1xw2Gg7xhFf8Abq/yPEq51nOIi41cVVknverUd/W9R3EVVRQiKAAMAAdKWiitjzQrxn9l/wD5Lf8AtHf9lmsf/UK8L17NXjP7L/8AyW/9o7/ss1j/AOoV4XoA9mooooAKKKKACiiigAooooAKKKKACiiigAooooAKKKKACiiigAooooAKKKKACvg3/gpXqn9h/wDBVr9iDVN23dqXjK1z/wBdxokWPx3V95V%2Bdn/BYu9l0f8A4KF/sR66nCWvj3UhO392OTU/DkbH/wAerzM4lyZdOXblf/k9M%2B48OKCxPGmGov7arx%2B/C4v/ACP0Tooor0z4cKKKKACiiigAooooAKKKKACiiigAooooAyvA3/Ik6P8A9gu3/wDRa1q1lDwZoaZWBr6FMkiK31a5jRfZVWQKo9gAKX/hD9J/5%2B9V/wDB5d//AB2gDUorL/4Q/Sf%2BfvVf/B5d/wDx2j/hD9J/5%2B9V/wDB5d//AB2gDw/xB/wTT/Z88S%2BI/jN4l1DV/Ewl%2BNunW1nrlumow%2BTogiUlpNNQwkQNNORczCXzUlmVSylfkL/BX/BO74c%2BFvF0fxC8QfGLx94p8QH4nSeO7zWPEF7p/mXept4Vn8L%2BWyWtlDEluLCcsscSR4mRGzs3Rt7b/wAIfpP/AD96r/4PLv8A%2BO0f8IfpP/P3qv8A4PLv/wCO0AfOX/DqT4MWfhfQPAPhz4z/ABI0jw7pFj4Qh1TQdO1PTxB4gm8NNanTLu8Z7FpRNtsrZJfs7wRypEoZPlXH0DrHw60jxb4H134dfEK%2BufEek%2BIob621K11SOFQ1ldB1ezHkRxgxLG5jUtmQqBvd2yxuf8IfpP8Az96r/wCDy7/%2BO0f8IfpP/P3qv/g8u/8A47QB5n8Dv2PdL%2BBcmpazp3xz8d%2BINf1SHRbG68UeJp9NnvjpGlSSvaaSPLso4vsw%2B0XYZzGbljeTOZ/MKyLnfCX9ia4%2BD3jvx/4/0H9qv4l3118RdQvb/WY9Wg8Pym3upl8uCSGddJW422kQSK2hllkhjRAGjfnPrv8Awh%2Bk/wDP3qv/AIPLv/47R/wh%2Bk/8/eq/%2BDy7/wDjtAHlPh79jbUPDQ8S%2BJNP/as%2BJjeNvFb6cmq/ESaPQW1P7HYif7NYpB/ZX9npApurlsfZN5ad2L7tpHM6j/wTO%2BGjaBZaf4U%2BOXxI8O6qNN1%2Bw8R%2BKNI1HTmv/EkGtXovtSW8%2B0WMsKNJcgyK9tFbvDuKQtEnyV75/wAIfpP/AD96r/4PLv8A%2BO0f8IfpP/P3qv8A4PLv/wCO0AeKWn/BOj4OaT47h8QeHfHPi/TPDK%2BJNE8Q3Xw3tL20OiXeraRaWdrp945ktmvFaKPTtPPlx3KQu9nG7xsxcvTj/wCCZPwIubbVtA8TeMfGGs%2BHrrwvrnh7w54Xvb%2B1is/Cmn6tcRXF5HpzW1tFOGMkEBjkuJZ3gEKrE0a5B93/AOEP0n/n71X/AMHl3/8AHaP%2BEP0n/n71X/weXf8A8doA8c0//gnR%2BzTrfhzWdK/aF8K2vxm1PxBrX9q6p4k%2BLPh3SdSu2uVs4rKJoo47KK2thHbwRoohhQffdtzyOzctqv8AwRy/4J5a98BvBPwC139mzwje2vgOw0Cy0jxHd%2BDtJk1ea20q%2BhvVhmuGtCGjupY5ftSKqrMLy64Uylh9Gf8ACH6T/wA/eq/%2BDy7/APjtH/CH6T/z96r/AODy7/8AjtAHktp%2Bwn8OtO%2BM7fF/S/iL4utreHxDe%2BJNH8HRXFidI0nX7vT5NPn1a3RrUz%2Be0E1x%2B7kmktg9xLIIQ7bqp/AX9hjUv2dfg9qvwd8CftifFSeLUZxdQeINUtfDUup2d41ybm5vPOXRlW6uLl2YTSXiXBYMSuxvmr2b/hD9J/5%2B9V/8Hl3/APHaP%2BEP0n/n71X/AMHl3/8AHaAPDfEv/BL/APZJ%2BJPwh1r4XfHXwHafEe/1%2B51a8v8Axx480PTL/Wor/UYYoLi9tpDaCCzlEVvaogghjjUWkPyHZTtK/wCCd3grwj8XvB3xW%2BGXxx8b%2BFLfwL4QtfDPhvwfolh4fOj2enRyB50hhuNKlktnutka3EkEkTusUagoEXHuH/CH6T/z96r/AODy7/8AjtH/AAh%2Bk/8AP3qv/g8u/wD47QB5t4d/ZPu/Dv7Vuv8A7WC/tJeP7u88RaBaaLe%2BELq30P8AsiOxtJL2W0ij2aYt2PKl1C6kDG5ZmMgEhdFVRzvwu/4J2/Cfwr4V8WeA/jj4z1f43aF4v8UHxHfaJ8YPDfh2%2BtLbVGLGW5his9KtVDPuXIcOE8tfLEeX3e1/8IfpP/P3qv8A4PLv/wCO0f8ACH6T/wA/eq/%2BDy7/APjtAHnHwQ/ZU%2BC37Gv7OOrfBb4DeE7XSNDEusao0FtYW1vvnu5Zrh9y28UaEJvWFPlysUMSEnZmqnjj/lIX8L/%2ByM%2BPP/Tt4Qr1E%2BDNDfCztfTJkExXGrXMiN7MrSFWHsQRXl3jj/lIX8L/APsjPjz/ANO3hCgD2aiiigAr5%2B/4KXHTB%2BzXa/8ACaeX/wAIV/wsLwv/AMLI%2B0f8e/8Awj39s2n237Vnj7H5f/Hzu/d/ZvP8z93vr6BooA%2BC/BFp8L/H37AXxa%2BF/wAP/jL4K8LeBI/Hepat4CbVtajtdEPhGHWIpHidkb9zod1PBqFmJowYRazHyg0YRT5hofxX/ZV%2BG/7KvjjxB%2B0z8HvgdrHhDxH8dZbD9m7wSdStZPBTSSaDpyTPY3l9BDAmnx30erTS3wgjUEXTQI5khST9Q6KAPJ/2dNF8T/D79ivwJ4Y%2BF3j7RPilquieANLstL8T3/iR4bDxJJDaxR/azexR3biOXaXEgSdiCMliS1Yf/BOm48S3f7N19deMtJsbDV5Pi38Q21Ox0zUXu7a3nPjPWvMjineGFpkDZAdooywAJRc4HuleM/sH/wDJENc/7LN8R/8A1NdboA9mooooAKKKr6rqul6Fplxreualb2dlZwPNd3d3MscUEagszu7EBVABJJOABQ2krsTaSuyxQSAMk4A6mvlHxn/wVq%2BD%2Bu%2BIrj4c/scfDLxV8dfFEDbJIPA9iV0q1fsbjUpQIY0P/PRPMXnrWGP2N/20P21GGq/t/fG3/hEPB853D4NfC29aGOaP/nnqOo5L3HHDxxkxk8oyHivJlm1KrLkwcXWl/d0gvWb935R5n5HiTzyjWk6eAg68u8dIL/FUfu/KPPLyPR/jr/wVC/Yz%2BBGs/wDCF3fxP/4SzxW7mO28G%2BAbVtY1KaUf8stkGUjf/ZkdDXnqeJf%2BCp37Zbj/AIRHw9p37Nvgac8alr0Car4ru4vVbY4hs8jIKyYkQ4ILV9D/AAL/AGWv2dv2ZtF/sH4C/BvQPC8LRhJptMsFFxcAdPNnbMsx4HLsxrc%2BJnxe%2BFXwX8Ot4t%2BLvxH0PwzpiZH27XdUitY2I/hUyMNzf7IyT6VE8NjK0XLGV1CHWMPdX/b1Rvmfy5Ea4fJ88zmvGjVqNuTsqVBSvJ9uZKVWXpCMLnzT/wAOfPhF43/e/tL/ALR/xl%2BKhk5uLHxV4/njsT6hILYR%2BWvsGNetfCP9gP8AYr%2BBQik%2BFv7MXg3TbiHHlahJosdzdrj/AKeJw8v/AI9XlOq/8FdPhP431Gbwz%2Bxz8EviD8bNUikMZuPCXh6W30qGQdpr65VFjXP8YVl96r/8I3/wWA/aQ58R%2BNfAP7Pugz9bPQrYeI9eVT1R5ZCLVTjgPHgg5OOlcVKeRQnzYOh7WfeMeb/ypN8v/k7P0TDeDVbKpKvm8MPl63vippVreVFe3xT8r06fqj6p8T%2BLfBnw88PS%2BIvGfibTND0q0T99fanex21vCo/vO5CqPqa%2BavGH/BXj9mR/EE3gT9nLQPF/xo8RxHa%2BmfDHw7LfQxE9Gkum2wiP1dGcCm%2BFP%2BCQX7MNxrkPjb9o7xB4y%2BM/iGJt66l8TPE015FEx6iO2QpCsfojK4A4r6W8G%2BBvBXw60CHwp8PvCGl6FpdsMW%2Bm6Pp8dtBEP9mONQo/AV3/APC1if5KK/8ABkv/AG2C/wDJj1v%2BNZZJ/wA/8xqL/uUoX/8AK2Jmv/BN/I%2BWh8V/%2BCv/AMcePh5%2BzT8Ofg9pkvS/%2BIfiaTWL/wAvs6QWICI/%2BxL06H1pf%2BHdv7T3xY/e/tU/8FLviPqsMvM2i/Di0t/DFpj/AJ5M0Ad5U7ZbBI96%2BuKKf9j0an%2B8VJ1P8Uml/wCAw5F%2BYv8AiI2Y4PTJ8HhcEujp0ITqf%2BDsT9ZqX81yflb50%2BGH/BJv/gn38Lbo6rZ/s36Nr%2BpSNvuNU8ZtJrM0z/32%2B2NIgb3VRXunhL4f%2BAvAFn/Z/gTwRpGiW%2BMeRpGmxWyY9NsagVr0V2YfA4LCK1ClGPpFL8bX/E%2BazfijiXiCfNmeNrV3/wBPKtSa%2BSc%2BVeVoqwUUUV1HhBRRRQAUUUUAFFFFABRRRQAUUUUAFFFFABRRRQAUUUUAFFFFABXjP7L/APyW/wDaO/7LNY/%2BoV4Xr2avGf2X/wDkt/7R3/ZZrH/1CvC9AHs1FFFABRRRQAUUUUAFFFFABRRRQAUUUUAFFFFABRRRQAUUUUAFFFFABRXLfG3wRY/Eb4Ua74N1LX9e0uC7sSXvvDOv3Wl30ewiQeVdWkkc0JJQKWjdWKlhkZr5mf4vfE/Tf%2BCKPw/%2BK6fEXVofEOrfCPwX/b3jOa%2BaS/tYr6PTodR1RriQlvOjgnuLgzMSQybyeCaAPsKvzl/4Lk/6B8ef2f8Axd0/4R9dV1Hd/d2%2BIvCCZ/8AIlfT/wCxRcatofjX41fBuDxjr2veG/AnxMt9N8LXniXxDdateW0M3h/SL%2Beze9vJJbi5EdzdzsGlkdkEwiziNVHyF/wXK8W%2BKdev54r34QeItEh8I/C3XbvSte1S5057TWseLfAwZ7Vba7lnQIPvfaIoD8w2hvmx5We/8ibEPtBv7rP9D7/wpa/4iXlEH9vEU4f%2BDOan/wC5D9OKKZbXEV3bx3UDbklQOjeoIyKfXqnwLTTswooooEFFFFABRRRQAUUUUAFFFFABRRRQAUUUUAFFFFABRRRQAUUUUAFFFFABRRRQAUUUUAFFFFABRRRQAUUUUAFFFFABXjPjj/lIX8L/APsjPjz/ANO3hCvZq8Z8cf8AKQv4X/8AZGfHn/p28IUAezUUUUAFFFFABRRRQAV4z%2Bwf/wAkQ1z/ALLN8R//AFNdbr2avGf2D/8AkiGuf9lm%2BI//AKmut0AezUUUUAY/xB8f%2BDvhV4G1b4k/EHXoNL0TQ7CW91TULk4SCGNSzMccngcAZJOAASQK%2BMdG8H/G7/grtqVr40%2BLNjq/gH9m6OdLnQvBvmtb6t49VSGjub5kOYLI4DJEpy4wwJ%2BSUX/2g7y7/wCCk/7WQ/Yv8L3UjfCH4YX8Go/GfU7dyI9b1NG322hK4%2B8qsu%2BbB4KkfK8abvtOzs7TT7SKwsLWOCCCNY4YYUCpGijAVQOAAAAAOleG4/2xXlFv9xB2t/z8kt7v%2BSL0stJSve8Y2fzkovP8TOEn/ssHytL/AJezT95N7unB%2B60tJyUrtxjZ5vgjwJ4J%2BGnhm18F/Dzwlpuh6RZRhLTTNJskt4IVHZUQAD8qqfFH4sfDT4J%2BCrz4jfFvxxpnh3Q7BN11qeq3SxRKeygn7znoEXLMeACeK8a/bC/bst/gd4isP2ffgN4Mb4g/GbxJH/xT/gmxk%2BSyjI/4/dQkBAtrZR8x3FS4HBVcuvKfCz/gmtf/ABA8aWXx7/4KJ/Er/hbXjS2bzdM8OyQmPwx4eY87LWyOFmI6GWUfPhSU3DdW1XHTdR4bAwUpR0b2hDybW7t9iKvtdxP1/KuDsBgsspZpxFXeGw01elThFSxFeK0vSpu0KdK65fb1nGndP2cKzi7c%2B/7R/wC2N/wUPuDov7FOj3Pwu%2BFkrlLr4zeK9MP9o6tFnB/sixfBCkZxPJjg8GN12ntvhn/wSU/ZD8I%2BIk%2BIHxW0bWviz4s4Mvib4q6xJrEznrxDJiAAHkZjJHrX0zDDFbxLb28SpGihURFwFA4AAHQU6inlFGclUxb9tPvJe6v8MNYpfKUu8jXGeIeZ4ehLBcOx/s/C2ty0pP2tRd6%2BJtGtUk%2BqUqVJbRpJauvpWk6VoOnQ6PoemW9laW6BLe1tIVjjiUdFVVACj2FWKKK9VJJWR%2BfylKcnKTu31YUUUUxBRRRQAUUUUAFFFFABRRRQAUUUUAFFFFABRRRQAUUUUAFFFFABRRRQAUUUUAFFFFABXjP7L/8AyW/9o7/ss1j/AOoV4Xr2avGf2X/%2BS3/tHf8AZZrH/wBQrwvQB7NRRRQAUUUUAFFFFABRRRQAUUUUAFFFFABRRRQAUUUUAFFFFABRRRQBjfEH4dfD74teDr74d/FTwJo3ibw/qkax6loXiDS4r2zu0DBwssMyskgDKrAMDyoPUVz3gL9l39mb4V%2BF5fA/ww/Z18CeG9Fn02bT59H0HwjZWdrJaTMWmt2iiiVDE7ElkI2sSSQa7qigDB%2BGvwr%2BGHwY8IW/w%2B%2BD3w40HwnoFo7taaH4a0eCws4Wdi7lIYFVFLMSxIHJJJ5r4q/4LVaN/b2kXdjs3eX%2Bzn47uMf9cde8FzZ/8cr7zr44/wCCoWjf2/rmqaaE3Mf2TPivIi%2BrR3HhWRR%2BaiuHNIe0yyvHvCf/AKTI%2Bq4ExP1PjjKq/wDLicO//K9L/M%2BoPgprP/CR/Brwl4h37vt/hiwuN3rvt42z%2BtdPXln7DWs/8JD%2BxX8IdcL5a6%2BGWgySH/aOnwbh%2Bea9TrfCz9phac%2B8Yv74xf6nl59hvqWfYzD/AMlarH/wGrVj/wC2hRRRW55IUUUUAFFFFABRRRQAUUUUAFFFFABRRRQAUUUUAFFFFABRRRQAUUUUAFFFFABRRRQAUUUUAFFFFABRRRQAUUUUAFeM%2BOP%2BUhfwv/7Iz48/9O3hCvZq8Z8cf8pC/hf/ANkZ8ef%2BnbwhQB7NRRRQAUUV5/8AtL/HG5%2BAPw1i8WaL4RXxBrWq%2BIdL0Hw3ocmo/Y473UdQvYrSBZZ/LkMEKtL5ksgjkZYo3KpIwVGAPQKK%2Bfbn9ui60L9l7xT8bvFvwpjtPE/g7xifCOt%2BErfxEJLSPWH1KCwgxqDwJiykN1a3BuWgVo4JSzxBkaOsKy/4KA%2BPfEF83wd8H/BDw3qXxctfiTeeDtW8Lp8Q5F0SznttFh1qW6OqjTmmaEWl1aJj7EJBc3HlMqqjyqAfT9eM/sH/APJENc/7LN8R/wD1Ndbrs/2d/jRo/wC0T8D/AAv8bdD0e502DxJpEV2%2Bl3rK01hMRiW2kK5VnikDxsVJUlCQSCDXGfsH/wDJENc/7LN8R/8A1NdboA9mr5s/b%2B/ar8dfDkaH%2Byx%2BzFBFqPxm%2BJW628NQn5o9CsuRPrFzwdkUShymQdzqcBwjKfcvi58R9E%2BDvwr8S/FnxK2NP8M6Dd6re/NjMVvC0rAe5C4Hua%2Bcf%2BCXXwT1zVPA0/7enx0uf7U%2BKHxlsotUvLySLCaRo74ey021UkmOEReU57sSu7dsBPlZhVrVascFQdpTTcpfywTs2v70m%2BWPbWX2UeLmlbEV60Mvw75ZVE3KS3hTTSbX96TfLDs7y%2BykewfsgfsteCP2PfgXpfwZ8GXMt7LCz3eva5dD/SNY1KXDXF5MSSSzt0BJKoqLk7c15/8At5ftb%2BNPhbLon7Mn7MlhDrPxo%2BIm6DwvYuA8Wi2vIm1e74ISGIBiu4EOyHhgjCvQf2wv2nvCX7IP7P8Arvxv8VW5u5LGIQaJpERPm6rqMp2W1pGBkku5GcAlUDtghTXnv7AX7J3i/wCF1lq37TP7SV6ur/Gf4kol34t1B0%2BXR7cgNDpFsMny4YVCqwU/MyDlgiEY4i6cMtwXuWiuZr7ENtP78tVHt703eyv%2Bq8HZLk%2BQZN/rDmVJSw9GXs8PQe2IrxSlaXX2FFOM67vecnCgnzVajj1H7G/7E/w8/ZF8MXl1a6jdeJfHPiNxc%2BOPH%2BtMZdQ1u7PLFnYkpCGzsiBwBySzEsfaKKK9XD4ehhKKpUo2iun9bt7tu7b1bPl84zjM8/zKpj8wqupWqO7k/uSSVlGMUlGMYqMYxSjGKSSCiiitjzAooooAKKKKACiiigAooooAKKKKACiiigAooooAKKKKACiiigAooooAKKKKACiiigAooooAKKKKACvGf2X/APkt/wC0d/2Wax/9QrwvXs1eM/sv/wDJb/2jv%2ByzWP8A6hXhegD2aiiigAooooAKKKKACiiigAooooAKKKKACiiigAooooAKKKKACiiigAooooAK%2BZP2y9G/4SP9oDTfD2zd9v8A2ZPijb7cdd934VXH619N14d8VtLj1z9u74d6LNjZefA74gQNn0fVPCKn%2BdZ1Ye0pSh3TX3pr9Try/E/U8wo4j%2BScJf8AgM4y/wDbSj/wSv1n%2B3v%2BCdvwgvt%2B7y/Bdtb5z/zx3Q4/8cr3%2Bvlb/gidqkmqf8Ex/hibgES2sOqWsqHqpi1W8QD8lFfVNcOTT9plGHl3pw/9JR9V4k4ZYTxEziivs4rEL/ytUf6hRRRXpHxQUUUUAFFFFABRRRQAUUUUAFFFFABRRRQAUUUUAFFFFABRRRQAUUUUAFFFFABRRRQAUUUUAFFFFABRRRQAUUUUAFeM%2BOP%2BUhfwv/7Iz48/9O3hCvZq8Z8cf8pC/hf/ANkZ8ef%2BnbwhQB7NRRRQAV59%2B0v8Drr4/fDWLwnovi9fD%2BtaV4h0vXvDeuSad9sjs9R0%2B9iu4Glt/MjM8LNF5UsYkjZopHCvGxV19BooA8N%2BH/7K3xG8EfCPxj4B1T4meD/EOqeOrrUtV8RX2vfDuSfT7vVb2ZjIZLE6jh7BbYQ2y2hl8zZDue5dmJrhPA//AATT1H4Q%2BHNK8R/BL4m%2BEfC3xD0/x7eeKJdV074ZiLw47XOkx6RJYRaLBfRNBarZ29psVbveJrVZXeTfIj/VtFAHnPwp/Zi%2BGvw7/Zm0T9lrxNpVr4w8PaboMenarH4m06G4j1lvvTTXEDKYmMspaVk27QWwAABXI/8ABOnwx4a8Ffs3X3g/wb4esdI0jS/i38Q7TTNL0y0S3trSCPxnrSxxRRIAsaKoChVAAAAAr3SvGf2D/wDkiGuf9lm%2BI/8A6mut0Aebf8Fh/EGr6p%2BzBpX7N3hS8aHW/jL480jwdYvFy8UU9wJbiTH9wRQsrE8ASV9ReHPD%2BkeEvD1h4V0CzW3sNMsorSyt06RQxoERR7BQB%2BFfKHxN/wCL%2Bf8ABYH4f/D9f32kfBT4eX/ijUR1j/tTUmFpbxOP76xATLnpyRXZf8FOvj54q%2BDP7Ncvg34UM0nxB%2BJeqQeEPAdtE%2B2T7deny2nBHKiKIyPvxhXCZ614MMTTpVcXjp/DC0F58i1S83UnZediODMkxfFvF8sLhrKVWpChFv4YxguapOT6Rg5VJzfSNKT6Hm3gr/jY7%2B3dL8Urj/Svg58AdWksvCqHmDxD4sAHnXo7SRWowIz03lXUkO4r7Trgf2Xv2fvCP7LPwA8K/ATwTCgsvDmkx20lwsYU3dx96e4YD%2BKSVnkPu9d9XdluFqYei51tas3zTfm%2Bi8oq0V6N9WfZ8a57hM3zOGGy5OOCwsfY4eL0fs4tt1JL/n5XnzVqj7zjHanEKKKK9A%2BPCiiigAooooAKKKKACiiigAooooAKKKKACiiigAooooAKKKKACiiigAooooAKKKKACiiigAooooAKKKKACvGf2X/%2BS3/tHf8AZZrH/wBQrwvXs1eM/sv/APJb/wBo7/ss1j/6hXhegD2aiiigAooooAKKKKACiiigAooooAKKKKACiiigAooooAKKKKACiiigDyL9vr4heNPhR%2BxR8U/iR8PNZk0zWdF8DajdWWrwxhn00rA268UMCpMC7phuBXMfIIyK8i8HeMr74EeGv2ovBmhfGfxZc%2BE/hr4bg1bQvE%2BuaxdeJ9R0K5l0Bru6iSa9mkmu/LCQXiQSSNze7VKxtGq/Wt7ZWepWcunajaRXFvcRNHPBNGHSRGGGVlPBBBIIPBBrkfAH7OX7PXwo0iz0D4W/AjwZ4asNPa6awstA8L2lnDbG5Ci4MaQxqqGUIgkwBvCLuzgUAfNf/BMDUvjXoXxL8dfCr4369fm/t/h/4L8QWujN8UNQ8ZWka3y6rHJfpqWohZ4ZrmSzYPYoptoVtYpIZJftEhX0C/8AGniTxD/wU28F%2BHdW%2BEfiHQrPSfg944Sw17VbnTntNaDat4Sy9sttdyzoE2jP2iKA/ONob5seufCf4EfA/wCAulXehfAz4NeFPBdjf3P2m%2Bs/Cfh2206K4m2hfMkS3RA77QBuIJwAK4Txx/ykL%2BF//ZGfHn/p28IUAeY/8EXf9A/Y4u/CHT/hH/iR4k07Z/d26hI%2BP/IlfWlfJf8AwSU/4l/hz48%2BETx/Yn7TPi20jX/pnvt3U/Q7jX1pXk5FplFFdlb7pSj%2Bh%2BgeKvveIuZ1P56in/4MpUKn/uQKKKK9Y/PwooooAKKKKACiiigAooooAKKKKACiiigAooooAKKKKACiiigAooooAKKKKACiiigAooooAKKKKACiiigAooooAK8Z8cf8pC/hf/2Rnx5/6dvCFezV4z44/wCUhfwv/wCyM%2BPP/Tt4QoA9mooooAKKKKACiiigArxn9g//AJIhrn/ZZviP/wCprrdezV81fBHxx/wrL9hb4p/EnzvL/wCEf8cfFnUvMzjb5HivX5c/%2BO1FScaVNzlsk39yb/QirUjRpSqS2im36JNv8jmP%2BCW3/F3vGfx1/bWuf3i/Ef4mzad4duTz5uiaSn2S0dT2DEyggcZTvVX4Xf8AGaP/AAU28R/GmY/afAv7PVtN4X8JE8xXXia5UHUblexMMe2Aj18thUP7KXi%2BL9jf/giJ4f8AicxWCXQ/hVc69ZBwAHurzzbu3X/gc1xGP%2BBV6p/wTM%2BCP/Cg/wBh/wCH/hC/tmXV9Q0SPWvEUsxJmm1C9/0mYyseWdTII8ntGB0FfMYKnKvDCYaX8vtp%2Bcm7xX/gcnL/ALcifYeHsHw54Z4nPJf7xibYWm%2BzrweIxc15%2BxlCin09tLXU94ooor6o%2BSCiiigAooooAKKKKACiiigAooooAKKKKACiiigAooooAKKKKACiiigAooooAKKKKACiiigAooooAKKKKACiiigArxn9l/8A5Lf%2B0d/2Wax/9QrwvXs1eM/sv/8AJb/2jv8Ass1j/wCoV4XoA9mooooAKKKKACiiigAooooAKKKKACiiigAooooAKKKKACiiigAooooAKKKKACvGfHH/ACkL%2BF//AGRnx5/6dvCFezV88/F/x3Z%2BGP8AgqB8CfCl6yg%2BJfhF8RrW1z1M0V94Sucf9%2B4Zfy9qmUowV3/V9CZzjTV5eX4uy/FnI/8ABN3/AIlH7QP7U/hHp5Pxul1Hb/192sb5/HZX1pXyX%2Bxb/wASf/gpD%2B114U6KNV8H6jGP732jSZGYj8VFfWleXkumA5e06i%2B6pP8AzP0LxO97ix1f%2BflDBz/8DwWFf/toUUUV6x%2BfhRRRQAUUUUAFFFFABRRRQAUUUUAFFFFABRRRQAUUUUAFFFFABRRRQAUUUUAFFFFABRRRQAUUUUAFFFFABRRRQAV4z44/5SF/C/8A7Iz48/8ATt4Qr2avGfHH/KQv4X/9kZ8ef%2BnbwhQB7NRRRQAUUV8/f8FLjpg/Zrtf%2BE08v/hCv%2BFheF/%2BFkfaP%2BPf/hHv7ZtPtv2rPH2Py/8Aj53fu/s3n%2BZ%2B730AfQNFfnfqPij4cv8A8EzPjR4I%2BGPifT4fBU3ji/f4d2%2Bj3EbWdj4Un1uC3N/5CZL6BHc/b3cRgQvYRSpEwjKEeMSaT8K7j4e2XgnUviX8ErLwBF%2B0Nrs1h471zwbFN8Hr1f8AhErRkjtdHa%2BSGIefNLHGgv2QX9pqEwkeR/swAP13r4J/aI8bN4B/4I3fHXWUkKtdfET4i6YoHVvtnj7VbTA9cic19AfsSah8Qrf/AIJ0fCu78JeEJrrxFB8MNHjstK8deIZ7d7iVLSJAbq8FpJKu8DfvNtu%2BYZjU5A%2BSvjjceJfF/wCwJ4D%2BEHjDSbGy1f4jftm65omsaZpeoPeW0LP471yeZI5nhhaaJWhwJGijJGCUXOB5mdTlDKa7ju4tL1laK/GR4/EM5U8ixLju4OK9ZWgvxmj03/goL4NZP2ZvgF/wT104EP4/8W%2BHfDmqW0ZwRo%2BmxxT3jjHUJ5MJx6GvtyKKOGNYYY1REUKqqMAAdABXyPd/8X3/AOCy1rb/AOu0r4E/Ct5ievka1rL7ce26yXPrxX11WOVwjLEYistuZU4/4acVH/0py%2B4/V%2BLIRyjhnI8khpyUHiJr%2B/ipc0L%2Baw9GivSXZoKKKK9k%2BACiiigAooooAKKKKACiiigAooooAKKKKACiiigAooooAKKKKACiiigAooooAKKKKACiiigAooooAKKKKACiiigArxn9l/8A5Lf%2B0d/2Wax/9QrwvXs1eM/sv/8AJb/2jv8Ass1j/wCoV4XoA9mooooAKKKKACiiigAooooAKKKKACiiigAooooAKKKKACiiigAooooAKK8i/b6%2BIXjT4UfsUfFP4kfDzWZNM1nRfA2o3Vlq8MYZ9NKwNuvFDAqTAu6YbgVzHyCMivKfh14x8c/AjTf2mfBnwn8T%2BIvGun/DXQrXVvBKeKvEl5r11Hqkugm7k043d3LLcTIXS2uBG8jFf7QIXahjVQD6zr4E/wCCo/jmb4V/8FPf2J/iMrskMOr%2BK9KvJR92OHUZNBsmZvRR5wyTXpP/AATO8faxcz6j8OfiDZ%2BJZfFV38PfDHjK71rV/i3feKrfVLPUxfJDcBLgJDpVw0tpcNJaWcYtQDF5LyKmI/Cf%2BC0D%2BNviP4vK2vwh8Q6DdfDr4SeKPEPhvxJqlxp0lpqr2niLwZLJNarbXcs6BIVkz9oigPzjaGw2PNzhzjldWcN4rmX/AG61L/21nkZ%2B6kcmr1KfxQjzL/txxn%2BUGvme6fAj/iSf8FgPj1pfT%2B2/h54X1HH97yUkt8/rivrSvi%2Bz8b6f4b/4KtfDb40IV/4R/wCPvwMfTtGmJ4W/s5E1EDd0Ia2kUAdSx49K%2B0KyyeUXTrQXSpP7pNTT%2BaldH6t4gNYmplWOg7wrYHCNPo3ThOhL5xlS5X8gooor1z4AKKKKACiiigAooooAKKKKACiiigAooooAKKKKACiiigAooooAKKKKACiiigAooooAKKKKACiiigAooooAKKKKACvGfHH/ACkL%2BF//AGRnx5/6dvCFezV4z44/5SF/C/8A7Iz48/8ATt4QoA9mooooAKKKKACiiigAr84rT/itf2jf2bPhGvzxD9o74y%2BJbxe0f9n%2BJdZeFj9XdgPev0dr8uvg14rz%2B254x8T%2Bb/o3wo%2BHvxf13zc8Q3lx8QNeTHsTCm7PoK8fO5qOEhF7SnBfJS53%2BEGeXmmHqY76tgqfxVq9Cmv%2B3qsX/wC2o%2BjP%2BCTYPxQ0v4vftlXQ8w/Fj4qahNotyf8Alpotgxs7Jc99u2dfSvrmvnP/AIJH%2BFP%2BEN/4JvfCTSPK2ed4Y%2B3Yx/z9Ty3Ofx87P419GVpksHDKaPNvKKk/WXvv8Zfkfp3ibiaeJ8QMzVL%2BHTqyow8qdC1CmvlCivm33CiiivUPhQooooAKKKKACiiigAooooAKKKKACiiigAooooAKKKKACiiigAooooAKKKKACiiigAooooAKKKKACiiigAooooAK8Z/Zf/5Lf%2B0d/wBlmsf/AFCvC9ezV4z%2By/8A8lv/AGjv%2ByzWP/qFeF6APZqKKKACiiigAooooAKKKKACiiigAooooAKKKKACiiigAooooAKKKKAIr2ys9Ss5dO1G0iuLe4iaOeCaMOkiMMMrKeCCCQQeCDXKfDn9nn4A/B7T7DSfhH8DvB/ha10uW5k0y28OeGbWxjtHuAouGiWGNRGZQibyuC%2Bxd2cCuwooA5b4X/A34KfBC21Cy%2BC/wf8AC3hCHVrw3eqxeF/D9tp63lwRgzSiBFEj4/ibJ968a/an%2BHdt8Xv2o/DvwovFUxeJv2c/iXpUgfpi4vvCcX/s9fR1eM%2BOP%2BUhfwv/AOyM%2BPP/AE7eEKmcI1IOEtmmn6NNfqRUpwq05Qkrppp%2BjTT/AAbPiW68SeIPFf8AwRk%2BCH7Wug2csnif9n7xBp1/JbL/AK422m3r6bc2zeitbqjsD/DGK/TTw7r%2BkeK/D9j4p8P3qXNhqVnFdWVzGfllhkQOjj2KkH8a%2BNf2CPh5oOu6J%2B1R%2Bwx4uizpln8UtajS225MOka1bCSFQPZfNIPqa7j/AIJEfETXvFP7GOl/DLxvLnxL8LNZvvA/iKLPMU2nS%2BXEvPPFuYB9Qa%2BXyScqNanGX/LynZ/46LcH98LP5H1uR1J554L4WU9auWVnSl39liLpfKOJw0l5e1t1Pp6iiivqj5UKKKKACiiigAooooAKKKKACiiigAooooAKKKKACiiigAooooAKKKKACiiigAooooAKKKKACiiigAooooAKKKKACvGfHH/KQv4X/wDZGfHn/p28IV7NXjPjj/lIX8L/APsjPjz/ANO3hCgD2aiiigAooooAKKKKACvx4%2BEWrXWm%2BFv%2BCjfxUv22x6Tq/ijwppUuei3eva60y57fvLiP86/YevyC1zwzd6R/wTg/a%2BkhymofEf8AbR8TaPYyActEvixI1X35juB%2BNfO8SKX1JTX2VUl/5Sml%2BMz3%2BB8tWbeJ3DuHl8P12jKXpF8zb9LN/I/Tz9krwp/wgn7K3w08EmPYdI8AaPZsuO8dlChz75Br0GorGyttNsYdOs4wkNvEscSD%2BFVGAPyFS171GmqNGNNfZSX3JL9Dzcyxk8xzGvi5b1Zzm/Wc5zf4yCiiitDiCiiigAooooAKKKKACiiigAooooAKKKKACiiigAooooAKKKKACiiigAooooAKKKKACiiigAooooAKKKKACiiigArxn9l//kt/7R3/AGWax/8AUK8L17NXjP7L/wDyW/8AaO/7LNY/%2BoV4XoA9mooooAKKKKACiiigAooooAKKKKACiiigAooooAKKKKACiiigAooooAKKKKACvGfHH/KQv4X/APZGfHn/AKdvCFezV4z44/5SF/C//sjPjz/07eEKAPJbHUYv2bf%2BCw2sr4mjaz0T9oPwHZf2NqB4iuNc0hWja2Y9n%2BytuHqXVRknFV/A%2Bsw/sa/8FRPF/gXxfE1j4O/aKitNX8Hai2BbR%2BI7WLyryzJ/hlnUrKM/eYoq5JwPUf8Agon%2BzFrP7Tv7Ol1p/wAPLo2Xj7wjfQ%2BJPh1qsRCyWusWh8yJQx6CQbojngbwxB2iuJhsvAP/AAV//wCCemnapPKdB8R3Eaz213CGS58KeKbIlSy9HTy5gwxwzQydtwI%2BWrUK1HEyo0vjjJ1qX96%2BlSn97fpzRfRnq%2BHWc5dkWf4zI82bWCx8JKUkruCnOE/aRX2pYfERhVcd5Up1IrVpn1bRXz9/wT2/aq8S/tB/DbUvh78abBdL%2BK/w4v8A%2Bw/iNozYBNygIjvowODDcIvmKwG3O8LlQpP0DX0OFxNLGYeNans/vXdNdGndNdGmVn2SY/hzN62W4xJVKbs2neMk0nGcJbShODjOElpKEotdUiiiiug8gKKKKACiiigAooooAKKKKACiiigAooooAKKKKACiiigAooooAKKKKACiiigAooooAKKKKACiiigAooooAK8Z8cf8pC/hf/2Rnx5/6dvCFezV4z44/wCUhfwv/wCyM%2BPP/Tt4QoA9mooooAK8/wD2l/jjc/AH4axeLNF8Ir4g1rVfEOl6D4b0OTUfscd7qOoXsVpAss/lyGCFWl8yWQRyMsUblUkYKjegV59%2B0v8AA66%2BP3w1i8J6L4vXw/rWleIdL17w3rkmnfbI7PUdPvYruBpbfzIzPCzReVLGJI2aKRwrxsVdQDz%2B8/bkvtA/ZM8eftC%2BLPhGLbxB8N9Xv9I8V%2BFLPXTPa217a3CxNKL426H7D5UkV21y0CtHbsztCGRo687tf%2BCtXhu4%2BDtn48k0P4cxahqnxDvPC%2Bja1L8Xo08FX8drYpeXGqReIGsRvs03/ZCy2jP9tVoApVTKO2l/YW8car%2Bz/wCLfg74i%2BO1hNqvjPxF/wAJRrPiOz8HPEr68NUivkb7M966tpoS2tbQ2TMXeCJw9yxkLDJi/wCCefjyHXE%2BNi/G7wvJ8WE%2BKF141j8Qz/DiRtCimuNAh0GW1j0sakJkRrO3ikMn23zTcKXLGNjDQB9H%2BAde1LxV4F0bxPrNvpcV3qOlW91dRaJqxv7JJJI1dhb3RjiNxFknZL5ab1w2xc4H53fFzQNLb4A/Cz4Z6RbbW8Z/8FAPEkuqJnPmxJ428QSTOfoI4%2BPavtv4N/stfDn4Y/st6D%2Byh4q06y8Y%2BHdK0CPTNQt/EGkwS22pKPmffasrRLGXJKw4KooVRwor4i8F%2BGPDVj8b/wBln4DeDPD1jpejad%2B0D8ZtSstI0y0SC2sYNN8QawYI44kAWNF3bVVQAMYAFeTniUsulH%2BZwj/4FUgvyuff%2BF6UONKOJf8Ay4p4mt6eywmJlf73H7kfpTRRRXrHwAUUUUAFFFFABRRRQAUUUUAFFFFABRRRQAUUUUAFFFFABRRRQAUUUUAFFFFABRRRQAUUUUAFFFFABRRRQAUUUUAFFFFABXjP7L//ACW/9o7/ALLNY/8AqFeF69mrxn9l/wD5Lf8AtHf9lmsf/UK8L0AezUUUUAFFFFABRRRQAUUUUAFFFFABRRRQAUUUUAFFFFABRRRQAUUUUAeRft9fELxp8KP2KPin8SPh5rMmmazovgbUbqy1eGMM%2BmlYG3XihgVJgXdMNwK5j5BGRXnXwN8c6l%2Bz9rX7QnhTw7f%2BPPiL4W%2BGdpp2r6Bps%2BtX3iXWpbqXRhd3Ok209zJNc3Uj7LeeOFndg2oBV2xmNF%2Bnb2ys9Ss5dO1G0iuLe4iaOeCaMOkiMMMrKeCCCQQeCDXKfDn9nn4A/B7T7DSfhH8DvB/ha10uW5k0y28OeGbWxjs3uAguGiWGNRGZQibyuC%2Bxd2cCgD5l/wCCUfxt8e/FHx98dtE%2BJ/jTx7rGs2fjbS9Qmg8XeEdd0qz0g3mhafNLp%2BnxatawGC2inaZY4QqyNHsnkUm48yT0O/8AGniTxD/wU28F%2BHdW%2BEfiHQrPSfg944Sw17VbnTntNaDat4Sy9sttdyzoE2jP2iKA/ONob5se8aV4V8L6Fq2p69onhuws77W7mO41m9tbNI5b%2BZIUhSSZ1AMrrFHHGGYkhI1UcKAPKPHH/KQv4X/9kZ8ef%2BnbwhQB7NXxH8TJ/Fn/AAS2/aX8UftH2HhefVPgH8U9WhvfH8OlQtJP4M1th5b6oIVB3205IMpHIbHTbGkn25VfWNH0nxBpN1oOvaZb3tje27wXlndwrJFPE6lXjdGBDKQSCCMEHFcWOwbxUIuEuWpB3jLeztbVdYtaSXVbWaTPOzHAPG04ypy5KkHzQla9nazTXWMl7sl1WzTSa%2BZv2mP2SW%2BOmraP%2B2/%2Bw/8AE%2Bx8OfFS10uOTR/ElnMJdK8W6eVDJZX6plZoXUKFlGWX5eu1Nm9%2ByB%2B354O/aF1G6%2BDXxU0M/D/4waA5g8T/AA61qcJP5irk3FmxOLq3YfOrJkhSCcqVdvKn%2BBn7WH/BNHW9S8Qfsd%2BFT8TfgteXr3178Ipbxl1fw2zndK2kStkTREkv9nbLE8KCzNJXRu//AATr/wCCvfg2JxcqPFuhkiLbJ/ZXi7wrcI2SMf62PY//AF0hLL/ERx4dOrVp4puklTrv4qcm1Co/5qctubzSu1ZVIXXMfdZDx5k2eYClw9xjCcJ0ly0a0EpVaSV/djzOKxWF15lSc41qN37JxvKnL61or43tNX/4Kf8A7EUZ0vWvDMH7SXw%2Bsz/o2q6fcCx8X2duO00TZjvyowBszLIclivQei/A3/gqH%2Bxj8c9R/wCEUg%2BKkfhLxRHJ5N54O8fwnR9Ttpv%2BeJjuCFkfnpG716tLN8LKap1r0pv7M9L/AOGXwy/7dl8kelmHh5n9HDSxuWcuOwsdXVwzdRRX/T2kl7ei%2B6q0kk7r2krXf0HRSI6SIJI2DKwyrA5BFLXqHwgUUUUAFFFFABRRRQAUUUUAFFFFABRRRQAUUUUAFFFFABRRRQAUUUUAFFFFABRRRQAUUUUAFFFFABXjPjj/AJSF/C//ALIz48/9O3hCvZq8Z8cf8pC/hf8A9kZ8ef8Ap28IUAezUUUUAFFFFABRRRQAV%2Bb/AOzPf2etf8FKfCmm304WLwba/F/XXJBPl/a/iHrNiCAOckgKMcnpX6QV%2BaH/AATo/wCKu/4KKfHDxB9//hEdZ1vQ939z7V8SNXvdv44zXk5r731en/NVh/5LzS/RH6BwB%2B5Wb4v/AJ9YDE/fVdCgv/Tkl8z9Gv8AhMNJ/wCfTVP/AAR3f/xql/4TDSf%2BfTVf/BHd/wDxqvnbx9/wWR/4JvfC/wAd618NPHP7Rv2HW/DurXOmaxZf8IhrEv2e6t5Wilj3x2jI%2B10YblJU4yCRzWT/AMPy/wDglp/0dD/5ZOt//IVVLPMlhJxliaaa/vx/zM6Phb4mYijGrSyTFyjJJprD1Wmmk001CzTTTT6pp9T6f/4TDSf%2BfTVf/BHd/wDxqj/hMNJ/59NV/wDBHd//ABqvnbwD/wAFkf8Agm98UPHei/DTwN%2B0b9u1vxFq1tpmj2X/AAiGsRfaLq4lWKKPfJaKibndRuYhRnJIHNd9%2B398YPiZ%2Bz7%2BxN8U/jj8G7TTZvE/hLwPqGq6OurzMlussELSb32xybtqhmCbcOyhCyBi69eFxuDxsXLD1IzS35Wnb1sfP55wzxJwxWhSzjBVcNKabiqtOdNySdm0ppNpPRtddD0v/hMNJ/59NV/8Ed3/APGqP%2BEw0n/n01X/AMEd3/8AGq%2Be9T/bc%2BNvhX4h%2BOfBfxC%2BBXgTQtP%2BGXw8tPE3jnxPd/FS6Njbvdxao1vbW2NHEs6h9PjEsrpEUS4LRxzOgik5n4bf8FKtX%2BKuqeGdD1b4T6v4X1uL40S%2BDvEOkLLeW0MiHwfqGvwz7dY0e0vXhdIYk2/Z7SQSoGWWSFStx0nhn1V/wmGk/wDPpqv/AII7v/41R/wmGk/8%2Bmq/%2BCO7/wDjVfPP7JX7fPxJ/aH0/RLjxz%2BzB/wj934s%2BE2i/EHwnpfh7xrDqs91p18wR4JzcQWUVvcQl4mKh5EdHyHDKY66n9qvxZ8VdS%2BLXwv/AGePhb8V9Q8CN42utYutW8V6NptjdXsVvYWQkW2gW/t7i3VpJpoWZnic%2BVBKq7WYSIAeu/8ACYaT/wA%2Bmq/%2BCO7/APjVH/CYaT/z6ar/AOCO7/8AjVfOUH7Qn7SPxP8A%2BCZHhD4//D60uf8AhOdd0jw7N4hu/Cuhre3FvaS39pFrGoadZSLIJ5UszeXNvAVl3Msa7JziN%2BL8BfHH9pX40fs1fEHUPAvi7426hrvwz%2BJV/oelXPh3wp4X0zxJ4osxY2l5by3lnr1nDaQbBehGSOK2mbyB%2B7Vy0VAH2D/wmGk/8%2Bmq/wDgju//AI1R/wAJhpP/AD6ar/4I7v8A%2BNV8LQftoftM%2BMvAUP7QWk/HHT47LwN4E%2BGmq6t4e8N6JbNpXjO412RH1KUveW5vIYWhkEdmsTwPHKrNMJgfKX2fTfjr4r%2BA/wC1J%2B0Ifj18d9R1b4deB/hF4a8f2tvqGjWMS%2BGoLm88VJexQNaW8c08Qg0e1I895pNyOVYb9tAH0D/wmGk/8%2Bmqf%2BCO7/8AjVX7C/tNTtEvrGcSRSDKsAR3wRg8gg5BB5BFfJf/AAS4/bV1v9rfxR8Y7XxX%2B0D4M8X3GjeLdOutD0PwfrOm3sXhzS73R7K5Sx86yLfavJne4he5dnEk8M4QqirGn1L4P/5BM3/YUvv/AErloA1aKKKACiiigAooooAKKKKACiiigAooooAKKKKACiiigAooooAKKKKACiiigArxn9l//kt/7R3/AGWax/8AUK8L17NXjP7L/wDyW/8AaO/7LNY/%2BoV4XoA9mooooAKKKKACiiigAooooAKKKKACiiigAooooAKKKKACiiigAooooAKKKKACvGfHH/KQv4X/APZGfHn/AKdvCFezV4z44/5SF/C//sjPjz/07eEKAPZqKKKACvD/ANpT/gnZ%2Byl%2B1Nqy%2BMvH/wAPm03xbCVay8ceFbttN1i2kUYVxcQ48wqOFEocDsK9worDEYbD4un7OtBSj2av/T81Z%2BZz4rCYXHUXSxEFOPZq/wA/J%2Baaa6M%2BP4fgt/wVe/ZlX7P8FP2h/Cvxq8N25/caH8VLSSy1pIv%2BeaahbnbPJ/00nwOTx0riPjV%2B1V8IfHml/wDCO/8ABTj/AIJTeNtFMKGObxCnheHxHptoO5j1O0xJF3I8sZxnmvveivMqZRLkcKNZqP8ALNKrH7p%2B8v8AwJnNgcPm%2BR4qOJyfH1cPOPwtScrejco1I/Kr8mfmd8LvDv8AwT%2Bvljn/AOCfn/BXnxH8J3c/6D4V1jxWJ9Libsq6brHlu59i5OK9w0bVf%2BCxHw/0%2BPU/DviH4I/HDRMZhvYZJ9E1K7HqDGWtFz7Z5r6A%2BJ/7Jv7L/wAamlm%2BLX7PXgzxFPLnfd6t4btpp8nuJWTep9wwNeJav/wRa/YIOoSa18PPA3iLwLqEpy1/4K8a6hZuD2IUyvGuPZQK83%2ByMxw38BRX/XupUp/%2BSTVWHyVkfb/8RO8Q6umcYfB5mu9eklVf/cWMYVb%2BbrTfW7epXH/BSD9on4fDy/2iP%2BCXvxe0cx8XFz4F%2By%2BJ7dPVi9u0fy9884HrVvRf%2BC0f/BPy5v10Txt8UNY8Gak3XTfGPg/UbKRPXc3ktGMe71UH/BM34z%2BEBj4Of8FQfjppaqf3MPirVrfXY4/QBZ40%2BUemaqa1%2Byr/AMFVrSwbSov2%2B/Afjqz7Wfjr4PWsCOOwf7MzZ9M4zT9rxHQ%2BzKXrGlP8YTpv/wAlD/XLg7E/8jDhetRfV4TGpr5QxEai%2BXN8z2zwV%2B3P%2Bxh8RQi%2BC/2rPh7fyyfdto/F1os34xNIHH4ivTNL1jSNcs11DRNUtry3f7k9rOsiN9GUkGvzy8afsF/tta0Xfxv%2BxP8AsWeMQ33rrTPD%2BoaXfS%2B7SBFAP0Neaap/wTp%2BKmiXbapa/wDBGfSEvf4r/wCHf7Sk%2Blt9VS5kZR9NtH9tZxS/iYa//btVfpUX4i/tPwlxG88zwz/v4OjXS%2BdCvB28%2BW/kfrDRX5Lf8KS/aq8FfNpP7P8A%2B2l4Q8vpbeEvj3Y6tbr7eWYvnHtmj/hbH7evgr5dM8b/ALbml7Okmq/AnS/Ecae7M1wm4e%2BKP9aHD%2BJhpL0/4NOIey8M638LiJQ8q%2BAx9L73GnXX3H600V%2BS3/DwT9v7whxqH7RXj6fZ1/4TX9lFrH/vr7HK%2BPwpR/wWg/bD8Kn/AIm/xd%2BCc0a/fPiT4YeMbKXH/bvAyg0f64ZXH%2BJGcfkv/kkH9k8JVP4PEuXP/HWrUf8A09g42%2BZ%2BtFFflFp//BwP8WrYhb0fA/WSOo07UPEFhn/wLshj8a3dN/4OHvGUbBL/APZd8Eagv8U1h8b7K1A99tzbAn6VceMcglvUa/7df6Nlx4Yw9b/d83y2p/hzLBr/ANOTpH6gUV%2BcFh/wcN%2BFlAbxB%2BzJbW4/i%2Bw/F7Q7nH5uma0bf/g40/ZjtyF174HeM0PddL1XR7w/gFvVzW64r4ee%2BIS9VJfobQ4Izus/3FTDVP8ABjsBL8sbE/Q6ivg3R/8Ag4c/Yu1YAv8ACn4t22e83hO1cf8AkO8aujsP%2BC8X7Cl2Aby3%2BIFkD1N14InOP%2B/Zato8SZDPbEw%2B9/rFFS4A4vTssLzf4auGn/6Ri5n2fRXyLb/8FzP%2BCbzDdqnxe1rTx3N54H1Xj/vi3atGw/4LZ/8ABMDUcfZ/2p7Vc/8APfwvq0X/AKHaCtlnuSS2xNP/AMDj/mhrw848krxyuvJf3abkvvg5o%2BqaK%2BcLH/grv/wTb1HH2f8Aa18Nrn/nvFcxf%2BhxCtey/wCCn/8AwT11DHkftheBFz/z312OL/0PFaxzbKpbYiH/AIHH/wCSM58AceU1eWU4pf8AcvW/Skz3iivHrP8A4KFfsG3%2BPI/bO%2BFoz087x3YR/wDocorVs/20/wBjjUMfYP2s/hnPnp5PjzT2/lNWyx%2BBltWh/wCBR/8AkjhqcKcVUf4mX4hetCuvzonplFcPaftOfs2ahj7B%2B0J4Hnz08nxZZt/KStO0%2BM/wev8AH2H4r%2BGps9PK123b%2BT1osRh5bTT%2Ba/zOGplGb0f4mGqR9adRfnTR0tFZlr418G32PsXi3TJs9PKv42/k1aENzb3K77edJB6owI/StVKMtmcU6NWl8cWvVNfmkPooopmYUUUUAFeM%2BOP%2BUhfwv/7Iz48/9O3hCvZq8Z8cf8pC/hf/ANkZ8ef%2BnbwhQB7NRRRQAUUUUAFFFFABX5zf8EhPDxPx%2B/bE8dspIvP2mbvTUc9vs3iLUXIH/gQK/RmviT/gk/4WbRvAv7Q3iGZP3mtfto%2BN5UcjrFH4jEKj8GR/zrgxdP2mKw7/AJZSf/kkl%2Bp9bw/jVg8gziN9atGlT%2B/FUpv/ANNo%2B26K%2BYvH/wDwU1/4QLx3rfgX/h3z%2B09rX9i6vc2H9saB8J/tNhf%2BTK0fn20v2kebC%2B3ej4G5WU4GayP%2BHsP/AFjU/a0/8M3/APdVZSzrLIycXU1X92f/AMrPzmXEOTQk4yq6rT4anTT/AJ9H1pWL8R/h54M%2BLnw%2B1z4VfEbQYtV8P%2BJdIudL1zTJ2ZUurS4iaKaIlCGAZGYZUgjOQQea%2BfPAP/BTX/hPfHei%2BBf%2BHfP7T2i/21q9tYf2xr/wn%2BzWFh50qx%2Bfcy/aT5UKbt7vg7VVjg4r2b9pPxh8Tvh58AvF/wAQfgz4ctNZ8T6DoFzqWj6Lewu6alJAhlNqAjoQ8qo0aNuwrurEMAVPXhsZhsZFyoyulvpJf%2BlRj%2Bp24PH4PMIuWHlzJaPSS8/tRj%2BFzGg/Y1/Z4Xwr4p8Han4Q1LV7Pxr4bt9B8VS%2BIvFep6ndalYQfafJjkubu5kn3p9rnxKHEo3L8/yJtzvA/wCwV%2By18PdSXXPD/gLUptSHi4eKJdW1rxjq2pXlxq40ibRhdzXF5dSyzsNPnlt8SMy7SpxuRGXw3xH/AMFH/ib8SPC1z4x/ZcbQ9VsPEfjubSPhRLF4SXVG8QadYaQt1qt7I1zrelW0McV358Adrhdos3ASVpB5fE%2BDf26viN8XPEeifHiy%2B02unePPhl%2BzvqsfhRtfvfsOlT%2BIvF2u21/JB9mni3OYvJRmOUnW1hWZJYl8o9J2H2H4Y/ZO%2BBHgmx0Sw8HeE73Sl8OeBrTwdok2neI9QhmtNFtXjeC1WVJw52mKPMhYyMAQzsGYHR%2BN/wCz18Kf2idE0/Q/ilo%2BozDSNRN9pF/oniK%2B0i%2BsbgwywM8N5YTQ3EW6GaaJwkgDpIysCpIr5N%2BCf7VP7UHxu/ak%2BEHjDU/FXhH%2BxPHfwt8f634c%2BHulXV7p7Wslnf6NBbQatKZrhLqWPzSjXCW0RtpHuEWKTOT7d%2B2/q3iSfTPhR8N5fFWq%2BHdI8d/Few0PxnqXhvXbjT7qGzOn390kEN7btFPb%2Bfe2tna%2BZG0cjLcFVKlxQB6FJ%2Bzv8LE8Bj4YaNY6xougReHLDQrLTPDPivUdKj0%2BxsyTbpafY7iI2bqDtMsBSV0REZ2WNFXnbv8AYl/Z%2Bn%2BHmnfC2xsPFul6Rpt1eXIOgfEvXtNu72e7cyXMt7d2t7HcX7yuS7tcySlmO4knmvL/AIRaj%2B0L8U/%2BCbfjfQ/hP8SbufxpZ6l478OeAfFmsaqWuLi30/XtU0/TLiS8lDlpTa20A%2B1uHLtidt%2B454r9n2z%2BKvxZ0743/As%2BC/H1hYeEvFOjHwT4e8cftCataarDfy6VFPd6fd%2BINJur66SMbkuhCs11tW6TcqqyxRAH0Jqf7C/7K2p%2BJfC/ihvhSlpL4O03SdP0Kw0vWL2z08WulzGfTIZ7GCZLa8SzlJltxcRyCByXj2Mc1e8Mfsi/BXwf%2B0LrH7Uuhr4uHjPX7CKx1a7u/iTrtzZT2sT3Dwwf2fNeNZJFE91dPEiwhYmuJWQKXYn4Hn%2BNXxc8X/s0alr/AIw/aS8ZaZq/wu/Zr8ReKfDV/pfiy7the%2BJ9O1jUbOZrh4Zh/bsFm9hZWy/aPNiu0vBLJGXuF2%2Bs%2BCvj18U7r9tjXPG/xw8IeI49HsPjNp/w/wDDsOnfFi/sodJmuvDtneQq/h6ALaalDJJdSyvdXLvPH5qlIvKtw4APs3wt8MfA/grxX4m8b%2BGdD%2Bzap4x1KC/8SXX2mV/tlxDaQ2cb7XYrHiC3hTCBQdm4gsSTa8H/APIJm/7Ct9/6Vy1qVl%2BD/wDkEzf9hW%2B/9K5aANSiiigAooooAKKKKACiiigAooooAKKKKACiiigAooooAKKKKACiiigAooooAK8Z/Zf/AOS3/tHf9lmsf/UK8L17NXjP7L//ACW/9o7/ALLNY/8AqFeF6APZqKKKACiiigAooooAKKKKACiiigAooooAKKKKACiiigAooooAKKKKACiiigArxnxx/wApC/hf/wBkZ8ef%2BnbwhXs1fOH7R%2Br/ABr0f9vD4Tz/AAO%2BH/hbxFqTfCPx2t3aeK/GFzosEcH9qeEiXSW30%2B9Z33bRsMajBJ35AUgH0fRXjP8AwnH/AAUL/wCjX/gz/wCH41b/AOZej/hOP%2BChf/Rr/wAGf/D8at/8y9AHs1FeM/8ACcf8FC/%2BjX/gz/4fjVv/AJl6P%2BE4/wCChf8A0a/8Gf8Aw/Grf/MvQB7NRXzjpP7R37dusfGfX/gdb/sofCRdU8O%2BF9I128uX%2BOuqeRJBqNzqVvCiEeGNxdW0ucsCoADx4LEsF6j/AITj/goX/wBGv/Bn/wAPxq3/AMy9AHs1FeM/8Jx/wUL/AOjX/gz/AOH41b/5l6P%2BE4/4KF/9Gv8AwZ/8Pxq3/wAy9AHs1FeM/wDCcf8ABQv/AKNf%2BDP/AIfjVv8A5l65fwD%2B0d%2B3b8RPFfjfwho/7KHwkhuPAfiiLQtVkufjrqgSeeTStP1MPFt8MElPJ1GFSWCnejjGAGYA%2BjqK8Z/4Tj/goX/0a/8ABn/w/Grf/MvR/wAJx/wUL/6Nf%2BDP/h%2BNW/8AmXoA9morxn/hOP8AgoX/ANGv/Bn/AMPxq3/zL0f8Jx/wUL/6Nf8Agz/4fjVv/mXoA9mor5x%2BEX7R37dvxl8KXfi/w5%2Byh8JLa3s/FGt6FJHe/HXVFcz6Xqt1pk7jb4YYbGmtJGQ5yUZSQpyo6j/hOP8AgoX/ANGv/Bn/AMPxq3/zL0Aet6hoGhauCNV0W0ugeouLZXz%2BYNYV/wDBH4L6rn%2B1PhF4Xuc9ftGgWz5/NK4H/hOP%2BChf/Rr/AMGf/D8at/8AMvR/wnH/AAUL/wCjX/gz/wCH41b/AOZeolTpz%2BKKfql/kZypUp/FFP1Sf5pnS337JP7Kmp5/tL9mX4fXGevn%2BDLF8/nFWRefsFfsN6hk3v7GvwqkJ/ib4fabn8/JzVH/AITj/goX/wBGv/Bn/wAPxq3/AMy9cv8ABH9o79u348fBjwh8cfCv7KHwktdL8Z%2BF9P13TbbUPjrqizwwXdtHcRpIE8MMocLIAwVmGQcEjmsZYLBy3pRf/bsf/kTCWX5fP4qMH6wh/wDInQ3f/BNj/gn/AHufO/Y2%2BHC5/wCePhO2j/8AQUFZl1/wSs/4J13mfO/ZA8FjP/PLTfL/APQSK2v%2BE4/4KF/9Gv8AwZ/8Pxq3/wAy9H/Ccf8ABQv/AKNf%2BDP/AIfjVv8A5l6yeWZZLehD/wAAj/8AImEsmyeW%2BGp/%2BAQ/%2BROUuv8AgkJ/wTYu8%2Bb%2ByV4cGf8AnlNcp/6DKKz7n/gi9/wTHuv9b%2Bylpgz/AM89c1JP/QbkV3f/AAnH/BQv/o1/4M/%2BH41b/wCZeuX%2BN37R37dvwH%2BDHi/44%2BKv2UPhJdaX4M8L6hrupW2n/HXVGnmgtLaS4kSMP4YVS5WMhQzKMkZIHNZvJsoe%2BHp/%2BAR/yMnw/kMt8JS/8Fw/%2BROen/4Ie/8ABLi5/wBZ%2By1EP%2Bufi/WU/wDQbwVUm/4IV/8ABMCQYh/Z3uof%2BufjbWP63Zr1T/hOP%2BChf/Rr/wAGf/D8at/8y9H/AAnH/BQv/o1/4M/%2BH41b/wCZeoeRZI/%2BYan/AOAR/wAiFw5w%2BndYSmv%2B3Ir8kjx%2B5/4ILf8ABMu46fBbVU/3fGWpH/0Kc1Sm/wCCAP8AwTUl%2B58Mtfj/ANzxdd/1c17b/wAJx/wUL/6Nf%2BDP/h%2BNW/8AmXo/4Tj/AIKF/wDRr/wZ/wDD8at/8y9Q%2BHsie%2BFp/wDgKOiOTZXT%2BCil6XX5TR4RL/wb4/8ABN%2BT7ng/xTH/ALniub%2BoNVpf%2BDeT/gnTJ9zSPGUf%2B54pb%2BsZr1j4u/tHft2/BrwpaeL/ABH%2Byh8JLm3vPFGiaFHHZfHXVGcT6pqtrpkDnd4YUbFmu42c5yEViAxwp6j/AITj/goX/wBGv/Bn/wAPxq3/AMy9S%2BG8gf8AzCw/8B/4JvHA4aHw8y9J1V%2BVZHzvJ/wbr/8ABPJ/uf8ACdJ/u%2BJk/rCagf8A4Nzf%2BCfpO6HWfiJEexj8SwZH52xr6P8A%2BE4/4KF/9Gv/AAZ/8Pxq3/zL0f8ACcf8FC/%2BjX/gz/4fjVv/AJl6n/Vnh5/8wsPu/wCCbRpOPw1Ki9K1dfliEfOKf8G7n7EcH/Hl8TPivb%2BnkeK7YY/8lKsRf8G/P7KVt/x4/tB/G63x08nxpaj/ANsq%2Bhv%2BE4/4KF/9Gv8AwZ/8Pxq3/wAy9cv4%2B/aO/bt%2BHfivwR4Q1j9lD4STXHjzxRLoWlSW3x11QpBPHpWoamXl3eGAQnk6dMoKhjvdBjBLKLhnIFtho/j/APJClRct6lT/AMHYj/5oPLIP%2BCD3wBs/%2BPH9rb9oODHTyfiBbL/7ZVdg/wCCJHwxsxiw/bk/aUhx08v4lwj%2BVmK9u/4Tj/goX/0a/wDBn/w/Grf/ADL0f8Jx/wAFC/8Ao1/4M/8Ah%2BNW/wDmXqlw7ki2oL75f/JnPPL8PU%2BJzf8A3Fr/APzQeNxf8EbdDtf%2BPL/gob%2B09Djpt%2BKKj%2BVsKd8Bf2Q3/ZT/AOChPg1W/aV%2BKXxDXXfgz4y2j4leKv7T/s/yNW8Lf8e3yJ5Xmed8/Xd5Uf8Adr2L/hOP%2BChf/Rr/AMGf/D8at/8AMvVDwP4H/as8Y/tWeHPjd8bvhx8PfDOjeGfh74h0OGHwr8Q77Wrq7utSvtEuEZkuNIsUijRNLlBYO7FpUAXGSOjD5Rl2FqqpSp2kvOX5ObX4Co5Zg6FVVYJ8y7zqS/CVWS%2B9M91ooor0jvCvn7/gpcdMH7Ndr/wmnl/8IV/wsLwv/wALI%2B0f8e//AAj39s2n237Vnj7H5f8Ax87v3f2bz/M/d76%2BgaKAPzv1HxR8OX/4JmfGjwR8MfE%2Bnw%2BCpvHF%2B/w7t9HuI2s7HwpPrcFub/yEyX0CO5%2B3u4jAhewilSJhGUI8wv7H4iah%2Bw78YfhF8EvhbbfEL4XXvj7xFP4r8T/AttJ0jw1d6XD4b02eO20ixvtTRbbTpLuRobxbe4vN8tjqY5a8Kw/q/RQB5J%2BzX4h%2BIV/%2BxJ4B8Q%2BEfhzFD4ib4faU1l4c8Wa0lmnmC1iASe5skvViUgbt0ay8EAjOQPP/APgn1oGp6D%2BytrureJNItLHVtR%2BPfjvVfENppuoPeW9tc/8ACdamZ1inaGF5okEeBI0UbMq5KL0H03XyV%2ByV4s/bO0/4e%2BKLP4Y/AP4YavoSfGn4i/2fqOvfF3UdNu5l/wCEz1ksZLaLQLlIiG3AATPkAHIJ2hNJtPsXGpUjCUE9JWv52d19z1PqD/hOfBP/AEOGl/8Agwj/APiqX/hOfBP/AEOGlf8Agwj/APiq8t/4Tj/goX/0a/8ABn/w/Grf/MvR/wAJx/wUL/6Nf%2BDP/h%2BNW/8AmXpkHqX/AAnPgn/ocNK/8GEf/wAVR/wnPgn/AKHDSv8AwYR//FV5b/wnH/BQv/o1/wCDP/h%2BNW/%2BZej/AITj/goX/wBGv/Bn/wAPxq3/AMy9AGpffAz9ijVPhxpPwd1P4O/C248I6Be/bNC8Kz%2BHtNfTdNud0jedBbFPKhk3Syneig5kc5%2BY50NP%2BHH7KOk2trZaV4D%2BHttDZWmk2llDb6XYotvBpc8lxpkSAKAiWk8sstuowIJJHeMKzEnzP4I/tHft2/Hj4MeEPjj4V/ZQ%2BElrpfjPwvp%2Bu6bbah8ddUWeGC7to7iNJAnhhlDhZAGCswyDgkc11H/Ccf8ABQv/AKNf%2BDP/AIfjVv8A5l6ANWx%2BB/7FWl%2BKdb8c6Z8IPhdb634lguofEesQeH9NS61WO6x9pS5lCb51l2r5gckPgbs4roPG%2BlfAD4meCLn4ZfEjTfB3iDw3eQpFd%2BHtchtLuxnjRlZEeCUNGyqyqQCuAVBHQVxX/Ccf8FC/%2BjX/AIM/%2BH41b/5l6P8AhOP%2BChf/AEa/8Gf/AA/Grf8AzL0AdUPBP7MI8PW/hEeEfAY0m08Nz%2BHrXS/sFl9nh0icRrNpyR7dq2sghiDwAeWwiQFTtGMO6/Z8/YYvvhba/A69%2BCHwnm8FWV%2Bb6z8Hy%2BGtMbS4Lo78zpaGPyUk/eP84UN87c8muJ%2BN37R37dvwH%2BDHi/44%2BKv2UPhJdaX4M8L6hrupW2n/AB11Rp5oLS2kuJEjD%2BGFUuVjIUMyjJGSBzXUf8Jx/wAFC/8Ao1/4M/8Ah%2BNW/wDmXoA3fEHwm/ZA8WWPhjS/FXw0%2BG2p23gmWOXwZb6ho2nzR6A6BAjWSuhFqVEaYMW0jYuOgq5deBv2Xr74qW/x0vfB/gGbxvaWZtLTxjLp9k2qw25VlMSXZXzlTDuNobGGYY5Nct/wnH/BQv8A6Nf%2BDP8A4fjVv/mXo/4Tj/goX/0a/wDBn/w/Grf/ADL0Aeo/8Jz4J/6HDS//AAYR/wDxVHgw79DM6g7Jr67liJGNyPcyMrfQqQR7GvLv%2BE4/4KF/9Gv/AAZ/8Pxq3/zL1y/xd/aO/bt%2BDXhS08X%2BI/2UPhJc2954o0TQo47L466ozifVNVtdMgc7vDCjYs13GznOQisQGOFIB9HUV4z/AMJx/wAFC/8Ao1/4M/8Ah%2BNW/wDmXo/4Tj/goX/0a/8ABn/w/Grf/MvQB7NRXjP/AAnH/BQv/o1/4M/%2BH41b/wCZej/hOP8AgoX/ANGv/Bn/AMPxq3/zL0AezUV84%2BPv2jv27fh34r8EeENY/ZQ%2BEk1x488US6FpUlt8ddUKQTx6VqGpl5d3hgEJ5OnTKCoY73QYwSy9R/wnH/BQv/o1/wCDP/h%2BNW/%2BZegD2aivGf8AhOP%2BChf/AEa/8Gf/AA/Grf8AzL0f8Jx/wUL/AOjX/gz/AOH41b/5l6APZqK8Z/4Tj/goX/0a/wDBn/w/Grf/ADL1y%2BrftHft26P8Z9A%2BB1x%2Byh8JG1TxF4X1fXbO5T466p5EcGnXOm28yOT4Y3B2bVICoCkEJJkqQoYA%2BjqK8Z/4Tj/goX/0a/8ABn/w/Grf/MvR/wAJx/wUL/6Nf%2BDP/h%2BNW/8AmXoA9morxn/hOP8AgoX/ANGv/Bn/AMPxq3/zL0f8Jx/wUL/6Nf8Agz/4fjVv/mXoA9mor5x0n9o79u3WPjPr/wADrf8AZQ%2BEi6p4d8L6Rrt5cv8AHXVPIkg1G51K3hRCPDG4uraXOWBUAB48FiWC9R/wnH/BQv8A6Nf%2BDP8A4fjVv/mXoA9morxn/hOP%2BChf/Rr/AMGf/D8at/8AMvR/wnH/AAUL/wCjX/gz/wCH41b/AOZegD2aivGf%2BE4/4KF/9Gv/AAZ/8Pxq3/zL1y/gH9o79u34ieK/G/hDR/2UPhJDceA/FEWharJc/HXVAk88mlafqYeLb4YJKeTqMKksFO9HGMAMwB9HUV4z/wAJx/wUL/6Nf%2BDP/h%2BNW/8AmXo/4Tj/AIKF/wDRr/wZ/wDD8at/8y9AHs1eM/sv/wDJb/2jv%2ByzWP8A6hXhej/hOP8AgoX/ANGv/Bn/AMPxq3/zL1b/AGVvhz8afB%2BsfFDx38dNA8L6Tqnj74hRa5Z6V4T8S3OrW9raxaDo%2BmKr3FxZWbNI0mnSuVEW0LIg3Mc4APW6KKKACiiigAooooAKKKKACiiigAooooAKKKKACiiigAooooAKKKKACiiigAr5X/ae/a0%2BLnww%2BMfizWvAPh3wfJ4Y%2BD/h/wAP3vjU61pFxNquqW%2Br38qXMFhcR3EaWXkW1nHcZkinFzIUjIh8vzT9UV4z8Z/2Ifhx8bvikfiZrnjnxVpcWo2ukWvi/wANaNdWqad4pg0u9kvbGK%2BWW3kmCxzTS5%2BzywGWOQxTGWMKgAPZqKKKACiiigD5j8OftK/EyH9v/wAUfB/4jax4e8J%2BG18QWmieDItR%2BEWspdeMYBoEGo4g8RtdrpzSx3dzqAFoIXk8u0mAUFmkX6cryvxZ%2By1B4/8AjJpHxT8e/G/xrq%2BleHtdj1rQPAFwdMi0ax1CO3eCOcNDZJey7PMkkVJrqSMSPu2fIgX1SgAooooA8X/4KC/F344fs/fsj%2BNPj18Ar3wpHrHgnQrvXLqDxhotzfW13aWttLM9uiW11bMkrsiKJC5VAWJR%2BBXn/jz9rT4ueC/jx4t1Pwp4d8IRfDzwh8Y/CPw%2B8ZWc2kXB1vVdV12DRUj1CG7S4WGOOD%2B3NJjMUlvK8iQz4lj2oK9h/ax/Zxsv2tPgRr37PutfFXxT4R0nxPZS2OuX/hBdO%2B13NlLE8U1tuv7S6jRHV%2BWRFkBUbXXnPFwfsA%2BDp/iLZ/EXxV8cfH2usdZ0nXPE2jahLpUVj4n1zTEjSx1a9jtrCJluIhBaYW2aCBjY2xeJjHkgHvdFFFABXi/7ZPxd%2BOHwStfAPjH4WXvhT%2BxtQ%2BJnhzw94vsfEGi3NzdXNrqus2Omg2csN1CltJGtzLJvkSdSURdnJNe0V5V%2B1d%2By2/7VXhvQvC8/x98b%2BBrfQvElhrqN4Lh0dnu72xvILyzaU6lp94NsVxbxuFjCBuVk3qdoAPOP2ef2lfiZrf7VXi34I/FDV/D3hPTofFOt2/gnwlJ8ItZ0y5162hdJTf2%2BtXF39g1B2Mk0ssVtAX5LsVwxP05Xkuk/soh/jJovxl%2BI/wC0B478azeF7u8u/CeheIRpMNho91c28lrJcRLYafbSyv8AZ5p4V8%2BSVUWd9oBII9aoAKKKKAPD/wBu74ufHj9n74Nav8dfhR4x8C2On%2BFtFuby90XxZ4Zvb%2B58Q3uUWz0yzktr2D7PNcSkW6N5V0zSzxBYWPyt5/8ABH9r74z658S/BX9reDPCWkfDTxv8T/FHw28K%2BGtO0uaPV9Ev9Ah1bfPPci4a3mgkbw/qaLDHbxGNWtj5kmWA9P8A2lf2QYP2kvHngj4gTftA%2BO/CFz4Bu7m90Wx8MRaNPZyXsqCNbyaDU9OvEeeGPzFhkAUxieUj5myKvgP9hr4e%2BA/jLb/F2H4i%2BLtSg07XdT17RPCGpXNl/ZOla3qMbx6hqkCRWqT%2BfOJ7ssrzPCjX1yY4o/M4APa6KKKACvl/9rn48ftL/Bb4iaf4U0qHwB410fxzDrVtovw5i8H30msJa2mh3V3Jf3E4vXiurYXUVvbSQi1iB%2B3woJjIyJJ9QV4dN%2BxNcR/tH%2BK/2mtE/ar%2BJenav4t02HTrnS4YPD89pp9nDA0cNtZtc6TLc28Syu91sWba87l3Dg7aAGfsIftB%2BN/j38Pby6%2BK/j7Rr7xdpws21/w3ZfC7V/CN5oDz2yyiC5stXup7hwW3%2BXcAJHIqHaG2k17pXm/wO/Zu074M%2BJ/EnxD1j4peKfHHirxXFY2%2BseJ/FzWC3L2lmJvstqkWn2trbRxRtc3LjbCGZriQszZGPSKACiiigD45/wCCgn7cfxU/Yw8c/wBp65ougeMfCL6NqOt2/hWX4c6nZS26abo19qSSf8JFNdPpk939r00bLFYEuhHMsoG2FpG9e/Zo%2BLvxz1b4qeN/2ev2jrnwpqHifwjpOh61HrXgrSLmwsbmx1QXkaRGC5ubl1liuNOu1L%2BbiRDE2yMkqK3x1/YS8EftOa1dWvx/%2BLfjXxR4LuZLiRfhleSabDosUk1jNZM2%2B3so76QCO4mYJLdOgd9235EC9P8As%2BfszaR8A7zXvEV38UPFnjjxH4kNnHq3irxrcWb30ttaRGK1tR9jtreFYog8rDEe9nnld2dnJoA9KooooAK%2BI/2p/wBsr9rP4N/GrxB8KPB3hvw5411Ow0W413wwE%2BB/iCOTRQNR0y1Qwt9uceJpBY6pced/ZflPC0JWURiYR19uV4fr37Fup%2BJfHp%2BJ2tftc/FGbW9PgvIvBt4U0ADwqt1NDJP9kjGk7J2aOBbfderdMsTOFKu7OQDqv2WPiw/xk%2BEcHiy9%2BJmjeKr%2BHUbqy1S%2B0bwZfeHRbXEUrK1rNpuoXE91ZzxjCvHM4fPzbVDAV6NXDfAP4C%2BHvgB4Z1PRtK8U634g1HX9euNb8SeJPEc0DXuq38wRGnlFvFDAmI4oYlSGKONUiQBRgk9zQAUUUUAFFFFABRRRQAUUUUAUfFHiGw8JeGtR8V6qHNrpljNd3IiXLeXGhdsDucKa%2Bc/2Jv2k/jX4/wDFOj%2BDPjZ4e8GWY8dfC2y%2BI3hmHwZpVxaDTI7y4Ju9PuzNcSi7mje5tn%2B2IIBO0sxMEe0F/pa7tLW/tZbG9t0mhmjaOaKVQyupGCpB4II4xXkP7M37FfgL9mDVX1fQPiD4t8Sy23hix8M%2BHR4svbWYaBoVm8j2%2Bm2pt7eEtGpk%2BaWczXEgji8yZ/LXAB7FRRRQAVwv7UHjz4i/Cz9mj4ifE74P%2BFF17xb4c8C6vqnhbQ2sZroajqNvZyy21sYYGWWYSSoieXGwdt2FIJBruqzvFuiX/iXwxqHh/S/Feo6Fc3tpJDb61pCwNdWLspAmiFxFLEXU8gSRumR8ysMggHl37FPxan%2BKHwzvrLVviF4f1nU/Duqrp15pmifDDU/Bz6GgtoJIrO40rVLme5hcI4kV28tHili2Jgb39irzz4D/ALO2k/A688S%2BI7n4ieJPGPiTxfqMN54i8U%2BK3sxd3Rht0t4IhHY21tbRRRxoAqxwpks7MWZmY%2Bh0AFFFFAHy5%2B1R%2B1j8UP2cPi944sviVo3hLxF8L7D9nfxf49ttCt9EuE1V20QaWs9tcXMly9vNFOt9OAgtkKhEy75YV2/7M/xf%2BPmqfFzxl%2Bzr%2B0s/hK88UeGPDHh7xLHqvgrSbmxspLLVn1K3W2MNzc3LmWG40i7BlEgWRHiby4zuWoPjH%2Bwr4d%2BOnx1b4y%2BPPjt45l02bwVqfhG%2B%2BHsMGi/2Jd6NqS232%2B0kL6a16RO1pA7OLoOpQhGRGZD0n7O/7Luh/s%2B32teI5/ih4t8b%2BIdftbCyv/E/ja5tJL02Fiki2dmPsltbx%2BVEZ7hwShkd7mV3d2bNAHp9FFFABXyJ8a/2l/2tvBmu/tAeBLfwr4M8WXvgLw/4U8SfDax0n4f6nfzrHqOq6lCEvLWK8eXUZ4F02OdTbC3JckKvyq1fXdeFy/sUeIYvjp42%2BP8AoX7aHxW0rVvG%2BkWOmXNjZWfhhrTTbayuLmezS2EuivJ%2B6N5dKDM8pdZyJPMKoVAOr/ZU%2BLc3xl%2BFI8Taj8TtG8U6ja6rc2OrXWj%2BCL/w2bO4ib5rWfTNRuJ7q0nRSu5JmDEMrbVVhXpNcJ8A/gHoHwB0LWbHT/FuueI9V8TeIJdc8T%2BJvEktu17qt/JDDB5sgtoYYIwsFvbwqkUUaKkKALnJPd0AFFFFAHxt%2B0t%2B13%2B0t%2Bzx8ZoPhtrKfDPxrfa3BBN4Rh07wte2kvgu81LxDpnh7SJtTle%2BmF1FO2rzgtEtnI4sbpYwy%2BYYvcf2Vfi/8SPiMPH/AMPvjEdEn8VfDTx43hrWdV8NadNZ2Gp%2BZpenatb3ENvNPPJb5tdUt0eNppcSRyYYgjHC23/BNXwk118Q38Q/tL/E7Wbf4k68dc1i31I6F5lnqUVxDPp9zbXUWlpdKbB7e3FpG80kUSwoGR%2Bc%2BsfAP4C6H8A/D2rabZeL9c8Sat4i16bWvE/ijxK9sb/V76SOKHzphawQQLsggt4ESKKNFjgjULwSQDuqKKKAGXP2n7NJ9j2edsPlebnbuxxnHOM18QfFb9rn9tP4afETXPhtb23gPxnr3hi98NW%2BreOvBHwV1/Vo/DlvqzXj3thLpVnqU93czRw2VjdExTp%2B7uoWlgQGJpPt67hkuLWW3hupIHkjZVniCl4yRgMu4FcjqMgj1Br57%2BDH7AXiD4CfDa4%2BGnw7/bq%2BMUUd1qz6nNrN5ZeE59Qlu5XlkuZ5pn0I/aZJ3l3SSTiR8xpsKAYIB6z8BPiHZfFb4O%2BH/iFYfEDRvFSanp4kfX/D%2BkzWFpdyAlZClrPNNLbFXVkaGSR3jZWVjuUgdfXJfAv4L%2BEv2ffhfp3wp8FXN/cWVhLdXE19qtyJrq%2Bu7q5lurq6mcKoaWa4nmlfaqrukO1VXCjraACqPieHxJc%2BG9Qt/Bup2Nlq8llKul3mp2D3VtBcFCI5JYY5YmmjVsFkWSMsAQHUncL1ZvjHQb/xR4Wv/Dul%2BLdS0G5vLV4oNa0cQG6sXI4miFxFLEXU8gSRuhx8ysMigD4e%2BG/7dn7Wvxg%2BKet/BL4Wab8Pk8Z6ba67fSeM/Ffwu1rQ11TTNItdFlSxl0S8vk1DT5Xu/EOxJp5nj8qGS4SF1nQH7G%2BAXxa034%2BfAnwV8ddG02Wzs/GvhLTdetLOZ9zwRXlrHcLGxAGSokAJ9RXi2r/8EyPA%2Bta5ffEW7/aU%2BKafEDVkvLXWviTbXukQ6tf6ZdW1rbTaYUTTRZw2xSytGHkW0UqyQLKsocsx%2Bg/Bfg/w18PPB2k%2BAPBmkxafo%2Bh6ZBp%2Bk2EOdltbQxrHFGuecKiqo%2BlAGnRRRQBy/wAadR8caN8Lda1v4c%2BIbHS9WsLM3UN9qHg%2B98QIkcZDygadYzwXN5I0SuqRQyBy7LhXPyN8W/CX/goj8fvEnjTQ9T8b3HhHwJ4M1KedfEHji8%2BBniKa21i/h1%2B60hEuZVvo08MzyWtpa/uNUaSWB5VjfOwJX238TPBmu%2BPfCU3hzw38Utf8G3kksbxa/wCGYrF7uDawJVVv7a5gYMAVIeJuCcYOCPFbr/gnN4U1DwfcfDbVv2kPibd%2BGNc1Ca/8eaBNcaOIvGF3PeNdXE19Kumi4i80ssLR2ctrEIYkjVFG7cAfRNFFFABRRRQAUUUUAFFFFABRRRQAUUUUAFFFFABRRRQAUUUUAFFFFABRRRQAUUUUAFFFFABRRRQAUUUUAFFFFABRRRQAUUUUAFFFFABRRRQAUUUUAFFFFABRRRQAUUUUAFFFFABRRRQAUUUUAFFFFABRRRQAUUUUAFFFFABRRRQAUUUUAFFFFABRRRQAUUUUAFFFFABRRRQAUUUUAFFFFABRRRQAUUUUAFFFFABRRRQAUUUUAFFFFABRRRQAUUUUAFFFFABRRRQAUUUUAFFFFABRRRQAUUUUAFFFFABRRRQAUUUUAFFFFABRRRQAUUUUAFFFFAH/2Q%3D%3D\">"
            ]
          },
          "metadata": {
            "tags": []
          }
        }
      ]
    },
    {
      "cell_type": "markdown",
      "metadata": {
        "id": "Y1tS0aDB6wX3",
        "colab_type": "text"
      },
      "source": [
        "# Submit a linear model"
      ]
    },
    {
      "cell_type": "code",
      "metadata": {
        "id": "DHbRleb36wX4",
        "colab_type": "code",
        "colab": {}
      },
      "source": [
        "## GRADED PART, DO NOT CHANGE!\n",
        "# Testing shapes \n",
        "grader.set_answer(\"9XaAS\", grading_utils.get_tensors_shapes_string([W, b, input_X, input_y, logits, probas, classes]))\n",
        "# Validation loss\n",
        "grader.set_answer(\"vmogZ\", s.run(loss, {input_X: X_val_flat, input_y: y_val_oh}))\n",
        "# Validation accuracy\n",
        "grader.set_answer(\"RMv95\", accuracy_score(y_val, s.run(classes, {input_X: X_val_flat})))"
      ],
      "execution_count": 0,
      "outputs": []
    },
    {
      "cell_type": "code",
      "metadata": {
        "id": "KYxpWfO66wX9",
        "colab_type": "code",
        "colab": {
          "base_uri": "https://localhost:8080/",
          "height": 35
        },
        "outputId": "4289183a-bc09-4cc8-ac9c-97cca5f81105"
      },
      "source": [
        "# you can make submission with answers so far to check yourself at this stage\n",
        "grader.submit(COURSERA_EMAIL, COURSERA_TOKEN)"
      ],
      "execution_count": 16,
      "outputs": [
        {
          "output_type": "stream",
          "text": [
            "Submitted to Coursera platform. See results on assignment page!\n"
          ],
          "name": "stdout"
        }
      ]
    },
    {
      "cell_type": "markdown",
      "metadata": {
        "id": "ezMxyssi6wYB",
        "colab_type": "text"
      },
      "source": [
        "# MLP with hidden layers"
      ]
    },
    {
      "cell_type": "markdown",
      "metadata": {
        "id": "8ZurKU4e6wYC",
        "colab_type": "text"
      },
      "source": [
        "Previously we've coded a dense layer with matrix multiplication by hand. \n",
        "But this is not convenient, you have to create a lot of variables and your code becomes a mess. \n",
        "In TensorFlow there's an easier way to make a dense layer:\n",
        "```python\n",
        "hidden1 = tf.layers.dense(inputs, 256, activation=tf.nn.sigmoid)\n",
        "```\n",
        "\n",
        "That will create all the necessary variables automatically.\n",
        "Here you can also choose an activation function (remember that we need it for a hidden layer!).\n",
        "\n",
        "Now define the MLP with 2 hidden layers and restart training with the cell above.\n",
        "\n",
        "You're aiming for ~0.97 validation accuracy here."
      ]
    },
    {
      "cell_type": "code",
      "metadata": {
        "id": "AObQZtzr6wYE",
        "colab_type": "code",
        "colab": {
          "base_uri": "https://localhost:8080/",
          "height": 146
        },
        "outputId": "27a2d147-de1c-4e18-c871-a52b96bb0855"
      },
      "source": [
        "# write the code here to get a new `step` operation and then run the cell with training loop above.\n",
        "# name your variables in the same way (e.g. logits, probas, classes, etc) for safety.\n",
        "### YOUR CODE HERE ###\n",
        "hidden1 = tf.layers.dense(inputs=input_X, units=256, activation=tf.nn.sigmoid)\n",
        "hidden2 = tf.layers.dense(inputs=hidden1, units=128, activation=tf.nn.sigmoid)"
      ],
      "execution_count": 17,
      "outputs": [
        {
          "output_type": "stream",
          "text": [
            "WARNING:tensorflow:From <ipython-input-17-75311912b2ac>:1: dense (from tensorflow.python.layers.core) is deprecated and will be removed in a future version.\n",
            "Instructions for updating:\n",
            "Use keras.layers.Dense instead.\n",
            "WARNING:tensorflow:From /usr/local/lib/python3.6/dist-packages/tensorflow_core/python/layers/core.py:187: Layer.apply (from tensorflow.python.keras.engine.base_layer) is deprecated and will be removed in a future version.\n",
            "Instructions for updating:\n",
            "Please use `layer.__call__` method instead.\n"
          ],
          "name": "stdout"
        }
      ]
    },
    {
      "cell_type": "code",
      "metadata": {
        "id": "ymcV-cTrIIbB",
        "colab_type": "code",
        "colab": {}
      },
      "source": [
        "# Compute predictions\n",
        "logits = tf.layers.dense(inputs=hidden2, units=10) ### YOUR CODE HERE ### logits for input_X, resulting shape should be [input_X.shape[0], 10]\n",
        "probas = tf.nn.softmax(logits) ### YOUR CODE HERE ### apply tf.nn.softmax to logits\n",
        "classes = tf.argmax(probas, axis=1) ### YOUR CODE HERE ### apply tf.argmax to find a class index with highest probability\n",
        "\n",
        "# Loss should be a scalar number: average loss over all the objects with tf.reduce_mean().\n",
        "# Use tf.nn.softmax_cross_entropy_with_logits on top of one-hot encoded input_y and logits.\n",
        "# It is identical to calculating cross-entropy on top of probas, but is more numerically friendly (read the docs).\n",
        "loss = tf.reduce_mean(tf.nn.softmax_cross_entropy_with_logits(labels=input_y, logits=logits)) ### YOUR CODE HERE ### cross-entropy loss\n",
        "\n",
        "# Use a default tf.train.AdamOptimizer to get an SGD step\n",
        "step = tf.train.AdamOptimizer().minimize(loss)  ### YOUR CODE HERE ### optimizer step that minimizes the loss"
      ],
      "execution_count": 0,
      "outputs": []
    },
    {
      "cell_type": "code",
      "metadata": {
        "id": "0-qHj8F7IYBB",
        "colab_type": "code",
        "colab": {
          "base_uri": "https://localhost:8080/",
          "height": 308
        },
        "outputId": "b469ac9b-e1ce-4a1c-f087-44cf17f9c01b"
      },
      "source": [
        "s.run(tf.global_variables_initializer())\n",
        "\n",
        "BATCH_SIZE = 512\n",
        "EPOCHS = 40\n",
        "\n",
        "# for logging the progress right here in Jupyter (for those who don't have TensorBoard)\n",
        "simpleTrainingCurves = matplotlib_utils.SimpleTrainingCurves(\"cross-entropy\", \"accuracy\")\n",
        "\n",
        "for epoch in range(EPOCHS):  # we finish an epoch when we've looked at all training samples\n",
        "    \n",
        "    batch_losses = []\n",
        "    for batch_start in range(0, X_train_flat.shape[0], BATCH_SIZE):  # data is already shuffled\n",
        "        _, batch_loss = s.run([step, loss], {input_X: X_train_flat[batch_start:batch_start+BATCH_SIZE], \n",
        "                                             input_y: y_train_oh[batch_start:batch_start+BATCH_SIZE]})\n",
        "        # collect batch losses, this is almost free as we need a forward pass for backprop anyway\n",
        "        batch_losses.append(batch_loss)\n",
        "\n",
        "    train_loss = np.mean(batch_losses)\n",
        "    val_loss = s.run(loss, {input_X: X_val_flat, input_y: y_val_oh})  # this part is usually small\n",
        "    train_accuracy = accuracy_score(y_train, s.run(classes, {input_X: X_train_flat}))  # this is slow and usually skipped\n",
        "    valid_accuracy = accuracy_score(y_val, s.run(classes, {input_X: X_val_flat}))  \n",
        "    simpleTrainingCurves.add(train_loss, val_loss, train_accuracy, valid_accuracy)"
      ],
      "execution_count": 19,
      "outputs": [
        {
          "output_type": "display_data",
          "data": {
            "text/html": [
              "<img src=\"data:image/jpeg;base64,/9j/4AAQSkZJRgABAQEASABIAAD/2wBDAAIBAQEBAQIBAQECAgICAgQDAgICAgUEBAMEBgUGBgYFBgYGBwkIBgcJBwYGCAsICQoKCgoKBggLDAsKDAkKCgr/2wBDAQICAgICAgUDAwUKBwYHCgoKCgoKCgoKCgoKCgoKCgoKCgoKCgoKCgoKCgoKCgoKCgoKCgoKCgoKCgoKCgoKCgr/wAARCAEgA2ADASIAAhEBAxEB/8QAHwAAAQUBAQEBAQEAAAAAAAAAAAECAwQFBgcICQoL/8QAtRAAAgEDAwIEAwUFBAQAAAF9AQIDAAQRBRIhMUEGE1FhByJxFDKBkaEII0KxwRVS0fAkM2JyggkKFhcYGRolJicoKSo0NTY3ODk6Q0RFRkdISUpTVFVWV1hZWmNkZWZnaGlqc3R1dnd4eXqDhIWGh4iJipKTlJWWl5iZmqKjpKWmp6ipqrKztLW2t7i5usLDxMXGx8jJytLT1NXW19jZ2uHi4%2BTl5ufo6erx8vP09fb3%2BPn6/8QAHwEAAwEBAQEBAQEBAQAAAAAAAAECAwQFBgcICQoL/8QAtREAAgECBAQDBAcFBAQAAQJ3AAECAxEEBSExBhJBUQdhcRMiMoEIFEKRobHBCSMzUvAVYnLRChYkNOEl8RcYGRomJygpKjU2Nzg5OkNERUZHSElKU1RVVldYWVpjZGVmZ2hpanN0dXZ3eHl6goOEhYaHiImKkpOUlZaXmJmaoqOkpaanqKmqsrO0tba3uLm6wsPExcbHyMnK0tPU1dbX2Nna4uPk5ebn6Onq8vP09fb3%2BPn6/9oADAMBAAIRAxEAPwD9/KKKKACiiigAooooAKKKKACiiigAooooAKKKKACiiigAooooAKKKKACiiigAooooAKKKKACiiigAooooAKKKKACiiigAooooAKKKKACiiigAooooAKKKKACiiigAooooAKKKKACiiigAooooAKKKKACiiigAooooAKKKKACiiigAooooAKKKKACiiigAooooAKKKKACiiigAooooAKKKKACiiigAooooAKKKKACiiigAooooAKKKKACiiigAooooAKKKKACiiigAooooAKKKKACiiigAooooAKKKKACiiigAooooAKKKKACiiigAooooAKKKKACiiigAooooAKKKKACiiigAooooAKKKKACvPfjt%2B1J8FP2b5NGsfil4g1Maj4ilnTQNB8OeF9R1zVNR8lVed4bHTbee5kjiVkMkixlI96biu5c%2BhV4N%2B0P8D/j5/wANJ%2BDv2tv2bLLwfrWueH/B2seFNX8KeOdcutLtLywv7mwuxcQXtraXj288U2noCpt3WVJSCUKK1ABpf/BTL9izWLvxPb2nxXv0h8FWsk/jLUrvwXrEFjoIS0iu9l5dy2iwWsrQzRskMjrJIWKorMrKL2n/APBQ/wDZK1HwBrXxFTx/q9vB4f1ay0vVdE1DwNrNrrkV5ebfscC6PNaLqEr3AYGER27eaAxTcFYjy2b9gH4y%2BMf2a/jn8NfGHinwppHin4o/FS38daHc6U1xeWFpeW0OiywQ3IkihkkiN3pRRwoyYHGDuJVaPi79i/8AaV%2BLmr/Ef45fG34S/CjWvFnjWx8KaPp/gKy%2BI2s2Wm6fY6Hcaldw3qa7b6al5DqDXOqTOksVoPJSKNFZiWcgHsviH9vv9mzwv4a8OeI9XvvG3meK0v5NE8P2vwm8SXGuSRWUscV3NJpMWntf28MLzQq8s0CIpmiy37xM%2Bmaz8RPBHhv4e3XxX8T%2BJbbSvDljo76rf6vqrfZYbSySIzPPMZdvlKsYLNvxtAOcYNfGHin9hH9s/WPgX4X8Nay3hfxV470a58RHRfGV/wDHbxNpGr%2BCLW%2BuUktLO11q1sJLzXIYkjhEy3qw/aTbReYCFGPUfjR/wTotfj1%2Bzb4n%2BHHxD%2BOfjW78d%2BMPhfH4Z17xS3jbWho818tpDE2oJoS3y2FuzzQLK3kRRSEPIBIrSM5AOkg/4KUfsZf8K58V/FbWPite6Jo3giysr7xQ/ifwdq%2Bk3NlZXkxhtb37LeWsVxJaSyK6pcxxtC3luQ%2BEYjj/AI3f8FZP2d/hn8ENU%2BMfgPRfFXiqbQfiD4X8L674Y/4QXXbHU7A6zqVrax3T2cmnNdeV5Fw88DeT5d48aW8MhknjB8r1T/gmJ8ZPHfwq8faR4i8DeG9G8Y%2BI9D0fR7DxDqv7RfjPxut3aWusW%2BoTRyf27AfsEZ8likUSzHe%2BGkxknv8A9qH9gz40/GD4g/F/4g%2BBfEPheOTxfB8LbzwlZ6tfXMSvf%2BE/EdzrUsN40dvJ5ENwGt4VljEzrl2MfyKrgHqFh/wUE/Zb1H4m2XwZh8T%2BJo/Fd5oun6xLoF38N9egudO0%2B9adILu/SSyU6dDut5VeS68pYiFEhQum6j4a/wCCmH7FPi3wZ4s%2BIWkfGC4TR/Bfgi68Zaxe6h4S1W0Fx4et0Z5tWsVntUbVLNVQ4nsxPGxZArEugbB0P9kP4ofEP4mfG74g/G9fD2gxfGj4O%2BHfCF1Y%2BE9duNRl0u4tE11Ltlnns7XzYwNViMT7FZikm6OPA3fN37Y37Kn7UOj/ALDHxS%2BJv7TF34AtIfhD%2BxT8QfBHhePwFqF5cNrzXukWxn1G6W5toBYqE0i3CWcbXAVppCZ22oKAPrPw9/wUl/Yy8TaHrHiPT/i1dQWehppU1/JqnhLVbJmtNSu1s7HUIUuLVGubCWdgovoQ9qoDO0qorMPT9E%2BLvw88R/FLX/gvofiH7T4k8LaXp%2Boa/YR2k22zgvmuBa7pinlF3%2ByzHy1cyKoRmVVkjLfJOofsz%2BIPFegeKfjb/wAFIvF/wz8J%2BBbf9nu5%2BHUlx4f8QTLay6beyQyXmq3k17BbpYOTBbCG2QzCAmT/AEiQsuOw/wCCPngP4u2f7I9r8f8A9pDUDf8AxJ%2BL15H4n8V6g9nJbtJCLSCy01fKl%2BeH/iX2lpI0TYKSzTZAYtkA%2BqqKKKACiiigAooooAKKKKACiiigAooooAKKKKACiiigAooooAKKKKACiiigAooooAKKKKACiiigAooooAKKKKACiiigAooooAK8R0j/AIKMfse6ld69Z6n8Urzw83hzw5c%2BINQk8a%2BEdV0GObSbd0jnv7WTUrWBb63R5IlaW2MqAyxjOXXPtN7FczWcsNndCCZ4mWKYx7/LYjhtp64POO9fmJq//BHL9uX4v6t4X1z43fHHQ31vw14P1Cz1DxRqHxW8TeJx4h1v7ZpV9a6idLvoobLSbaS50xfPsLIBRHJtWWQKgUA%2B2X/b/wD2YbX4aN8WNY8QeKtK0ttcg0axs9c%2BGWv2GqanfzIZIYLLTbixS9v2kQM6/Z4ZAyo7AkIxHReA/wBqz4H/ABH1%2By8J%2BHPEOqQ6vf8AhSfxJDpGteFdS0y7TTYbv7JLLLDeW8UkDrP8hhkVZe%2BzbzXk3xO%2BDn7bvxib4e/G3XPBvwq0P4h/Cjx1NrHh/wAM2vjjUr/Rdcs7jSbvTLmO4vn0qGaxmKXskkbpa3AjMQU%2BYJGxV%2BJPwG/bg1/4y%2BHf2mvA%2BjfCu08WX3ww1XwX4x0LUvFepSWGkLcX8N1a39lcJpwk1AxCN1kt5YrQSlxiWLHIB3Gk/wDBRv8AZA8R694F8LeFfiNqus6n8SfBuleLfBunaJ4H1m9nvND1F9lrqMiQWjNa2%2B7HmSTiNbcMpm8oMCdj4a/tufs3fFf4jXPwn8M%2BL9Ws9ft9LudThsvE/gzVtEW/sbeRI57uyl1G1gjv4I3liDy2zSIvmISQGUnyj9hT9hL4sfsw6/8ADjWfHniDw1dnwd%2Byl4R%2BGN%2B%2BkXM8rNq2lvM1zNF5kEe61bemxmKu235o0wK8a%2BGn/BKv9sbxP8UfC/ib9qb4w2eqRaf4A8V%2BF/GniaD4v%2BJNavPEUur2KW39p2umX0Men6EcqWNpaKUXKgTOI1WgD6l8J/8ABRf9kfxrosfirQfHeuf2Hcarpen6f4lvfh/rdrpWoy6lex2VlJaX09mlteQS3M0UYuIJHhBlQs4VgT6X4W%2BLvw88a/EDxT8LvC/iH7XrnguSzj8T2iWkwWxkuoPtEEZlZBG7tCVkKIzMiyRlgokTd8w%2BOPAnxF8K/wDBPbxp8CP%2BChnif4VeCPAWg/DSLQLb4meHfFt2GadI0trXUntLqzgTTZlmFvJDBHcXTGcoiOTtDdr/AMEr/h98WPDf7ImlfFX9oqwS3%2BJ3xYvpfHXxEhW3aL7Pf36xmG02N8yfZbGOys9pyQLXBoA%2BjaKKKACiiigAooooAKKKKACiiigAooooAKKKKACiiigAooooAKKKKACiiigAooooAKKKKACiiigAooooAKKKKACiiigAooooAKK5b42%2BCLH4jfCjXfBupa/r2lwXdiS994Z1%2B60u%2Bj2ESDyrq0kjmhJKBS0bqxUsMjNeGfCH9oD4lfD7/gkh8Nv2gYPDviPx94wl%2BDHhe5WCDTr7WL7UtSu7Gzj%2B03Edqk13cIJpvPuHjSSXykmcK7DBAPpyvF/j14//AGi/%2BGi/AvwI%2BAvjPwV4fTX/AAV4l17V9T8X%2BC7vWiTp13odvDDDHb6lY%2BWG/tSVmZmfPloAF5J8%2B/4JHfEzWviD8B/GGm%2BJPiL8QPFt/wCH/ix4isJfEHxG8Pappt7dILx2TEWowxNEgBwLeNQlv/qQsewINXWviZ4g1X/gql8PvA2tfCXX9Cs7X4M%2BPhpmvarc6e9trZGreDyWtVtruWZFQfe%2B0xQN8y7Q3zbU2luXCEqjtHs392rOu/4Qf/goX/0dB8Gf/DD6t/8ANRR/wg//AAUL/wCjoPgz/wCGH1b/AOaivZqKZB4z/wAIP/wUL/6Og%2BDP/hh9W/8Amoo/4Qf/AIKF/wDR0HwZ/wDDD6t/81FezUUAeM/8IP8A8FC/%2BjoPgz/4YfVv/moo/wCEH/4KF/8AR0HwZ/8ADD6t/wDNRXs1FAHjP/CD/wDBQv8A6Og%2BDP8A4YfVv/moo/4Qf/goX/0dB8Gf/DD6t/8ANRXs1FAHjP8Awg//AAUL/wCjoPgz/wCGH1b/AOaij/hB/wDgoX/0dB8Gf/DD6t/81FezUUAeM/8ACD/8FC/%2BjoPgz/4YfVv/AJqKP%2BEH/wCChf8A0dB8Gf8Aww%2Brf/NRXs1FAHjP/CD/APBQv/o6D4M/%2BGH1b/5qKP8AhB/%2BChf/AEdB8Gf/AAw%2Brf8AzUV7NXn3xA8f/Az4aDU/GHx98ceFPD%2BnnWotPstS8YapbWkHmG0jlWCOS5ZV3kCV9oOSFY44OJnOFOLlNpJdW7L73ZG2Hw%2BIxdeNGhCU5ydlGKcpN9lGKlJvR6JN6bHNf8IP/wAFC/8Ao6D4M/8Ahh9W/wDmoo/4Qf8A4KF/9HQfBn/ww%2Brf/NRVf/hr/wD4Jwf9HRfBH/wttH/%2BO0f8Nf8A/BOD/o6L4I/%2BFto//wAdrm%2Bv4D/n9D/wOH/yR7X%2BqXFn/QuxH/hPX/8AlBY/4Qf/AIKF/wDR0HwZ/wDDD6t/81FH/CD/APBQv/o6D4M/%2BGH1b/5qK7D4aeJP2cvjRoUvin4O6/4J8WaZb3bWs%2Bo%2BGrqzv4I51VXaJpICyhwroxUnIDqcYIryf4g/ts/snfCH41/ET4RfFjwPqGh2nw08Dad4p8Q%2BLZPh/f3GlRWVyL5mLXMFo8UflpZE5Z/3jO0ce54ZVXphOFSKlBpp9U7r71dHi4jD4jCV5Ua8JQnF2cZJxkn2cZKMk9Vo0nrsdR/wg/8AwUL/AOjoPgz/AOGH1b/5qKP%2BEH/4KF/9HQfBn/ww%2Brf/ADUVE37Tf7KFtN4bj1jwnr2lQ%2BK7iG30i/1z4P63YWizTXr2VvHc3NxYJDZPNcKEiW4eJpfNhZAyzRM/M67%2B3T%2BxT4CtCfiTNY292174rWG18N%2BB9W1giz8P6qdN1G6lFvpu%2BFIJWiEzMvlIXYpLNEonajE6v/hB/wDgoX/0dB8Gf/DD6t/81FH/AAg//BQv/o6D4M/%2BGH1b/wCaiu%2B0CP4MeK7ie08Lx%2BGNRmtoYJrmGxW3leGOdPMhd1XJUSJ8yk43LyMivD/2fv2qtE%2BNHxS0bwvrn7N2iaH4Y8c6bruofDPxJDqqXc%2BrW%2BlXsNrMbu1NpGLFpknjuYFSW43Qh/MMLqIyAdl/wg//AAUL/wCjoPgz/wCGH1b/AOaij/hB/wDgoX/0dB8Gf/DD6t/81Fcb4s/aq0Tw18eNR8D2/wCzdodz4E8PfETRfAfifxq2qpHeWmv6raWdxaJFp/2QrPa51LTYXnNyjLJdECJxE7Vr/Cv4teOPiNrnxd8BXf7KPg7T/FHw31m3stD06PxYJ7bW47myiu7eWe4OnIbIlZVDosdxswdrSHigDb/4Qf8A4KF/9HQfBn/ww%2Brf/NRR/wAIP/wUL/6Og%2BDP/hh9W/8AmoryfxP%2B3j4R%2BHPgTxCvxV%2BBHgDQfGuhfFOHwELG58cQp4bl1CTRotbNw%2BtT2MTQW0WnvLJMz2nmI9u8axyFoy/Q/GP9orxn8If2e7b9p5f2ZPhf4i8I6d4Y/tzxdf8Ah34ki4/c7%2BE0Y/2SE1Z3iw0Ykaz815I415bIAO3/AOEH/wCChf8A0dB8Gf8Aww%2Brf/NRR/wg/wDwUL/6Og%2BDP/hh9W/%2BaiuDvP2w/Bmm/tDS/DLVPgN4YtfCEXxTg%2BHP/CT3GuxLqbeIJtKj1KILpn2TBtWWRIhL9p80s2/yPK/e1b%2BGn7U%2BkfG341/Fn4PfCL9mnRNQTwB4a03UfCWu6jq0VrbeLJri71axlRcWshtIIrvSZ4RcfvfNwzrHsCNKAdj/AMIP/wAFC/8Ao6D4M/8Ahh9W/wDmoo/4Qf8A4KF/9HQfBn/ww%2Brf/NRXDWP7UUep/sPaB%2B2Jc/B34Q%2BFvtY3%2BJ7b4i/EoaNouixieW2Zv7V/sqXzSZ1iRA9vCH87qrAK3F67/wAFH/BeleELH4mH9lfR9O8OaZ8KvDfxA%2BIs3inW4tOvtF0vWLq6toks7b7HINRmjNlcM6vJbAgwqjO8uxQD23/hB/8AgoX/ANHQfBn/AMMPq3/zUUf8IP8A8FC/%2BjoPgz/4YfVv/mornfFfxb%2BJfg/9rnwd%2Bzlffsr/AA5utF8aprV3Ya/YeOJn1Gz03TrZGe9uLBtGWNENzc2NsVS6fa14jAttKnJ8AfGz4/eMfil8Rvgpc/sX/CweIPAmgaJeQzaT8Tri5066vNRmuALKeeXQYXtnhtoBcuyRTnZcQAKS/AB3H/CD/wDBQv8A6Og%2BDP8A4YfVv/moo/4Qf/goX/0dB8Gf/DD6t/8ANRXkPif/AIKB%2BAPBfw3gvfGfwX%2BHWgeMX%2BJWqeDLq18R%2BPILHwzbXOnwtPc3j63JY7vsqoEiB%2Byeb9qlWAxKQ7rsax%2B19pumftO%2BCf2Y5Phb8ErTUPE/gbRPEV1d6z8WFtTdm%2BurqCS20WIaS51lohatIrZtvNEsWVj3EgA9G/4Qf/goX/0dB8Gf/DD6t/8ANRR/wg//AAUL/wCjoPgz/wCGH1b/AOaiuS1f9prRfC37Xtv%2Byv4j%2BDvw4u5dS06/vrBfDHjRdQ1uwtLe2M6Xmq6W2nxf2faylfJScTzAzSwpg%2BYSvnnwr/4KLeFvH/7B11%2B3JffBf4QS2ItdAlj0nwh8U01eHR21OW1jk/ty7/sqEaSlkLpJrpxHP5UMM8hU%2BWAwB7h/wg//AAUL/wCjoPgz/wCGH1b/AOaiqHgfxx%2B1Z4O/as8OfBH43fEf4e%2BJtG8TfD3xDrkM3hX4eX2i3VpdabfaJborPcavfJLG6apKSoRGDRIQ2Mgxfsx/Gzwr%2B1B%2Bzlqfxq0j4d%2BHdKktNQ1WxstT8KaumqaXftZyvGL7TdQWCA3ds7J8svlR5ZHXBC7m1PHH/KQv4X/9kZ8ef%2BnbwhQB7NRRRQAVzPxX%2BNPwc%2BA/hdfG/wAcfiz4Z8GaK93Hapq/ivXrfTrVp3zsiEtw6IXba2Fzk4OBxXTV87f8FX3Fx/wT4%2BKvhqx8A%2BJPEusa/wCCtU0nw5pXhTwZf65eS6hcWM8cIWGxgmkiBJKmZlWNd%2BGddwyAe5ePPiB4D%2BFnhG%2B%2BIHxO8baR4c0HTIhJqWt69qUVnaWiFgoaWaVlSMbmAyxAyQO9c/r37TX7N3hbwz4c8aeJ/wBoPwPp2jeMZoovCOrX/iyzhttbkkAMaWcryBLlmBBURliwIxmvIf2q/G8HxT8D/Dr4reD/AIf%2BOdV0HwX8UNC8SeKtFk%2BHOsQajLp3lXKRyx6fPapc3MltcS2108EcbzJ9mzs3hVPzFqXwy%2BInhHwR4i8WeMf2avHGuaJ8Svh98WNJ8C%2BFrDwReXd1pk2ueJpb%2Bysry2SItpa39tJBIz3IihtzbmO4eEqqkA/TKvnH4TeKv27/AI66Pr3jvwv8b/hJoGl2/wAQvFWh6XpV/wDB/VL%2B4itdL16/0yFpbhPEUCyyPHZq7MsUa7nICgAV6/onhr4qaR8DtL8I6Z4y0yHxhZ%2BHbW1fXdZ0yXUbU3qRIsk0kKT28kyswY4EsZOc5ryX9hy28SwfspXuneNNXsr/AFRvjT44t9YvNLsHs7a6kbx5qyTNHA80zwxvlsRtLIVVsF26kA6P/hB/%2BChf/R0HwZ/8MPq3/wA1FH/CD/8ABQv/AKOg%2BDP/AIYfVv8A5qKfr/7UH/BP3wprt74W8U/tEfBzTdT027ktdR07UPF2lQz2s8bFJIpI3lDI6sCrKwBBBBGRVT/hr/8A4Jwf9HRfBH/wttH/APjtcrx2BTs6sP8AwOP/AMke9DhXimpBThl%2BIaaTTVCu009U01QaaaaaabTTTTaaZY/4Qf8A4KF/9HQfBn/ww%2Brf/NRR/wAIP/wUL/6Og%2BDP/hh9W/8Amop%2BgftQf8E/fFeu2Xhbwt%2B0R8HNS1PUruO107TtP8W6VNPdTyMEjijjSUs7sxCqqgkkgAZNXv2q/iX8Kv2UP2b/ABr%2B0l4p%2BFy6tp/grw9cardabpGiCa4uViXOxFjjYjJxlyNqLl3KqrMNaVehXTdOalbs0/ybPPx2V5nlc4wxuHqUnJXSqQnTbW10pwg2r6XSavpe%2Bhnf8IP/AMFC/wDo6D4M/wDhh9W/%2Baij/hB/%2BChf/R0HwZ/8MPq3/wA1FUNJ/az/AGP9c8by/DXS/DWvy%2BIbbw4uvahov/CmtdW60%2BweO7eKW6jbTw1q0v2G5WKOYJJM8YjjV3dFZ2mftOfsweJpPDv/AAiumWCHWfHU3hW9sPEvhLUdH1Gxvo9GutXMLWVzYCZJTa26zKtwtvG8MnmLKzGKObU4S7/wg/8AwUL/AOjoPgz/AOGH1b/5qKP%2BEH/4KF/9HQfBn/ww%2Brf/ADUVQ%2BCn7X/7C/7QWjTeI/ht4m0v%2BzovD%2Bn66l/4i8I3eiwXOl3zMtrewSajbQLc28jqUEsRdQ%2BEJDECrv7RvxEb4V6/4P8Ahp8IPgB4a8XeM/G17eJpWl61qq6RYwWtnatcXNzPdJZ3ToB%2B5iVVhctJcR52IHdQB3/CD/8ABQv/AKOg%2BDP/AIYfVv8A5qKP%2BEH/AOChf/R0HwZ/8MPq3/zUVz2v/tSfC2D9i3w1%2B1/4T%2BClleDxePDtvo3h3VDBZ%2BRf6xf2mnwQXdyI5Ft44rm8RZpVWTaschRZDtVuKtf23F8RX1l8LPBP7M3gK8%2BJSeLvEGgeItGvvHK22hadPo9rb3dzs1Qaa8k7NBeWjpGbSNvmm8zyhA5oA9W/4Qf/AIKF/wDR0HwZ/wDDD6t/81FH/CD/APBQv/o6D4M/%2BGH1b/5qK8C17/gqh8FH1z4aDwF8CvC19pfxJ8HeFPEWiQa74lg07WtZh1y8a2W20WwFpMur3FmFEt2gnhEKSxHcwfI9Ub9qHwnrf7ZN/wDslfD39nfS9Zjs/h/r2sReK3vYbe3uNa0ufR45tHSMwNkBNbs2e6DlY33xbGeOQIAdT/wg/wDwUL/6Og%2BDP/hh9W/%2Baij/AIQf/goX/wBHQfBn/wAMPq3/AM1FVv2d/iZdfE74h%2BN/g18Xf2fvCXhrxT4GTS5tQXwxrg1vTpoL%2BKWSELcy2NnIs6%2BQ5khaEbVeFwzLKMeteDBs0MwKTshvruKIE52olzIqr9AoAHsKAPLv%2BEH/AOChf/R0HwZ/8MPq3/zUUf8ACD/8FC/%2BjoPgz/4YfVv/AJqK9mooA8Z/4Qf/AIKF/wDR0HwZ/wDDD6t/81FH/CD/APBQv/o6D4M/%2BGH1b/5qK9mooA8Z/wCEH/4KF/8AR0HwZ/8ADD6t/wDNRR/wg/8AwUL/AOjoPgz/AOGH1b/5qK9mooA8Z/4Qf/goX/0dB8Gf/DD6t/8ANRR/wg//AAUL/wCjoPgz/wCGH1b/AOaivZqKAPGf%2BEH/AOChf/R0HwZ/8MPq3/zUUf8ACD/8FC/%2BjoPgz/4YfVv/AJqK9mooA8Z/4Qf/AIKF/wDR0HwZ/wDDD6t/81FH/CD/APBQv/o6D4M/%2BGH1b/5qK9mooA8Z/wCEH/4KF/8AR0HwZ/8ADD6t/wDNRR/wg/8AwUL/AOjoPgz/AOGH1b/5qK9mooA8Z/4Qf/goX/0dB8Gf/DD6t/8ANRR/wg//AAUL/wCjoPgz/wCGH1b/AOaivW9Z17Q/Dtk2peINZtLG3X71xeXCxIPqzECvM/F37d/7FHgNni8W/tZ/Dqzlj%2B/bN4xs2mH/AGzWQv8ApWNXEYegr1ZqPq0vzaPRwGT5xmsuXA4apWf/AE7p1J/%2BkQn%2BhQ/4Qf8A4KF/9HQfBn/ww%2Brf/NRR/wAIP/wUL/6Og%2BDP/hh9W/8AmorhPEP/AAWe/wCCZvhqU295%2B1Lp9zIDhU0vQ9RvNx9AYLdgfzrM/wCH0X7G9983hbSviPrqH7kmk/DfUHD/AE3xrXC88yaLt9Yhfykn%2BVz6un4W%2BJVWCmsnxKi%2BsqM4L76ns0enf8IP/wAFC/8Ao6D4M/8Ahh9W/wDmoo/4Qf8A4KF/9HQfBn/ww%2Brf/NRXmJ/4K3%2BENVPl%2BAv2IP2kPEbn7p0z4VSCMf7zSTLtHvigf8FEf2pNY%2Bbwh/wSn%2BLUyt9w61fWWnk/UOzban%2B3MsfwzcvSM3%2BUDT/iF3HMP42GjS/6%2BV8LT/CeKv8Aekenf8IP/wAFC/8Ao6D4M/8Ahh9W/wDmoo/4Qf8A4KF/9HQfBn/ww%2Brf/NRXmP8Aw2Z/wUuv%2BdC/4JC37Kej6j8a9HtiPcqYyfwpf%2BGmf%2BCs95zb/wDBMbw5Z57XfxosJMf98R0f2zhHtCo/%2B4VT/wCRQf8AENeII/HiMHH1x%2BD/ACVaR6b/AMIP/wAFC/8Ao6D4M/8Ahh9W/wDmoq3%2Byt8RvjT4w1j4oeBPjpr/AIX1bVPAPxCi0Oz1Xwn4audJt7q1l0HR9TVnt7i9vGWRZNRlQsJdpWNDtU5z5P8A8Ly/4LB3n/Ht%2Bwt8N7PP/P38TRJj/vhK6D/gnXq3xm1zW/jzqv7QXhLR9C8Xy/GaD%2B19K0C/a6tIMeEfDYi2SsAWzCI2PozMO1dGGx9PFTcYwmtL3lCUV976%2BR4%2Bd8J4zIsKq9bE4apd8vLRxNKtLZu7jTu1HTWV7XaXU%2Bk6KKK7j5cKKKKACiiigAooooAKKKKACiiigAooooAKKKKACiiigAooooAxviD8Ovh98WvB198O/ip4E0bxN4f1SNY9S0LxBpcV7Z3aBg4WWGZWSQBlVgGB5UHqKx/hR%2Bzv%2Bz/8B9Ph0n4HfAvwd4Mtbe3e3t7bwp4YtNOjiieTzHjVbeNAqs/zlRwW5PPNdjRQBQ8P%2BFfC/hOK6g8K%2BG7DTEvr%2Ba%2BvU0%2BzSEXF1MxeWdwgG%2BR2JZnOWYnJJNfN37QOsf2Z/wAFZf2abLfj%2B0fhf8TLfHriXwvLj/yF%2BlfUFfGv7Y2rnSv%2BCxv7GMTNhL3w18ULdz9bDRnA/wC%2BkFcuMn7OhzecfxlFfqe5w7hvreZ%2By/6d1n/4DQrS/wDbT7KooorqPDCiiigAooooAKKKKACiiigAooooAK4nxX8IvhP8aINX8LfGL4YeHfFmmW/iCK6g07xNosF/BHOtlCiyrHOjKHCu6hgMgOwzgmu2ryf47/tW/AL9j7w1qPxL/aL8e/8ACO6JfeK4dMtb3%2By7q733T6ekqx7LWKRxlIZTuKhflxnJAOOInh6dCUq7SglrzWtbzvpb1GsfLKn9bjWdJ09edScHHpdSUouO%2B6kt99RP%2BGB/2Ff%2BjLPhL/4bnTP/AIxR/wAMD/sK/wDRlnwl/wDDc6Z/8YryT/h%2Bb/wSy/6Oi/8ALJ1z/wCQqP8Ah%2Bb/AMEsv%2Bjov/LJ1z/5Crxfr3Cv/Pyh/wCU/wDI0/4ilif%2Bh7P/AMLKv/zQfSXw0%2BEXwn%2BC%2BhS%2BFvg78MPDvhPTLi7a6n07w1osFhBJOyqjStHAiqXKoiliMkIozgCvFf2lf2F/Ffx48XfErU/D/wAZ9N0LR/ir8L7Dwh4l0698ISX1xC1lLqcltd2063sKoM6nIJInik3iJNrxksT6T%2BzR%2B1b8Av2wfAl38S/2dPHv/CRaJY6vJpl1e/2XdWmy6SKKVo9l1FG5wk0R3BSvzYzkEDH%2BJX7Zfww%2BFfizxL4F8S6Drz6x4cl8MRx6fa2sDSat/b9%2B%2Bnae1pumUODdxTROXMezyXY/IAx9rDzw9ShGVBpwa05bWt5W0t6Gbx8s1f1uVZ1XU153Jzcul3Jyk5bbuT230PKv2vv%2BCY8v7Vnx6t/jLc/FLw7ZxQy%2BGJrePX/h2msalo8mj6sdQI0m9e7jGmpd5EVxthd3CghxgKNjw7/wTsXQdd1XWz8XxN/aeg/EzTfL/wCEe2%2BV/wAJd4ih1nfn7Qc/ZPK8jbx5%2B7fmLGw818ev%2BCsfw78HeG/j34G%2BGmlW8fxL%2BEfwl8W%2BL9J0zW9a0nULTUDosPzmaHS9SmurZPOltcw3S2kzpMdgyknl95q37eGg%2BH/iP4k%2BFOm/DrxX418S6f8AEC58P6X4Z8J6NZwXRhttE0zVLq5Mt5qCQywxLqMIMrNA7PPHCkDsokl2EeqfBn4feI/hZ4E0j4d6n4pstUsNB8P6dpmmyQaS9tMfs9ssMkkrGeRX3sgZVVU2A7SZPvV458Hf2FfHPwf8a2fiCy%2BOmmahpngrQvEWm/CLRrrwY6jQhq13Fcs2oSLfA6mLcQRW8SxizPkeYHZ5GEy9l%2BxB%2B0jqn7T37Mvw8%2BLvizRzZ654t8A6b4i1GKx0S8t7CM3SE7IpJgyhgVbMJkaVAVLgBlJ878E/tjfGzXvjzoMurab4WHw28Y/GLxJ8NtB0%2B3025XWrO/0e01SV9RnumuTDLDLPol/ELdbdGRZbdzK/zqADc8UfsN%2BIPEfx0v8AxuvxktoPA/iD4haJ488U%2BDP%2BEYLXd54g0q0s7e1khv8A7UFt7UnTdNmeA28jtJakiZRK4qDQf2Vv2vPDfjv42ePNE/az8E2F58U7UN4cubH4Q3Pn%2BGL6G1is7O5Yza1JHfCOCLLxmOISzEPmNAYWyv2mv2xvjb8K/in4xf4eaZ4Wbwb8JtF8N6n47ttZ025m1HWI9UvriKaOxmjuY47Rra1t/PDSRXAnklEWIQpkOnrfx3/aJ%2BH37bFv8KPG3xS%2BG118O4fA2u%2BMvFkyeCbzTr3w1pUE8UNgs9/Jq00Mjys9wzSfZo1ZNOuCFjyoABleGP8Agnv440T4DeDPhtffFjwVN4o%2BG3j%2BPxf4K8Tw/Di8Ns%2Bpm3uYLi61O2udYnm1G5nF9fSSXAuoXMs6yDDJlsq7/wCCc/xy0vS/h14b8FftPeEjofgjW9X8Taj4b8U/Cy4vtO1bxNf6rPqY1AQ22sWnkw2k1zN9ks2aVICY5C0ksEMkfORf8FHP2h7rwL8S/Guu%2BCvCvg%2Bx0f4h%2BGtN8Nar4k0u8aLw14d1aC1mXVtdi%2B0RsXSKcSyRK9ssBmWKWQCKSc6Nl%2B3v8cvG/wCzHoHx8%2BFviH4eaiukfHXTvAnje9/4Ry%2BlsvEFnceKbLRVvtJ23ym1ElveLdI8j3SAkKPOXErAHpXxK/YW0z4v/tWaR%2B0H48uPAx07QL%2B3vtNh0n4crbeJLmWG2aKGG71w3bvNaRzO1ykMUEJEkcAMjLGwky/gl/wTY8C/ssfFjxL8Wf2Z/iBr2kyX/wAKtK8G%2BFNB8X%2BJ9f8AEWmaGbG41CaKZoLzVv8ASIB9rgRLZTD5CwTeVLH9rlqh8TP269Q0f9tSf9nLTPiB4b8K6H4YufD1v4lvfEHgHVtWbUrvVZT5Vot9aTw2mi708mKCe8MouLi4MaRZhIkrfs3/ALc/ij9pX4zeJPC2h/EvwlolidW8T6L4M8M6l8OdYNzd3Gj30tg93/bD3UVjfYkgaeSwto/OiilQPKjK9AHSfAX9mH9r39n/APZo0f4F%2BG/2nvhze6ro2p3Ji12%2B%2BDl8bSbT5S0nkPaLr4fzxNI7eeJwhQqhhyDIeU8bf8Es9A8dfCD4ffs8eIPFPg3VPCXhDw7DpGqaj4g%2BGMV74juIPMDXUenaibpY9IiuIx5DRpbSlIiVjZCFZcHwz%2B3j%2B0lrN3rfwftT4WvPF0nxP0Xwf4Z8Var8NdY8O2sb3dlcX11Pc6Ff3pvnjgt7OcxSi4jhu2dFjdRHI9cz8Vf%2BCpPxu%2BHPgNdS8R3/AMNvC2peHNN8a/25f%2BI9JvpLHxhrHh7Vn08aPpCpeI1rcXkcRuUV2vJY1mVFhufLkYAH1to/wH%2ByftRa7%2B0zrnir7fPe%2BC7Dw14f0j7DsXRreK5ubm7kWTefNe6kltt/yoAtjAOSCTxdz%2Byb8VtB%2BDHxa8NfCT9ouPw58Q/ip4v1DXJfiPJ4U%2B1HSvOMNtbRx2huk8x7bS7W1s0kMoBkgE%2BwA%2BTXkl7/AMFIPivqP7W2i/DPwzoWjw%2BENX8UeHNMs7XUPCGovJd2eqaRFfm8k16O4GnaddRvK0SaVPE11cCFGjOLqEjtvA/7Rn7Sms/tL%2BOP2Y9T8T%2BF7q70vwTcazpPiJ/hFrekQ6dcrdpDHCLa71Bm8RQlJCz3FhLFGjxLGxVriMKALpn7BPjfQvhl8MdI8N/EX4faZ4v%2BEGvXd74J1iz%2BGV4%2BlLb3VjPZ3MVzYz6zJczzSi5lme6F6kjzbXfdmVZYdS/4J9ePZf2fvCX7IukfHjQoPhxo2k6Ta%2BIIrn4ftLrl9LZ3ou2ks71b9LfT1Z1RY0%2ByTG3AJjfOwp54n7fv7WGtfCiPW/DWkafJc2Hx2l8Ha/4rh%2BAXii7e30VPDcmp/wBozeForwarp8n20wWWJ5SGjZLoL5VxFj0f46ftO/HDwN8DvB37Sfwh%2BLHww8XeHdVstCgt9Kg8JX32rxzqV9cxxeVpUq6kRYearhoo5IrxkO7zG2xs9AHYeKf2b/jb8Qvjz4d%2BK3jz46eHJNH8C6vqmp%2BB9G0fwDLa3kVxd6fdWCJqF4%2BoyrewRw3cjGKKG2EkscDscxAHiPE3/BP/AOKnxHvfFfxE%2BJP7Q/h9vHWujwiul6j4Z%2BHUlho1qnh3VpdVs1utPl1K4lvhJPPIkubqP91sWLyWBkZngn9vG88e/tl698Hf%2BFheG/D/AIX8OeM7jwpHpepeAdWuLvXdRh0tbyVY9aWePTrKcM7FLF45riWC1eUbRMvly/8ABO/9ubVP2z7CHxxq/j7w3Fb%2BJfClr4m8N%2BB7XwFq2mahp2m3D5jkbUb2c2%2BtKqvHFLNZQpDHPlNzZUkA9C%2BDPwD1j4CfCPx1F4r8cWviDXvF%2Buar4k8Q3%2BmaIdMsRd3MKoUtbQzTtBEEhjyGmkZ5DJIzlpDUHjj/AJSF/C//ALIz48/9O3hCvUvHP/Ik6x/2Crj/ANFtXlvjj/lIX8L/APsjPjz/ANO3hCgD2aiiigAooooAKKKKACvBf2P/APk3rV/%2By9%2BOf/VgarXvVeC/sf8A/JvWr/8AZe/HP/qwNVoA6zX/ANib9jLxXrt74p8U/sj/AAx1LU9Su5LrUdR1DwDp0091PIxeSWSR4SzuzEszMSSSSTk1U/4YH/YV/wCjLPhL/wCG50z/AOMV534//wCCyn/BNz4X%2BO9b%2BGnjr9o77Drfh3V7nTNYsv8AhENYl%2Bz3VvK0Use%2BO0ZH2ujDcrFTjIJHNZH/AA/N/wCCWX/R0X/lk65/8hV4M8bwwptSnRvd3v7O9%2Bt9N73uaf8AETcTQ/dLPJx5dLfW6qtbS1vrCta1rWVrWsrWXs2gfsTfsZeFNdsvFPhb9kf4Y6bqem3cd1p2o6f4B06Ge1njYPHLHIkIZHVgGVlIIIBByK1v2mvgnZftJ/s6eO/2e9Q1%2BXSYfG/hHUNDfVYIBK9n9qt3hEwQkByhcNtJAbbjIzmvGvAP/BZT/gm58UPHei/DTwL%2B0d9u1vxFq9tpmj2X/CIaxF9ouriVYoo98loqJud1G5mCjOSQOa9x%2BOvxh8Ofs%2B/B7xH8b/GWmajdaN4V0qXU9ZTSoUknis4hunmCu6BljjDysM52xttDNhT6GBrZbWhJ4OUGk9eTltfz5UtbdyZcSVOJP3s8a8TyaXdWVXlvra8qlS197Jq%2B9up5H4i/Ym%2BIXj/Qfi7L49%2BPtrF4k%2BLfw703wzfa14T8KzabDpslmNRC3MUUl9PIyOL8BojMDiJsSDzBs4b4I/8ABKaL4ReIofE0PxJ8IWG34uDxy%2Bg%2BAvhfHoGkQMPCN54cNnbWqXkphDfahdtKzyMzoykfOHT0X4z/APBRD4O/BbS/F2uap4b1PULHwV4ts/DesaiPEGg6VaPf3GmxaiEhuNX1Kzhk2QTwBgH375gqK%2ByQpyNr/wAFHdJ8U%2BPo7/wTcWlx4C1zwZ8JNd8I6rFoUk95df8ACYeINW00rMj3cKxxiKzsyrAF4GkmdkucLBXcSdX8Df2KPEPwCj8CXfhH4uWVzf8Agb4G6V8OreXUPC7tDd/Y5IGN80aXasu9YWAhDnYXB8xtu1us/aN%2BAXjj4qeIPB/xM%2BD/AMT9O8I%2BM/BN7ePpWqa14afV7Ge1vLVre5tp7VLq1dwf3MqssyFZLePO9C6N5h4N/wCCjR%2BJn7RXg/wR4Q%2BD/iay8A%2BI/BXizX7TxZqmhLO3iGHSbjToY59Ljsrmacxv9qlbyp7dJ5g0DQoQTn0n9qT40fED4e6N4F8LfBxNIh8UfEnxvb%2BHdC1DxPpc9xZabmyvNQnuZ7WOa3lm22thcBYhLETIyAsozQBT8O/ssax4C/Zdtf2VvBninwvqGh6Z4HsNCsf%2BE78EtrEd5PHuF3c6hAt5BHdx3CbcwIIdjmRt7q6onndn/wAE14vDf7PL/Bfwje/CR7zVvGU3iTxHP4m%2BB8Oo6Ml28CW8R0zSRfxR6cbeCG2igLyXG1IPnErOznodK/a6%2BKb/ALBPjX9o9/h3Zax448C/8JXpl9omjw3As9Q1PQ9SvtNlmhjBknW3lksjOIgZJVjfZl3GTyfwR/bM%2BI/x68H/ABM0fwV%2B018ILq/%2BGGoWV3qHxS0vwNe33hnUdHn083TNHbJrKsksMiTxvIt7NGPIOVDs0cQAzWv%2BCWa2Wj2nwx%2BGHxvj0nwHP4J8JeFvEOka14W/tHVJLPw/cyT20ljfi6hWxmlMrGR3guAJP3saxuST0Fj/AMEzfhz8Pv2kNM/aZ%2BA3xD8T%2BG9W0jwr4ysrLSNX8X69rGljVtfu7G7bUDZ3GpiBYUmtZ5JLJESO4kuY5S0clrA6%2BHfFH/gpj%2B2X8KP2b/ht8SfF3hPwhZ%2BJPE/we1Px3qtvD8OdYvraeSOS3e00yaK2v2bw9Gbe6jFxqt9LLZwSBtxAXB%2Bm7L4y/HGy/bs0r4H6/d%2BEZ/Anij4W6r4k0SHT9KuRqtndWF3ots6zXZumguIpDqcxVUt4yoiQ72yRQA/9iP8AZo%2BKf7L3gDUvBvxT%2BLvhzxvf6nqJ1PUfE%2BleCbnSdQ1fUZQftV9qDzaleC5lkxEqiMQxwxxLFGgiSNI/VvB//IJm/wCwrff%2BlctalZfg/wD5BM3/AGFb7/0rloA1KKKKACiiigAory740fts/skfs7vJb/Gf9ojwpoV1ECX0241eN7zj0toy0p/BK8Zb/gr58LPHjG3/AGWv2bvi/wDFkucQ6l4Y8DzQacfQvc3Xl%2BWD6lDXn181y3DT5KlWPN2TvL/wGPM/wPr8r4A41znDLE4TL6rov/l5KPs6X/g2q6NP7pvyufW9FfI5%2BNv/AAV%2B%2BLn7v4cfscfDr4YWsvEd/wDErxu2qShP7/kacoKNjorZwetH/DD37ePxZ/eftF/8FNfEmn2sv%2Bs0T4S%2BHLbQxCO4S9O6Zvqy5FY/2pUq/wC74epLzaUF982n/wCSnpf6iYXBa5tm%2BEod4wqSxVT/AMBwsJxv61l6o%2BqPEnizwt4O05tY8XeJdP0q0X711qV4kEY%2BrOQK8W%2BIn/BUH/gnx8LvMXxX%2B1x4Ld4s%2BZDo2qDU5FI7FLMStn2xmuR8Nf8ABGn9g%2Bw1EeIfiH4B1z4g6yPv614/8WXuozyeu5TIsRyf9ivavh3%2Byv8AszfCPY3wv/Z78FeH3jxtm0jwxawSZ9S6RhifcnNHNnlXaNOn6uU3%2BCgvxD2HhZgfjrYzFNfyU6GGg/nUliKlvPlT7o8Gb/gsL8FfGH7j9nT9n34yfFGST/j3n8JfDy4W1PozzXPlbE/2tp%2BlJ/w0h/wVh%2BKhx8Kf2BfCfgS2k/499U%2BKPj9bjcP7z2tgolj/AN0kmvreij6jmFX%2BNin6QjGH4vnkH%2BtXCGB/5F%2BRU2/5sTWr4h/%2BAReGpfKzR8kj9nL/AIK1/EP/AEjx9/wUL8IeB1f/AF2m/D/4YQ3qAf3Vnv2Ei/XGaU/8Eu/HPi/5vjT/AMFIvj5ryn/W2ei%2BKYtHtZfUNFBE2R7ZFfWtFH9i4GX8Tnn/AIqk3%2BHNFfgL/iJvFNH/AHJUMMunscJhabXpJ0Ks/m5t%2BZ8qaN/wRZ/4J5Wt6useLfhDqfizUR11HxX4v1K8kf8A3lM4Q/8AfNeneEP2Af2HvAap/wAIt%2ByP8OreSP7lxJ4QtJph/wBtJI2f9a9dorallOV0HenQgn/hjf72m/xPOx/iDx5mkeXF5riZrs69VR9FGM4RS8lFLyMvw94I8F%2BEYhB4U8I6XpiKMKmnafHAAPoiitSiiu9RjFWSsfKVKtWtNzqScm%2Brbb%2B9tv8AEKKKKZmFFFFABXjP7L//ACW/9o7/ALLNY/8AqFeF69mrxn9l/wD5Lf8AtHf9lmsf/UK8L0AezUUUUAFFFFABRRRQAUUUUAFFFFABRRRQAUUUUAFFFFABRRRQAUUUUAYHxS%2BJvhL4N%2BAtR%2BJfjp9SXStKjR7s6RoV3qdyQzrGojtbOKWeZizKNscbHnOMAmsyz%2BPvwt1T4F6d%2B0lous32o%2BENX0C01rSr7TNBvbq4vLK6jjkt3is4oWuXd1ljxEIjJlsbc5FX/i5rXiDw/wDDTWtV8K/DzV/FeopYstp4e0G4soru8Z8Jtje%2BuLe3UgMWPmSoMKcEnCnwP9mPxF%2B1H8DP%2BCcfg3wPD%2BxX4qn%2BI3gD4Q6ZpVt4O1LxR4fhj1TVrK0htBbrdw6jNFHG7oZRKxGIgcgSYiIB7j8Gvjn8M/j74bu/FPwx1m7uIdO1OTTdUtNU0W70290%2B8jVHa3ubS9iiuLaTZJG4SWNSUlRwCrqT8f8A/BR7VP7E/wCCsX7EGp7sbrzxta5/67R6LFj/AMer6A/YM8C%2BN/B3wm1bV/i54A8T6L458T%2BKZ9Z8c3niptLEusalJb28ZuYI9Mvr2GC0jhigs4ImlMqQ2SB95/eyfHv/AAVU8O%2BJfAn/AAVG/Y78c6r8XPEOuWWqfEHUY7PQ9UttOS00NH1Dw/E62zW1pFOyv5g3G4lnI2LtK/Nu83OJcmXTl2cf/S6Z9t4dUPrXGOHo/wA8a6%2B/C4v/ACP0wooor0j4kKKKKACiiigAooooAKKKKACiiigArK8P/wDIW1z/ALCif%2BklvWrWfe%2BGNIv7t7%2BQXMUsgAke1v5oN%2BBgFhG6hiBxk84oA0KKy/8AhD9J/wCfvVf/AAeXf/x2j/hD9J/5%2B9V/8Hl3/wDHaANSvKfir%2Bx58KvjB%2B0b8Pf2nPFF/rMWufDkXn9n6fY3caWGqGaMrEb6Jo2af7MzSSwbXTy5JGb5uMehf8IfpP8Az96r/wCDy7/%2BO0f8IfpP/P3qv/g8u/8A47QB81ah/wAEkvghrGl%2BIfDOsfGj4k3Oh638PfGfgzTtCfUtNW20HS/E80U2pfZNliJHmEkKGOa5e4ZeQ5kGAO18VfsE%2BAdZ8far8WfCXxY8b%2BEvFmqeM7nxEfEXh27sDPbNc6TYaVc2UaXVnNEbWWDTbR2V43kWWMOkiEKF9g/4Q/Sf%2BfvVf/B5d/8Ax2j/AIQ/Sf8An71X/wAHl3/8doA5P9nL9njw/wDsxfCvwt8FfAfjXxBfeG/CHhOy0HSLHW5raZvLtgyrcySpAkkk7qVVyW8siNSqKxZm5fQP2Hvh14d%2BOa/Gqz8e%2BK5Le08Saj4k0TwVNdWh0bSNdv7WS1vNUt1FsLnz5Yri7BSSd4Va8uGWJWkJr1T/AIQ/Sf8An71X/wAHl3/8do/4Q/Sf%2BfvVf/B5d/8Ax2gDyH4kfsH%2BBPir40s/Gvi34s%2BNWebStE0/xvp9tPp8Vr41j0m7e7sjqSLZ5UrPLMz/AGM2qyrK0UgaILGvZW/7NPwvl8f/ABD%2BIXinTn8RTfE3R7HRvEumeIYYLqyOlWsE8UenJCYwGtmN3eSvHJ5m57ybJ2kIvWf8IfpP/P3qv/g8u/8A47R/wh%2Bk/wDP3qv/AIPLv/47QB4z8Pf%2BCc/7O/wIv/H%2Bv/sr6VH8I9X%2BIU%2BnSX%2Br/DvwzolpJpqWaRosNrHLp8sAikEbGRJY5QWmlZdjEFYPH/8AwT48LeM/gLpXwB0L9oT4ieGLOy8ZQ%2BLNW1/RG0abUte1mLVY9XW7vHvtNuI8/b4kn2QxwphREFEIEQ9t/wCEP0n/AJ%2B9V/8AB5d//HaP%2BEP0n/n71X/weXf/AMdoA8i%2BIP7CPgT4l%2BNovGXiX4reMwl7FoX/AAmmj2kunRWnjCbSLj7TZT34Fn5iSLLguLR7ZJVCxurRqqBmk/sFeA9A8fzeOdC%2BLXje0gtr/X9T8J%2BH4bjT/sPhfVtZM7X%2BpWQNmZnneS6upFW6kuIYzcyBIlUhR7B/wh%2Bk/wDP3qv/AIPLv/47R/wh%2Bk/8/eq/%2BDy7/wDjtAHit1/wT68H6zbazrni/wCPPxC1rxxq2q6NqFv8S72bSY9X0uTSmmawW1it9PjsEjjN1eAo9q4lF5OJfMD4FjVf2DPDF/8ABWz/AGftO%2BPfxD0zwxOdXbxta6fdaYJvGj6rdPdag%2BoXD2LSxNNLNcktYtaFRcyBNgEYj9i/4Q/Sf%2BfvVf8AweXf/wAdo/4Q/Sf%2BfvVf/B5d/wDx2gDyDVv2BfhfqfxauPiPb%2BP/ABbY6Lf%2BMNJ8V6r8O7G4sk0O%2B1vTLe0t7G9YG1N1GYl0%2BwbyYriOBntI2aNiX32dL/Y0u7bxld/E3Xv2qPiZrXitfDN3oHhnxLqX9hrP4asbq5tbm5Wzig0yO3kaWSxs9z3cVwxFsgzgtu9W/wCEP0n/AJ%2B9V/8AB5d//HaP%2BEP0n/n71X/weXf/AMdoA8o0H9jXUvCXh7W4fB/7WHxN0zxN4p8Trrnivx5DFoEup6vKllFYxwyRT6U9lDCkFvbqqwW0RBiDFizyF%2Bdf/gm34L0rxP8ADfxH8OP2ifiT4Ui%2BFnhqTSPC%2Blac%2Bi31qHmYm51CQanpl05vp1Jie4RkYRtIibBLLv8Aef8AhD9J/wCfvVf/AAeXf/x2j/hD9J/5%2B9V/8Hl3/wDHaAPLLz9iD4c3vxx/4XK3jvxTHZN4wj8WzeBIrizXRZtfjsRYpqTD7N9r8wQqh8oXAtzIglMRkJYn7PX7EHw5/Zz8V2Hibw5478VazD4d8Jt4W8C6Pr1xZm08KaE00Mp06yFvbQu0WbW0XfcvPKEtIlEmAd3qf/CH6T/z96r/AODy7/8AjtH/AAh%2Bk/8AP3qv/g8u/wD47QAnjn/kSdY/7Bdx/wCi2ry7xx/ykL%2BF/wD2Rnx5/wCnbwhXqJ8GaG%2BFna%2BmTIJiuNWuZEb2ZWkKsPYgivLvHH/KQv4X/wDZGfHn/p28IUAezUUUUAFeQ/tr/Ejx98PPhPpFl8MvEraFrHizx/4d8MQ%2BIktIZ30mLUNTt7ee5jjnR4mmELyCLzEeMStGXR1BRvXq534sfCfwD8b/AAFe/DP4m6G2oaPfvBJNDFezW0scsMyTwTwzwOksE0U0UcscsTrJHJGjoysoIAPnSw%2BMv7VE/wCyH8ULDwb4g1HxV47%2BH3xGu/DNv4otdBtZdSvtLivrVpr%2BOzhiS3nv4NOuZcRJEI5rm1AEIEnlV4%2Bf2zv2pPF%2BmT/CP4aeKvilrN7o/wAd7rwxFf2vhDQdJ8d6/oqeEbXWxMlnrdpbaZatFc30ccjXEFuxto4tqieYK32N4W/ZR%2BC/gj4e3Xwv8IWfiTTdIvbSeG6Fn481iO6lee6kup7s3Qu/tH22SeWSR73zPtLlvmlIAAx739hL9mS98CaV8P8A/hENatodF1241rT9b0/xzrFrriahcRyRXF02rw3a6hLLLHI8cjPOxkQhWyqqAARfss/HzWPFn7D/AIH/AGgPi1qs2t6rdeC7O88TXHhbwxe3Ms14I1W4WKxt4GuGkEodWiSLIZWwigYHNfsM%2BIbDxb%2ByxceKdKt76K11H43%2BNLm3i1PTJ7K5RH8faqwEtvcIk0DgH5o5EV1OQyggivcPh18PPBXwl8CaR8Mvhx4dt9I0HQdPistJ021B2W8EahVUEkljgcsxLMckkkk15Z%2Bw9YWmp/AXX7G%2BgEkUnxl%2BIwZSSP8AmdtaIORyCDggjkEUAe2UVlf8IfpP/P3qn/g8u/8A47S/8IfpP/P3qv8A4PLv/wCO0AalVNe0LR/FGh3vhnxFpsV5p%2Bo2klrfWdwm6OeGRSjxsO6spII9DVb/AIQ/Sf8An71X/wAHl3/8do/4Q/Sf%2BfvVf/B5d/8Ax2gD5%2B8E/wDBMH4UfDT4R%2BA/hh8PPjV8R9K1D4fa3qeqaX45XU9PudbvJb9JoroXUlzZSQSbopvKV1hSWNIYhG6bSTY8Df8ABMT4B/D/AMNeHvCuieLfGElt4a8NfDzQ7BrvUrZ5HtvBuq3eqaW0jfZxuklnvJVuG4DoqCMQsC7e8/8ACH6T/wA/eq/%2BDy7/APjtH/CH6T/z96r/AODy7/8AjtAHiHw2/wCCd3gX4U/ETS/iB4S%2BOvxEVfC/hvXdC8B6FcXmmyWHhaz1Wa2mmS0Q2O%2BUxPaQeSbp7jYqbDuT5a9I%2BOfwD0T47%2BDdL8Oav4013RNU0DWrXWPD3izQHtV1HTNQgDKtzEJ4Jbdi0ck0TpJC8bxzSKUweOn/AOEP0n/n71X/AMHl3/8AHaP%2BEP0n/n71X/weXf8A8doA4v4bfs22Hwi%2BGEPwr%2BHvxV8VWFqmnautxqJNhNeXWqaldNeXGtSPLaMpvftMtxMAFFsXuZN0DgRhOZuf2FfAGu/BX4g/B3x38T/GXiOb4qtt8f8Ai7VLmxj1TVrfyIrY2h%2BzWkVtBbm1i%2Bz%2BXDBGNksrDEsjyn1r/hD9J/5%2B9V/8Hl3/APHaP%2BEP0n/n71X/AMHl3/8AHaAPK/2i/wBiPwR%2B0Tr0viGb4o%2BMvB82oeDrnwn4jTwddWUaa3oc773sZxdWs5iAJk2zWxhnQTSbZRkYku/2O7d/2nfDn7S%2Bj/tB%2BO9LHhXwzP4e0nwLY2%2Bif2KumTtZvPbt5mmvekSSWFrIWF0HUx4RkRmQ%2Bof8IfpP/P3qv/g8u/8A47Wd4rX4feBPD914s8b%2BMpNG0qyj8y81LVfFM9vbwJ/eeSSYKo9yaTairt2RdOnUrVFTpxcpN2SSbbb2SSTbb6JJt9EdLWV4P/5BM3/YUvv/AErlr5L8R/8ABSXwV8R9fufh/wDsEfBLx38b9bt5DDc6rpOs3en%2BH7KT0m1K4cJnkEBQVYZw9S6d%2Byv/AMFI/wBoS1jj/aM/a4svhT4dYHHgv4I2zJeBDz%2B81W53SrJyd2wMjEk15TzejVfLhISrPvHSPznK0fu5j7%2BHh1mOAgqvEGIpZdFq/LWbddp7cuFpKdfXp7RUE%2B9tT6X%2BLPx7%2BCPwH0f%2B3vjR8WvDvha1KFo5Nd1eG2MuOyK7AyH2UEn0r52vf%2BCuXw5%2BIV7Lof7Gf7PfxH%2BNF4jmP%2B0PDfh6Sy0iNwcFZb67VBHz/FsKn1rqPhP/AMEnv2F/hXq//CWXXwbj8Y%2BIHYPceIviDeSa1dTyDpIwuS0St7qimvomxsbHTLOLTtNs4re3gQJDBBGESNRwFVRwAPQUuTOsR8U4Ul/dXPL75csV8osf1nwzyb%2BDQxGYVF1qyWFo/wDgul7WvJf4q1O/W3T5KRv%2BCy3x2PmhPhX8CdKk5WN9/iXWYc%2BpGLRse2Oac/8AwS88e/EwZ/aq/wCChXxf8cRSf8fej6JqMXh/S7r1WS2tQ2V9g4x619cUU/7GwtT/AHiU6n%2BKcrf%2BAxcI/gxf8RKz3CaZTQw%2BCS29hh6Smv8AuNVjiK1/Pni%2Buj1PFvgr/wAE6/2Iv2exHL8Lf2afC9pdxYKapf2H2%2B9B9RcXRklGTzwwFe0KqooRFAAGAAOAKSWWOGNpppFRFBLMxwAPUmvN/Hn7ZX7I/wAL3eH4h/tOeAdHmTO62v8AxbZxzfQRmTeT9BXXGGBy%2BlaKjTj/ANuxX6fqfFZ3xFmOaV3is3xk6s39qtVlJ/fUm7eisvI9Kor5d8Tf8Fnv%2BCavhm5%2BwN%2B0xaaldE4jttC0HUL4yH0VoLdl/Wsv/h8N8F9a4%2BF/7Mvx68a7v9W3hj4WXEiv75lePiuaWd5Onb28W/J83/pKkfMS4jyGLt9Zg32i%2BZ/dBTZ9bUV8kN/wUE/bE8Z/6N8Gf%2BCUnxKuJpP9VJ4512x0CNR/ebzS/Trt6mhb3/gtl8RP9JttF%2BAfw6s36W19calq1/H9WjxA2Pal/bGHn/ChUn/hpyt98uRC/t7Cz/gU6tT/AA0p2%2B%2Bapo%2Bt6K%2BSv%2BGYP%2BCsviP99rn/AAU/0Dw%2BW%2B9beHvgvYXSD2D3Mgb8aP8Ahhr/AIKAzfvr3/grn4pafu0Hwx0qOP8A74DYo/tDFv4cJU%2Bbpr/29h/auOl8OBq/N0l%2BdRs%2BtaK%2BSv8AhhX9vi8/0fV/%2BCuHi57futl8N9Lt5P8Av4rE/pQP%2BCa3x1uv32rf8FTPjq8x%2B81nqdtAn4IIyBR9ezB7YSXznTX6sP7SzR/DgZ/OpSX/ALdI%2BtaK%2BSj/AMEtvGmsf6P4y/4KZ/tIXlt3g07x1HZb/ZmSAlh7UD/gjJ%2BytffvPFnxC%2BLOvzH/AFlxrHxMvXeT6lCo/Sj61m0vhwqXrUj/AO2xYfXc8n8ODS/xVof%2B2wkfWNzdWtlA1zeXMcUaDLySuFVR7k9K5m/%2BOnwS0uZrfU/jF4VtpEOHSfxDbIV%2BoL8V8723/BEX/gnA063XiH4LaprkiHKNrPjfVpdp%2BguQD%2BINdPYf8Ekf%2BCb2mwrBb/sjeFmVRwZ1mlP4l5CT%2BNHtc7ltSpr1nJ/lBB7biOW1GlH1qTf5U0eja7%2B1/wDsl%2BF4vO8S/tQ/DvT0x9698a2EQ/8AHpRXLH/gpV/wT%2BE7W5/bJ%2BHO5TgkeK7bb%2BDb8H8DTdD/AOCaP/BPzw7L52n/ALHHw8ds/wDL94Yt7kflMrCupX9jr9kZIFtV/ZY%2BHAiUYWMeB7DaB6AeTR/wuv8A59L/AMGP/IP%2BMll/z4X/AINf%2BRgwf8FE/wBgi4/1f7Z3wwH/AF08cWK/%2BhSitCy/bs/Yi1I7dP8A2xvhZMf7sXxB00n8hNUs/wCxF%2BxfdZ%2B0/sh/C%2BTPXzPAGnH%2BcNZ97/wT4/YO1AYuP2MPhYPUxeAtPjP5rCKP%2BF1f8%2Bv/ACqH/GSr/nw//By/zNS7/bS/Y5sE8y%2B/ay%2BGcKkZ3S%2BO9PUY/GauP/Yl8feBPih8Rf2hPHPw08aaT4i0S%2B%2BM1p9i1jQ9Riu7W42eDfDMb7JYmZH2ujocE4ZSDyDWnaf8E4f2A7J/Mh/Y0%2BGjHOf3vg60kH5NGRWX%2BxJ4A8CfC74iftB%2BBPhn4K0nw7olh8ZrT7Fo%2Bh6dFaWtvv8ABvhmR9kUSqibndnOAMsxJ5JrowzzJzf1hQ5f7vPe/wD29pb8Tqwjzd1H9aVNRt9j2jd/%2B3rK34nvtFFFdp6IUUUUAFFFFABRRRQAUUUUAFFFFABRRRQAUUUUAFFFFABRRRQAUUUUAFfnL/wW%2B/0D9pr9mjxb0/sDUNS1Dd/d26/4TTP/AJEr9Gq/Ob/gvhmxXwp4rUc6D8Otd1AN/d2%2BLPAyZ/8AH68nPf8AkTV32i391pfofoHhTr4lZTD%2BevCH/gxVKf8A7kP0ZooBBGQaK9Y/PwooooAKKKKACiiigAooooAKKKKACiiigAooooAKKKKACiiigAooooAKKKKACiiigAooooAKKKKACiiigAooooAKKKKACvGfHH/KQv4X/wDZGfHn/p28IV7NXjPjj/lIX8L/APsjPjz/ANO3hCgD2aiiigAoorjvjx8bPDX7P3w6l%2BInibSNT1TdqVjpmmaLokMcl7qmoXt1FaWlpAsskcfmSTzRrukdI0BLu6IrMADsaK8dh/bY%2BGS/s76r%2B0Lq3hPxLp66Jr7eH9V8H3VnbtrEGt/2gmnR6ZsineBppbqWGON1mMDieOQS%2BW2%2Bs/8A4bw8Enwv5ifB/wAbP40/4ThvCB%2BFiR6Y2uLrA08aobcuL77Aq/2cyXvnG7EXkuvz72EZAPcq8Z/YP/5Ihrn/AGWb4j/%2Bprrdeq%2BEtbv/ABL4X0/xBqvhTUdBub2zjmuNF1doGurF2UEwym3llhLqflJjkdCR8rMME%2BVfsH/8kQ1z/ss3xH/9TXW6APZqKKKACiiigAooooAKKKCQBknAHU0AFZPjnx74I%2BGPha78cfEbxfpuhaNYR%2BZe6pq96lvbwL6s7kKPQc8nivkP9sP/AILM/Bb4M6td/Cv9nm50Xxv4xgcw32pXusx2nh7Q35ybu9ZgsjjB/cQkuxVkyr4U/Mfg/wCJngP9pvxtb/Ev4x%2BHPih%2B194ttLgvpfhrwd4Sn07wBoEw4KD7UIxLj7vnTRkOMblYgMfm8ZxJg6VV0MM1Ofr7q/8AAVKUn/dhF%2Bcon2L4fyXh6jDFcX41YKM0pQoRXtMbVi9U4Yda0oSW1XEeyi0%2BaNOorN/Vmp/8FGPjH%2B07qU3gv/gmd8ApvFsCzNBdfFbxvFNp3hizYHDGLIE16ynqsYUjg4YVc8J/8EtrX4n%2BIbX4m/8ABQv43az8aPEFvJ51poF3mx8NaY/pBp8RCyEA7S8nDgAsmap6Zrf/AAWE%2BKemwaL4C%2BCfwi%2BBOhRxLFBFrmqvrmo2kQGFEMdmq2owP4WAA6VN/wAOsPE/xd/0n9tf9uP4nfEtZObrw9pl8vh/RJs9Vazs%2BvoCHU4z61zKniMa%2BarSnWf9%2B1KkvSDblL1lGT8kc1XxVxuBpvDcGZZLBQas60mliZp6PmxNRe0gmt4YalQjZ25pdfQfiX%2B3t/wT2/ZA0qHwP4o%2BOngzw7FpyiGDw14cQXMtoB0QWlgjvEPYoBXBv/wWO%2BAniJfL%2BC3wF%2BNPxClk4th4U%2BGl0ySsenzzmPavqSOBzivaPgX%2Bxb%2Byh%2BzTDGvwO%2BAPhnw/PGu0albaasl6w9Gupd0z/wDAnNen16yo5zNa1YU12jByt85Siv8AyVI/Ppw4lxc3UrYiEHJ3doSqO73bnUmrvu3HfXU%2BRU%2BP/wDwVs%2BNLiT4O/sXeBfhnpz8w6l8XfF0l3NKnr9k04CSFv8AZfPPtUg%2BBH/BYTxefN8R/t6fDvwex5MXhP4XpqCj2BvnBxX1tRVf2Vz61q9ST/x8q%2B6Cjb7yf7E9prXxNab/AMfIvupxjb7z5K/4Yv8A%2BCleofLr3/BX3UnU/eXTvgro9qcezLIcfWg/8E2/2gvEH7r4gf8ABVD43XMb/wCuHhy7tdJYj/ZaKNtn4V9a0Uf2LgH8XO/WpUf/ALeg/wBXssfxc8vWrVf/ALkR8lR/8EXP2PNdkWb4ya78SfiO4YM7eOfiNf3G8ju3kvEDXpHgP/gm5%2BwR8NUQeFP2RfAQeP8A1c%2Bo%2BHob6ZfcSXIkcH3zXttFaUsoyqjLmhQhfvypv73zP8TWjkWS0Jc0MNC/dxTf3y5n%2BJl%2BGfA/grwVbfY/BvhDS9IhxjytM0%2BO3XHphFArUoor0IxjFWSsj1IxjBWirLyCiiimUFFFFABRRRQAUUUUAFFFFABRRRQAUUUUAFeM/sv/APJb/wBo7/ss1j/6hXhevZq8Z/Zf/wCS3/tHf9lmsf8A1CvC9AHs1FFFABRRRQAUUUUAFFFFABRRRQAUUUUAFFFFABRRRQAUUUUAFFFFAHMfGjQ/FviP4W63pHgX4lal4P1WSzL2niPSLK0uLmyKMHYxx3kM0DMyqyfvI3A35wSBXgKftNfGW2/4JL%2BA/wBpFfEsEvj3xX8N/B7T%2BILrT4vLg1PWBp9tJqDQIqxERy3jXBiCrH8m3AXivor4jfD/AMP/ABU8E6h8PvFVzq8OnapCIruTQfEN7pV2FDBsR3djLFcQkkAExyKSCVOQSDwXgj9iT9nPwB8EW/Zv0bw1rt54HPhl/D6%2BHPEPjrWNWgj00gKIE%2B3XcrIEUBY2UholVVjZVAAAM39kTxr8S7vxX8WPgp8TfiNfeMpvhv48ttL0vxXqtjZ297fWl1ommamqXS2MEFv50cl7LHmKGMGJYSV3Fmb5I/4LPeNvDfxNn8SfD/SNK8Qx3nhr4C%2BL5L%2BXVfCOo2NpKV8SeCZgba6uYI4L0Dyjlrd5AvG4jcufvP4MfAv4afADw1deFfhlpV9DDqGpyajql5q%2Bu3mqX2oXboiNPc3l9NNcXMnlxRRhpZGKpFGgwqKo%2BWP%2BCsmj/wBu3Op2Wzds/ZV%2BKFxj/rjfeEpc/wDjlefm0PaZViI94T/9JkfX%2BH2J%2Bp8fZRX/AJcVh3/5Xpf5n138N9Y/4SL4d6B4g37vt2i2txu9d8Ktn9a2q86/ZA1j/hIv2S/hd4g37vt3w60S43eu%2BwhbP616LXVh5%2B0w8J90n96T/U8HOMN9TzfE4f8AkqVI/wDgNSpH/wBtCiiitjzgooooAKKKKACiiigAooooAKKKKACiiigAooooAKKKKACiiigAooooAKKKKACiiigAooooAKKKKACiiigAooooAK8Z8cf8pC/hf/2Rnx5/6dvCFezV4z44/wCUhfwv/wCyM%2BPP/Tt4QoA9mooooAK8v/a3%2BDfjP4z/AAwsLH4a3mmReJvDXjDRfEugR63PJFZXVxp9/Dcm1nkijkeJJo0kh81Y5DEZBIEk2bG9QooA%2BbfB37MHxXX4E/EXwP8AFz4Z%2BAvE%2Bp/EbXNQ8Taroo8Z39vp6ajPcJ5Fil0mn%2BfFHBb29oV1BIxN9oRpFt4sLjyNP%2BCUWux%2BE7Pxnrnw98DeK/Esnxku/HOufDrxl411TU9Bv4Z/DyaCLKfVb20uLu9dI7e1vDcXNq%2B%2BeN18uNTG8f3dRQB5R%2Bz9%2BztrPgL9kjw7%2Bzj8VvGd/qN3Y6ELLUtR8P8AiC/sZIhvLrBa3kUsd2kcKlYY5A6yGOJScEkVhf8ABOnw9YeEv2br7wtpVxfS22nfFv4h21vLqeqT3ty6J4z1pQZbi4d5p3IHMkjs7HJZiSTXuleM/sH/APJENc/7LN8R/wD1NdboA9mooooAKKKKACikkkjhjaWWRVRVJZmOAAOpJr4z/aY/4LG/C7wn43T9nj9jPwhcfGf4pahK1tYaV4cffptpN0LT3K8OqfeYRkqArb5IsEjjxuYYPL6fPiJqN9Et232ildt%2BSRhVxFKjKMHdyl8MYpylJpXajGKcnZJt2Vkk3JxSbX0F%2B1R%2B118B/wBjT4aS/FL48%2BM49Ns8lLCxiAkvNSmAz5NvDkGR%2BmeiqDlmVcmvjq4m/b4/4LF6Hs0wXfwD%2BAWoD/Xygy%2BIfFluT2AKiK3ZQO6oRJ1uV4Xtf2c/%2BCWXiP4gfEyL9rn/AIKZ%2BMIPiP8AEaXEmmeFfvaD4ajzuSCOH7k5T0x5YYscSv8Avj9tIiRoI41CqowqgYAFeUsNmGcNvFXpUHtTTtOS/wCnkl8Kf8kX/iluhU6WJlFVp1Z053uo05KLiv71RXk5vtScYw29pOd5R%2BXf2cv%2BCN/7Af7Nwtr/AEn4NQ%2BKtXtgNut%2BOJBqUuRyGWJ1FvGQckFIlOe9fT9nZ2mn2sdjYWscEEKBIoYUCoijgAAcAD0qSivXwuCweBp8mHpxgvJJf8F/NsKGEw2GcnSgk5O8n1k3u5SbcpNvVuUpNvVtsKKKK6joCiiigAooooAKKKKACiiigAooooAKKKKACiiigAooooAKKKKACiiigAooooAKKKKACvGf2X/%2BS3/tHf8AZZrH/wBQrwvXs1eM/sv/APJb/wBo7/ss1j/6hXhegD2aiiigAooooAKKKKACiiigAooooAKKKKACiiigAooooAKKKKACiiigAorN8Z%2BMfCvw78H6t8QPHOv2ulaJoWmz6hrGqXsoSGztYY2klmkY8KiIrMT2ANcj8MP2pPgf8XfA2vfEXwn4tubbTPC0skfiYeJdCvdFudIKW0d0TdWuoQwTwKbeWOYM6KrRyK6kqQaAPQK%2BVP299G/4SL4rnw/s3fbv2VPivb7cdd8/hZf617T8Cv2pfgp%2B0g%2BpW3wp1/U5rnSLe0ub/T9c8Lajo90ltdiQ2tyINQt4JXt5vJm8udVMbmGQKxKMBwP7QOj/APCRftjeDvD%2Bzd9u/Z/%2BI1vt9d%2BoeElx%2BtY4iHtMPOHdNfemv1PRyfE/U84w2I/kqU5f%2BA1Kcv8A200f%2BCamsf25/wAE/vg5e787Ph3pdvn/AK426RY/8cr2%2Bvmb/gjhrH9uf8E0PhPe792zRbm3z/1xvrmLH/jlfTNcuUz9plWHl3hD/wBJie94g4b6nx9m9D%2BXFYhf%2BV6v%2BYUUUV6B8gFFFFABRRRQAUUUUAFFFFABRRRQAUUUUAFFFFABRRRQAUUUUAFFFFABRRRQAUUUUAFFFFABRRRQAUUUUAFFFFABXjPjj/lIX8L/APsjPjz/ANO3hCvZq8Z8cf8AKQv4X/8AZGfHn/p28IUAezUUUUAFFFfP3/BS46YP2a7X/hNPL/4Qr/hYXhf/AIWR9o/49/8AhHv7ZtPtv2rPH2Py/wDj53fu/s3n%2BZ%2B730AfQNFfBfgi0%2BF/j79gL4tfC/4f/GXwV4W8CR%2BO9S1bwE2ra1Ha6IfCMOsRSPE7I37nQ7qeDULMTRgwi1mPlBowinyi3/4X34s/Y3%2BK/g74Xfs6WesfBjxN8StYmhsfgd4h0w6NZeF4PDemmWz0yXUp9NS40%2B61lL5Z5oIwHQX6xxYnicAH6l14z%2Bwf/wAkQ1z/ALLN8R//AFNdbqL9kDxD8Qr/AP4J%2B/DHXvCPw5ii8Q/8Kx0b7B4e8V60lnG7rZwqomubNL0RIyjeGRJSAygqGyFrf8E6bjxLd/s3X114y0mxsNXk%2BLfxDbU7HTNRe7trec%2BM9a8yOKd4YWmQNkB2ijLAAlFzgAHulFFFABXN/F74u/Dn4D/DfVvi38WfFVtovh/RLU3Go6hdNwijgKoHLuzEKqKCzMwUAkgVc%2BIHxA8F/CrwVqfxG%2BIviW00fQ9Gs3utT1O9k2RW8SjJYnv6ADJJIABJAr8i/jh8Vf2h/wDgtF%2B1JpPwd%2BFVrdaF4H02Rb/R7G8iPl6Vp54/t/UlBw1xKjf6Jak52uH%2BVW8yXxM6ziOWU1CnHnrT0hBdXtd%2BS/Hbu105bluY59mkcty/l9o4ynKc21SoUYW9pXryV3GlTutF79Wo4UaUZVKiS0vjn%2B1f%2B2n/AMFjvixL%2Byn%2Byrol94J%2BHrFW8QS3LmOf7Cx/4%2BNVljJ8lXAPl2KEtJyXLKFI/QX9hr/gnp%2Bz7%2BwV4E/4R34V6GLvXb2FR4g8XahEpvdScYJGRxFCD92FPlGATubLHsf2YP2XfhB%2ByL8KbP4SfBzw%2BLWzh/e6hfzkPd6pdEDzLq5k6ySuRyegGFUKoAHolY5VkkqFX67jpe0xD6vaC/lgtku7SV/Tf2cfjMoy2jPL8jUvZPSrXqJKviWne87XVGgmr0sLTapwVpVXXrXqRKKKK%2BhPnQooooAKKKKACiiigAooooAKKKKACiiigAooooAKKKKACiiigAooooAKKKKACiiigAooooAKKKKACvGf2X/%2BS3/tHf8AZZrH/wBQrwvXs1eM/sv/APJb/wBo7/ss1j/6hXhegD2aiiigAooooAKKKKACiiigAooooAKKKKACiiigAooooAKKKKACiiigDzD9tT4Q%2BKvj5%2ByZ8Q/g74Fe1Gt%2BIPCl5a6PHfSlLea6MZMUUrAErE7hUdsHCsxwcYPkXh7wD%2B0p4%2BT48fEC4/Z9n8Ia18V/DA0rwnoXjO90m/trCWy0d4IZtVSzu543S4urqSMRwmfMFspl8suIx9WUUAfJ/wDwTd/Zz%2BIfwR8Z%2BM9d1f4SeMfBnhzU/CPhfTNP0z4j%2BObfxHrU2pWK6gt5Kl5FeXhj0/y57NYLYzKkci3Tx21uJW8zqdQ8FeI9A/4Ka%2BDPEOsfFvxDrtnq/wAHvHDWGgarbaclpoqrq3hLcls1taRTur7hu%2B0Szn5BtK/Nn6Hrxnxx/wApC/hf/wBkZ8ef%2BnbwhQB5j/wRHJsv%2BCePhnwoTzoPiHX9PKn%2BHbq10%2BP/AB%2BvrSvkv/gjz/oHwN%2BI3hLp/YHx28Vaft/u7blHx/5Er60ryci/5E2HXaKX3XX6H6B4ra%2BJWbT/AJ685/8AgxU6n/uQKKKK9Y/PwooooAKKKKACiiigAooooAKKKKACiiigAooooAKKKKACiiigAooooAKKKKACiiigAooooAKKKKACiiigAooooAK8Z8cf8pC/hf8A9kZ8ef8Ap28IV7NXjPjj/lIX8L/%2ByM%2BPP/Tt4QoA9mooooAKKKKACiiigArxn9g//kiGuf8AZZviP/6mut17NXjP7B//ACRDXP8Ass3xH/8AU11ugD2aqmva7ovhbQ7zxN4j1SCx07TrWS5v726lCRW8MalnkdjwqqoJJPQCrdfn1/wVr/an8P8AjbVtS/ZFtfE1xZeCPCmmQ%2BIPj7rmmzbJVsSymz0CB%2Bgur2UxrjsrKxyglA8/M8wp5bg5Vpb7JbXetvRKzbfSKb7XxqvFzqUsNg6Tq4itONOlTj8VSrNqMIL1bu30ipSdkjxX9tT9pb4sf8FEfGPhvwz8N/DdxJ4M17XHs/g14FvIjG/jS9hYiXxDqUbD5NKtcMyI4xIy/MCFmEf6HfsT/sc%2BBf2MfhCngXQLp9V1/U5vt/jPxXdjN1reosMyTOxyQgJIRM4VfVizN5d/wTU/ZP8AEnhSzuP2vvj/AOG7ax%2BIXjTSbe10bw9BDtt/BXh2NV%2Bx6NbIf9XtjCGTgEsAD8wdn%2Bsq8nI8tqOo8xxetWe11rGPp9lvt9mNo7ubf3OcLB8J5XLhjLqyqzclPG4iO2IxEbpU4P8A6BMK3KnQinyzqe0xDUpTpyRRRRX0x8YFFFFABRRRQAUUUUAFFFFABRRRQAUUUUAFFFFABRRRQAUUUUAFFFFABRRRQAUUUUAFFFFABRRRQAUUUUAFeM/sv/8AJb/2jv8Ass1j/wCoV4Xr2avGf2X/APkt/wC0d/2Wax/9QrwvQB7NRRRQAUUUUAFFFFABRRRQAUUUUAFFFFABRRRQAUUUUAFFFFABRRRQAUV5/wDtV/Gq5/Zz/Zv8bfHHT9BTVbzwx4cur7T9MlmMUd3dKh8iF3AJRGlKKzgEqpJwcYrzzwB%2B1J8Sfh9o3xm0n9qOTw/quq/BvR4devtY8D6LPp9rqely6a94uy1ubq5eGZHt7uIgzurhI5Pk3mNAD6Drxnxx/wApC/hf/wBkZ8ef%2BnbwhWH%2BwT%2B1H4q/aW8P6jqnj34j%2BFb/AFYaVpeqjwzoHgPV9El0e2vUmeMmXU52OrWzmN0h1CCKCCc28xReqpi%2BKP2h/g1r3/BVr4Z/CLwv8TvD2ra/ZfCPx/aa1pGl61BcXelXP9o%2BE5o4rmGNy8DPHDOyhwpPktgHBwpSUVdkylGCu/6uY/8AwS0/4lXiz9pnwkePs37S/iG8VP7qXKWzj8PlNfWlfJf7AH/Ep/bJ/ax8JdPJ%2BI%2Bl6ht/6%2BtP35/HbX1pXlZJplsY9nNfdUqH6F4oe9xpWq/8/KeFn/4Hg8I/0CiiivWPz8KKKKACiiigAooooAKKKKACiiigAooooAKKKKACiiigAooooAKKKKACiiigAooooAKKKKACiiigAooooAKKKKACvGfHH/KQv4X/APZGfHn/AKdvCFezV4z44/5SF/C//sjPjz/07eEKAPZqKKKACvMP2tvjJ4y%2BDHwwsL74a2emS%2BJfEnjDRfDWgSa3BJLZWtxqF/DbG6njikjeWOGOSSbylkjMpiEYePfvX0%2BuN%2BPHwS8NftA/DqX4d%2BJtY1PS9upWOp6XrWiTRx3ul6hZXUV3aXcDSxyR7454Y22yI8bgFHR0ZlIB4nf/ALY/xn8M/sh/ET4ka74e8PXvjn4b%2BN5vC2t31hpt0mjALfW0X9stbedJOlrDZXcd9PAJmZBDNGJjgS1jfCn9sv4q/HX4M/EPxZ4D/aP%2BDVknwk8aXOmeKvilc%2BEL278Natp6aNY6qLy0t01eNoEVL9YnkN5Mm61lZdyuu32H4c/ssD4U/D3VvA3gv49eOILrXJLy91LxNKuky6hNq11dPcT6qS9gYfPJcRiLyvsqRRRokCha4jx1/wAE3fBvjz4d2ngW9/aJ%2BJNrdN8QY/GnijxHA%2BizXfivV4oo4reTUobnTJbOWKFYLTyoI7eOJDZWxC/uloA9F%2BD/AMfE1z9lHwn%2B0l%2B0HZWHw6fVPBWna34qtNfvxa2%2BhSz28cksU0txs8sI7lf3gVhjDAHIrk/%2BCdPifw141/ZuvvGHg3xDY6vpGqfFv4h3emappl2lxbXcEnjPWmjlilQlZEZSGDKSCCCDXsnhTRtR8O%2BGrHQtX8Wahr11aWqRXGtatHbpc3rqMGaVbaKGEO3UiONEyeFA4ryn9g//AJIhrn/ZZviP/wCprrdAF/8Abc/aZ0v9kX9mXxR8cLu3W6v7Cz8jw9pu0s1/qcx8q1gCjlt0rKWAyQiue1fBH/BPz9lm/wD2kvjLBpnj24fWfCvw08SHxH8VdduWEq%2BNfiLMu94GcfLLbacr%2BWAPkL7jhluMjW/4KxftB3vxI%2BNOsaL4YkkufDv7PumQXpit/mGpePNT/wBH0i2UD/WNarI11gc5jmRh0r7l/Yp/Z00v9lL9lzwZ8C7C2hS50bRov7amhA/0nUZB5l1MT/FumZyCc/LtGeK%2BPnH%2B3M/cHrRor73fX5OSs%2B8abWzd/quEZrJspxfF1v30p1MFgn/I%2BRPHYqP9%2BMZwwlKS%2BGVStJPmSt6nRRRX2B8qFFFFABRRRQAUUUUAFFFFABRRRQAUUUUAFFFFABRRRQAUUUUAFFFFABRRRQAUUUUAFFFFABRRRQAUUUUAFFFFABXjP7L/APyW/wDaO/7LNY/%2BoV4Xr2avGf2X/wDkt/7R3/ZZrH/1CvC9AHs1FFFABRRRQAUUUUAFFFFABRRRQAUUUUAFFFFABRRRQAUUUUAFFFFAHO/Fz4WeDfjh8LPEXwb%2BIdhJdaF4p0W50rVoIZmika3niaN9jrho3AYlXUgqwBBBArgvhn%2Bx14a8B23iSPxX8WPF3jmfxsJU8c3njAaY8mvwmzisooJhaWUCRRQwRkIlusIZppnk815C1ev0UAeTfs6/si%2BF/wBnfXtQ8WRfE/xd4w1a88Pab4fttS8YXNm8lho%2BntcNaWMQtLa3UojXU7GWVZJ5C48yV9q7fmP/AIKa/EGb4Tf8FSP2KPiB5rJbnUPF%2Bi3jfwrHqTaDZZf0UNKpyeAQDX3rX58/8FxfBeqeKbjQvEXhwY1jwd8HvFvibSZgM%2BTLY%2BIfBczv%2BEIm/OvNzdzjllWcN4rmX/brUvyizyM%2BdSGT1qlP4oLnX/bjjP8AFRa%2BZ6l%2Byh/xJv8Agql%2B1box4TUrHwRqEK/7ulyxOfxavrSvjL9mXxrpni//AIKr%2BOvGWiN/oXjn4B%2BGPEVpg53xGTYh9%2BHAzX2bWWSyjLCztt7Sp%2BM%2Bb/24/VfEWUa2a4LERd1UwOAkn3/2WML/APlMKKKK9c%2BBCiiigAooooAKKKKACiiigAooooAKKKKACiiigAooooAKKKKACiiigAooooAKKKKACiiigAooooAKKKKACiiigArxnxx/ykL%2BF/8A2Rnx5/6dvCFezV4z44/5SF/C/wD7Iz48/wDTt4QoA9mooooAKKK534r/ABX8A/BHwFe/Ez4m642n6PYPBHNNFZzXMsks0yQQQRQQI8s80s0scUcUaNJJJIiIrMwBAOiorzuy/at%2BAl98C7r9pFPHTQ%2BELGSeG%2BvbzSLu3uba5huTaSWkllLEt0l0LlTB9laITGXEYQuQpx7/APbl/Zr034dWvxNuvFOu/ZLzxE%2Bg2%2BjxeBNZk1xtUSF7h7M6QtodQWZbeN7gobcEQL5xxH89AHrleD/sg%2BJbPwZ%2BzD4y8YagR9n0n4qfE68nycfJF4x1x2/RTXsfgXxv4R%2BJngrSPiN4A8QW2raFr2mQajo2qWcm6K7tZo1kilQ91ZGVh7GvkPxf42/4V7/wSb%2BPXidZvLkXxP8AFm1gkzgrLceLtdt4yPcPKtYYqssPhalX%2BWMn9yb/AEObG4hYXBVa7%2BxGUvui3%2Bh8zfsHeC5f2hvHfwC%2BF%2Btl7%2B7lvdW%2BOvxj1CX5jf6nLeS22kBz0BGEfyznKuWAGTX61V8Ef8EB/hFeWf7OWr/tM%2BJFWS%2B8bT2mkaLOF6aNo0A0%2B3wD90tLHcMwHBIU19714XCuHdPKY1pLWpZ/JJKP3q8n5zb6n2/FFOGUYTLOG6T93L8NSpS88RUjHEYqT8/b1uRt6/udQooor6Q%2BRCiiigAooooAKKKKACiiigAooooAKKKKACiiigAooooAKKKKACiiigAooooAKKKKACiiigAooooAKKKKACiiigArxn9l/wD5Lf8AtHf9lmsf/UK8L17NXjP7L/8AyW/9o7/ss1j/AOoV4XoA9mooooAKKKKACiiigAooooAKKKKACiiigAooooAKKKKACiiigAooooAjvb2z06zl1DULuKC3giaSeeaQKkaKMszMeAAASSelYHwt%2BMPwk%2BOPhVfHfwU%2BKXhzxhobXDwLrPhbW7fULQypjfGJoHdNy5GVzkZ5rhf2%2B/h940%2BK37FHxT%2BHHw80aXU9Z1nwNqNrZaRA4V9TLQNus1LEKDOu6EbiF/eckDJryz4Ma78S/FHjT47/ABR%2BAPw81fw1d%2BPbGzj%2BGMPxF8D6vo1nc6zYaKkL319DLaia0tzI9nbbpY0eZbB/JWRURiAfTHhj4ifD/wAbaprWh%2BDPHOj6ve%2BG9SGneIrPS9TiuJdLvPKSb7PcpGxMEvlSxyeW4DbZEbGGBPiH7Svw/sPix%2B1p4W%2BFmq7fsviX9nj4k6Vc7hkbLi/8Jwtn8HNcL/wS2%2BC3x/8AgV4/%2BOHhL4wfBzSfDljdeLdIvLHWtP8AFt5q51%2B8bQdPW9vTPcaXYi5aWdXllnVebmW4jKDyg791f6b8V7T/AIKbeC7zxt408PahoVx8HvHB8NadpXhiezu7BBq3hLzFubmS9mS7JymCkNuF2nIbcNszhGpBxls1Z/PT9SZwjUg4SV000/Rpp/g2fF/7M/xB1D4TeAf2Uv23tQLWsWlfavgx8VlY/wDHvZi7lh095SPupDLEkjE54ZBX6r1%2Be/wo/Z60/wCMPhj9tH/gnVqCxxyDx/L4i8NrNwtm%2BrW6X1iy%2BiRz26Nx2JGea%2Bl/%2BCcn7Q1/%2B0z%2Bx74Q%2BIPiVpB4js7NtH8XQTjEsWq2bG3uPMH8LOyCXHYSivluHpSw8vq8vtRuv8dN%2ByqL58sJ/Nn1uEnLiHwmyzHyd6%2BXSeBrd3TvUnhpP0ca9Hy9xdj3Giiivqz5QKKKKACiiigAooooAKKKKACiiigAooooAKKKKACiiigAooooAKKKKACiiigAooooAKKKKACiiigAooooAKKKKACvGfHH/KQv4X/9kZ8ef%2BnbwhXs1eM%2BOP8AlIX8L/8AsjPjz/07eEKAPZqKKKACvIP21/hv4%2B%2BIfwn0i%2B%2BGXhltd1jwn4/8O%2BJ4fDqXcMD6tFp%2Bp29xPbRyTukSzGFJDF5rpGZVjDuikuvr9FAHyf4V%2BBPjvxP%2Bzt8UPD3xk/Z%2B8Z213478b3njjT9A8Oa/oy6lpdwl/BJp1vDO179mXUojYWt6Szm0EsmzzpQGz598LP2Xf2pvg54xtv2utT%2BHHjXx1reo/GTVfEmr%2BCNZ8Q6B/wAJGmnXPhWy0KKZ5YprbSftSyaZDI0MEqRR290yIzvFtk%2B8aKAPGv2WvgL8Q/hj%2BxX4T%2BBfiTxndeGfFFr4dVNS1TwybW4fSbyVzNLHbG7gmglWJ5GiVpIWVlQHYMgD4q/bM126%2BG//AARM8b%2BC9a8YX2q3WsfHXxZo0%2BuamkCXN6y/EDVZpJpBbxRQh3W3csI40T5jtVRgD9Oq/Hf/AIKzeL4LX/gn34c%2BHM1xs/tb9pn4najgNgsLTxN4iUD3G%2B5T8cV4XE1b2HD%2BJn/ca%2B%2By/UznlzzmdLLF/wAxNSjQ03/fVqNF2%2BVST%2BR%2BhP8AwSt8If8ACD/8E7PhBovlbPO8GW2oYx/z9lrrP4%2Bdn8a9/rkvgH4Q/wCFe/ArwV4B8rZ/YfhLTdP2Yxt8m1jjx/47XW16eAo/V8DSpfyxivuil/mfRcU5gs14ox%2BNW1WvWmvSVWo1/wCSuIUUUV1HghRRRQAUUUUAFFFFABRRRQAUUUUAFFFFABRRRQAUUUUAFFFFABRRRQAUUUUAFFFFABRRRQAUUUUAFFFFABRRRQAV4z%2By/wD8lv8A2jv%2ByzWP/qFeF69mrxn9l/8A5Lf%2B0d/2Wax/9QrwvQB7NRRRQAUUUUAFFFFABRRRQAUUUUAFFFFABRRRQAUUUUAFFFFABRRRQAUUUUAFeM%2BOP%2BUhfwv/AOyM%2BPP/AE7eEK9mrxnxx/ykL%2BF//ZGfHn/p28IUAeMftV3/AIk/YP8A2z4f%2BCgD6Q%2BpfDHxrolj4X%2BLH2SBmn0CSKUiz1bC/wCshG5YnGMqOm4uoGV4F%2BJvhn/gn9%2B2l4sj8bXAtfgt%2B0JrFr4i8EeNbeRX0rT9fnhH2uGeVTtiW6wkqSHCYC8kB2T7T8VeFvDnjjwzqHg3xholtqWlarZyWmpafeRB4rmCRSrxup4KlSQR71%2Bf3ibQof8Agn54S8Rfsj/thfDHV/H37K%2Bv3BXwp4zjt3vpPB8MzbjYX6JmZIopCGhuU%2BZTt25YhIvlMyw9XAV1XhK0OZzTabUJtWkpW19nUW7%2BxKz2enXwtxHguCswxVDNacqmVY%2BPLXUXadGXPGpGrBtNXjUiqkeZcik6lObjTrc8P0QBDAMpBBHBFFfA3we/aK%2BK3/BPfwdaW/jC61H40fs1yqsngr4veFZ11G/8N2B4FtqMUfM0EX3ROv3Au3GSsMf2r8JvjD8Lvjt4HtPiT8HfHmmeI9Dvlzb6jpdyJEJ4yjY5RxnDIwDKeCAa9rA5nQxvufDUSu4vf1T2lF9JRumrbPQ%2Bi4h4QxuS0IY/DzWJwFV/usTT1pzurqMrNulVSfvUavLNNPl9pC030lFFFeifJBRRRQAUUUUAFFFFABRRRQAUUUUAFFFFABRRRQAUUUUAFFFFABRRRQAUUUUAFFFFABRRRQAUUUUAFFFFABXjPjj/AJSF/C//ALIz48/9O3hCvZq8Z8cf8pC/hf8A9kZ8ef8Ap28IUAezUUUUAFFFeIft/eJPEWhfBPRtI0TxXqWgWniT4l%2BFfD%2Bv65o%2BoSWd1Z6dfa1aW1wIrmJle2eZZPswmRleP7RuRkcKwAPb6K%2BIfEfxM%2BI3hX/gnz8ZtG8NfF3XzL4Y%2BKt94O8BeKtQ164nvriGTWbW0htJdSkkM6BLi5l05r9naa3SIzMzyQlj5Vb69%2B01rd9H%2ByvYeK9WufFOn/HfW7K68A3Hx98QWtkthD4SsdRS0j8ZRRHV7iON76C88uSASNLcy27RrBarNQB%2BmdfiF/wUKS3%2BK/xC%2BE/wAlbezfF/4kTRwZ%2B%2B2ofEu%2BtBx3%2BWB/1r9Tv2OPix4r8S/wDBPv4afFyWLxJ8RNcufhxpVzdFEsbfU9duvs0Ylk/f3MdqJHcM%2B43HltnIkYEE/k78N9Qm/aD/AOCsngWy1fwzfaTf%2BG/jjrAm0PU5YHubDZ4x8TaxJBKbeWWEuhZdxjkdCR8rMME/LcX%2B/lUaH/PypTj8nJN/gj3%2BDlfjrKH/ACYiNZ%2BmGpYnFX%2BUqELn7o0UUV9SeAFFFFABRRRQAUUUUAFFFFABRRRQAUUUUAFFFFABRRRQAUUUUAFFFFABRRRQAUUUUAFFFFABRRRQAUUUUAFFFFABRRRQAV4z%2By//AMlv/aO/7LNY/wDqFeF69mrxn9l//kt/7R3/AGWax/8AUK8L0AezUUUUAFFFFABRRRQAUUUUAFFFFABRRRQAUUUUAFFFFABRRRQAUUUUAef/ALVfxquf2c/2b/G3xx0/QU1W88MeHLq%2B0/TJZjFHd3SofIhdwCURpSis4BKqScHGK5L4B/Fr9oDxL4h%2BJnwJ%2BK2oeDr3xz4GWxl0zX/D%2Bh3djpV9Bf2RltnktJbu4liMdxFcRuonbekaOChkKJ6X8XPhZ4N%2BOHws8RfBv4h2El1oXinRbnStWghmaKRreeJo32OuGjcBiVdSCrAEEECuB%2BGv7IrfDO08S3dn%2B0d8QtT8Q%2BL1lPiLxhqp0g6jdP8AYorO0ceVp0cEP2SOINCsUSIZJJHmWZnYkApfsrfGj4y%2BOviZ8S/hF8Wtb8J%2BJH8AX%2Bm2q%2BMfBOgXOl2M93cWzTXGmvb3F5eFbm2X7O7ss7ArexAqjKwrFv8A4ufCjxz/AMFNvBfgLwT8TvD2sa74Y%2BD3jiLxLoula1BcXekvJq3hLy1uYY3LwFtj4DhSdpx0Ndh%2ByJ%2BynafsgfDdfhToPxs8Y%2BL9HgANgnjCDSBNbSF5JJ5jLp9havczTyyNLNNcGaSSTLltzOWoeOP%2BUhfwv/7Iz48/9O3hCgD2aor6xstTsptN1KziuLa4iaO4t54w6Sowwysp4YEEgg8EGpaKNwaTR8j%2BMP8AgmNrXwq8T6j8S/8Agnf8fNQ%2BEWpajMbjUvBctst/4V1OXGDvsX4tyw%2BUvHnavCItfJ/xJ%2BH/AMbf2ZPGd78UfFfwC8dfAbxY779R%2BJn7PUX9veC9WYc%2BfqGjOwaCPOeDg5O4oSa/Wiivn8Xw7hK6vRbptO6S1in3UbrlfnCUPRlZFjM74RxM6/D2LlhfaK06aUamHqK9%2BWrh6qnSnG/Tlja91yvU/On4A/8ABaTx1ZWsVh8ZPAuh/E/SkH/I7/BO/wDPu/L/AOel1oV15d7b4HLvtVPvbQcV9efs9/t1/skftSQRr8EvjpoWq30g%2BbQ5rn7LqMZHUNaThJhg5GduOOCaofHb/gnZ%2BxP%2B0jcTal8W/wBnPw7e6lO26XWrC2Njfs3Zjc2pjlYg8jcxFfKnx0/4N4/hT49ml1P4W/tLeLdHu2KtCviu0h1sQ7DlY4pj5NxEgx2lJHXmuNR4sy7SPJiIdm%2BWX3tL8b%2Bp9LPiPIc0X/CxlHsanWrl9RKDfeWCxcuVd7UMXBdFFK1v0Uor8vtA/Y2/4Lz/ALI7eX8Bf2ntC%2BIGiQN/o2g6xrLXGYx0jCanH%2B5HoI7gY9a7nw9/wVE/4KSfBvbYfte/8EsvFF3HDxea98OUluIYwOreWouIz9fPUV00%2BIoQ0xmHq0X5wco/%2BBQ5l96R4eLlw/T97D45NdqtKth5r15oVaT/AO3azT6aH6EUV8c%2BAP8Agu3/AME8/Fcp03xx448Q%2BAtUSTZJpPjPwrcxSo3cM1ss0aY/2nFe%2B%2BA/2yP2Sfii0UXw7/ab8A6zNMgZLXT/ABbZyT4PYxCTep9iAa9PD5tleL/g14S/7eV/ubT/AAPKjj8BUlywrQk/KcH%2BUmek0U2KWKeJZoJFdHGVdGyCPUGnV6B1BRRRQAUUUUAFFFFABRRRQAUUUUAFFFFABRRRQAUUUUAFFFFABRRRQAUUUUAFFFFABXjPjj/lIX8L/wDsjPjz/wBO3hCvZq8Z8cf8pC/hf/2Rnx5/6dvCFAHs1FFFABWb4x8GeD/iJ4Wv/A/xA8KabruiapbNb6no%2BsWMd1a3kLDDRyxSApIhHVWBBrSooA47Tf2dv2ftG8It4A0j4F%2BDrTQX0I6I%2BiW3hi0jtG0wu7mxMKxhDblpJG8nGzLscZJrLvP2Qf2TNR%2BGFt8EdQ/Ze%2BHU/guyvje2fhCbwTYNpcFyd2Z0tTF5SyHe/wA4UN8zc8mvRaKAINL0vTND0y20TRNOgs7KzgSC0tLWFY4oIkUKiIigBVUAAADAAAFfjD/wTf8AB1t4u/4Lg%2BM/FaLvk0f43/FW4uB22xXlxaxk/Rrtse5r9pa/LD/gkR8PTH/wVa%2BPvjN7dgtrrPj8urDhZ7rx9qIV/qYbNR9K%2Bez6i69XBx/6fRf3KT/Q%2Bv4Jw7eaYrHdMNg8bP51KEcNH7/rMkfqfRRRX0J8gFFFFABRRRQAUUUUAFFFFABRRRQAUUUUAFFFFABRRRQAUUUUAFFFFABRRRQAUUUUAFFFFABRRRQAUUUUAFFFFABRRRQAV4z%2By/8A8lv/AGjv%2ByzWP/qFeF69mrxn9l//AJLf%2B0d/2Wax/wDUK8L0AezUUUUAFFFFABRRRQAUUUUAFFFFABRRRQAUUUUAFFFFABRRRQAUUUUAFFFFABXjPjj/AJSF/C//ALIz48/9O3hCvZq8Z8cf8pC/hf8A9kZ8ef8Ap28IUAezUUUUAFFFFABRRRQAUUUUAY3jf4c/D34maSdB%2BJHgPRvEFiTk2Wt6XFdxH/gEqsP0rwP4o/8ABH7/AIJv/FqWS6179ljQdNuHXCzeF5JtJCH1Edm8cZP1UivpWiuXEYHBYtWr0oz9Yp/mr/iRKnSn8cVL1jGX/pUZL8D8%2B/EH/Bvh8F9Clkvv2c/2qPij4AuHYsiQaslxBEe21YxBJ%2BchPvXH6v8A8Euf%2BCw/wzYv8Ev%2BCo%2Bpa/BCcx2/ifXdStyyjsqSfa0B9icV%2BmlFePPhbJnrSjKm/wC5OcfwUrfgduGqZbQ0nl%2BGqLzoqL%2B%2BjPDs/Km/g/4OS/hJe/v9bl8SaVCPmm06z8O6m7EeiOsE7ZrPuf8Agpr/AMFgfhfMYfiN8G/sUcX%2Bsv8Axz8EtXt7VvUiXTZ5AfqBX6zUVzvhvE0/4GOrR9ZKX52Z68MRwNVVsRk8oedDHY2k/XlqSxcL/cvI/K3wt/wXb/aAurn7Bqc/wAv7qNts1t/a%2Bu6Iyt6E6jbKo/M16p4P/wCCvn7S/iXYmj/sg/DPxPu6t4W/ad8PPIP%2B2DnzM%2Bxwa%2B5/FXw/8BeOrf7J438EaRrMWMeVqumxXC49MSKRXlXjD/gm5%2BwN473t4h/ZA%2BH%2B9/vy2HhqCzkY%2Bpe3VGJ980v7L4kpfBjOb1Vv/bZI0/s3wzxHw180w78qmBxK/wDKmHoTf338zzCx/wCCjX7VK2y3ut/8ErviW0LDPneH/EGn6mp/3TGwDVN/w9T8QaZx4p/4JoftO2uPvPY/DVbtF%2BrJcDipr7/gih/wTxW6bUfB/wAKNZ8LXbnJu/DXjbVLdgfYG4ZR%2BC1F/wAOm9M0L5/hn%2B3r%2B0f4b2/6u1tvia09qPrFLCc/nR7Piqn9pS9HSf8A6VCAf6qcHVv934nr0/8Ar/lsZfe6GIl99vkJ/wAPhfgtZ/8AIyfsyfHvRsfe/tT4VXCbfrsdqP8Ah9b%2Bw5af8jDf%2BOdI/vf2l8O9SXb9dsLUv/DCP7dvh0f8W7/4K1eM7cL9weJvAGmav%2BZkK5oPwS/4LD%2BGv%2BQJ%2B3B8M/E23p/wkfw1Nlv%2Bv2Rzj8KPrPEUPijL/wAF05f%2Bk1k/wD/UH2n%2B68VYGXlUw%2BJov53pSiv/AAJj7b/guF/wTBnk8i5/aUa0l7xXng3WYyPqTaY/Wtiw/wCCx3/BNDUcfZ/2sdEXP/PfTr2L/wBDgFYF1L/wWz0mPytX8JfszeKbcdFtrjWrWZx7%2BaCgP0rHvvHP/BS2zz/wlX/BKv4XeKcfe/sj4i2Nvv8Ap9rhOPxo/tLN4/EmvXD1P/basw/4hrxhP/d84yur6YiEP/TkqR6fZf8ABVX/AIJ1X%2BPI/a%2B8GLn/AJ76iYv/AENRWtZ/8FIv2Ab7Hk/tlfDZc/8APbxfax/%2BhuK8Dvfi58arfP8AwsX/AIIMof8Anp/ZOt6Bqv5bYhmsm8%2BOvwAgz/wsD/ggx8Rh/fOm/BDStSH5qRmj%2B2cZH4pwXrSxEf8A21h/xC7xWl/Bjg6v%2BDE0Jf8ApOMR9S2v7en7Dd7gWn7ZfwqkJ/hX4habn8vPzWja/tifsj3uPsX7U3w4mz08rxvYN/KavjW6/aC/4JYLn/hNf%2BCR3inQD/GdW/ZptYiv1MSNWddftFf8EBVyfF/7M2i6D/e/tL4J3cO36%2BVamj%2B3qq3rUPm6sf8A0qKD/iFXjc/gylVP8CqT/wDTdSr%2BFz7rt/2mv2brvH2T9oLwRLnp5fiyzb%2BUlXbf46/BG6/49fjH4Vkz/wA8/ENsf5PXwRZfFr/g208RYEGkfDmPd/z38E6la/8AodsmK1rPR/8Ag3L1/HkSfCOPP/Pa9ntv/Q2XFaRzurP4auHf/cV/5HHX8OvGjC/xsjqL1o4tf%2B4GfdsPxU%2BGFz/x7/EfQZP9zWID/JqtReOfBU/%2Bo8YaW/8AuahGf/Zq%2BHLT4Af8G8Wu4FvrPwRBPRX%2BI6QE/g14prUtP2Gf%2BCDOu4OmWHwouc9PsnxQc5/74vq6I5ljpfC6D9Kz/wAmeRW4b8S8N/FyqUfWGKX54U%2B14/EXh%2Bb/AFOu2b/7t0h/rUyahYS/6u%2Bhb/dlBr41tP8Agl3/AMEV9awdO%2BGngy4z0%2By/EW9bP/fN9Wnaf8EZv%2BCSer4/s/8AZ80u4z0%2BzeOtWbP/AHze1vHFZvL4adJ%2BlV//ACDPMq0OMMP/ABcHCPrOrH86CPrxXRxlGB%2Bhpa%2BSz/wQz/4JaNyP2Xse6%2BNdb/8Ak2k/4caf8EvR9z9myZf93xvrX/yZV%2B2zv/nzT/8ABkv/AJWcv1jiL/oHpf8Ag6X/AMpPrWivkr/hxv8A8EyB9z9ny8X/AHfHOs//ACXR/wAOOv8AgmiPu/AjUR9PHWs//JdHts7/AOfFP/wY/wD5WH1jiL/oGpf%2BDpf/ACk%2Bta8Z8cf8pC/hf/2Rnx5/6dvCFeYf8OPP%2BCa/b4I6oPp471j/AOSqqfBP9h79m39jP/goX4M/4Z68F3ej/wDCSfBnxl/a/wBq168vfN%2Bz6t4V8rH2mWTZjz5Pu4zuGc4GNaFXNJVUq1KEY9Wptv7uRfmb4atnM6yVehCMOrVRyf3OnG%2Bvmj7Aooor0D1Arjvjx8bPDX7P3w6l%2BInibSNT1TdqVjpmmaLokMcl7qmoXt1FaWlpAsskcfmSTzRrukdI0BLu6IrMOxry/wDa3%2BDfjP4z/DCwsfhreaZF4m8NeMNF8S6BHrc8kVldXGn38NybWeSKOR4kmjSSHzVjkMRkEgSTZsYAzP8Ahtz4XWv7NmvftK694X8R6XbeGNTuNJ1/wre2tv8A2tZarDeCzNgyxztbmRp2jVJBOYGWVJfN8tt9Y9l/wUA8F6hoEkdp8EfHr%2BNI/Hsvg4fDJItLbWH1WLT01ORBKL86f5S2MiXDTm7EahhGWExEVcdqP7IH7Rnif9l/4lfCrXpfBVt4i%2BJviWfxNrcUGuXc%2BmSyS6hC0mgyFrNJGspdNtYrOW8CiRjcTutsmFU%2BeL/wS08Wf8Ixpmr3XwM%2BDtxDo3xW1HxLo3wGbWblPBVhpd5ocOmzWEcw0w8m8iOq/wDIPEXnzSqIwxFxQB9weFdZvfEXhnTtf1Lwxf6Jc31jFPcaNqrQm6sXdAzQTGCSWIyISVYxyOmVO12GCfgL/gi7oc97%2B1t%2B2P47usui/HDVtJsWP/LNYtc1qaVR9WmU19c/Ab9nrWPA37JHhj9m/wCK3jnUtWvNM8Mwabq2saHr1/YTllA%2BW3u4ZUu41TiNJPMEpRAWOSa%2Bev8AgiP8NbP4feBv2g3tHvZI7n9q/wAfW9ncalqM95cyWtrqslvGZbi4d5p33JJukkdnckszFiSfPxlN1MVhv7spP7oSX6n2HDuNWCyHOV1q0KVNf9vYqjJ/hT18j7Yooor0D48KKKKACiiigAooooAKKKKACiiigAooooAKKKKACiiigAooooAKKKKACiiigAooooAKKKKACiiigAooooAKKKKACiiigArxn9l//kt/7R3/AGWax/8AUK8L17NXjP7L/wDyW/8AaO/7LNY/%2BoV4XoA9mooooAKKKKACiiigAooooAKKKKACiiigAooooAKKKKACiiigAooooA8e/wCCg58cj9hz4sH4b/2n/bH/AAgWp/Z/7E3/AG7Z9nfzfs3l/P5/leZ5ez59%2B3b82K%2BbPhF4l%2BHmnfDH9p7w1/wTk1/w1B4d1LwtM/wVsPAt1brYXXiWLw7m8OkpCfLcJK%2BmmUwAqty0u/Eplr70ooA%2BN/8AgmWf2fD8Y/Hv/DFp0j/hU/8AwrfwV5n/AAjm37D/AMJVv1n%2B0vM2cf2j9j/sj7Xu/e7vJ8z95vr0G/1L4r3f/BTbwXZ%2BNvBfh7T9Ct/g944HhrUdK8Tz3l3fodW8JeY1zbSWUKWhGEwEmuA245K7Ru%2Bh6%2BcP2j9X%2BNej/t4fCef4HfD/AMLeItSb4R%2BO1u7TxX4wudFgjg/tTwkS6S2%2Bn3rO%2B7aNhjUYJO/ICkA%2Bj6K8Z/4Tj/goX/0a/wDBn/w/Grf/ADL0f8Jx/wAFC/8Ao1/4M/8Ah%2BNW/wDmXoA9morxn/hOP%2BChf/Rr/wAGf/D8at/8y9H/AAnH/BQv/o1/4M/%2BH41b/wCZegD2aivnHSf2jv27dY%2BM%2Bv8AwOt/2UPhIuqeHfC%2Bka7eXL/HXVPIkg1G51K3hRCPDG4uraXOWBUAB48FiWC9R/wnH/BQv/o1/wCDP/h%2BNW/%2BZegD2aivGf8AhOP%2BChf/AEa/8Gf/AA/Grf8AzL0f8Jx/wUL/AOjX/gz/AOH41b/5l6APZqK8Z/4Tj/goX/0a/wDBn/w/Grf/ADL1y/gH9o79u34ieK/G/hDR/wBlD4SQ3HgPxRFoWqyXPx11QJPPJpWn6mHi2%2BGCSnk6jCpLBTvRxjADMAfR1FeM/wDCcf8ABQv/AKNf%2BDP/AIfjVv8A5l6P%2BE4/4KF/9Gv/AAZ/8Pxq3/zL0AezUV4z/wAJx/wUL/6Nf%2BDP/h%2BNW/8AmXo/4Tj/AIKF/wDRr/wZ/wDD8at/8y9AHs1FfOPwi/aO/bt%2BMvhS78X%2BHP2UPhJbW9n4o1vQpI73466ormfS9VutMncbfDDDY01pIyHOSjKSFOVHUf8ACcf8FC/%2BjX/gz/4fjVv/AJl6APZqK8Z/4Tj/AIKF/wDRr/wZ/wDD8at/8y9H/Ccf8FC/%2BjX/AIM/%2BH41b/5l6APZqK8Z/wCE4/4KF/8ARr/wZ/8AD8at/wDMvXL/AAR/aO/bt%2BPHwY8IfHHwr%2Byh8JLXS/GfhfT9d0221D466os8MF3bR3EaSBPDDKHCyAMFZhkHBI5oA%2BjqK8Z/4Tj/AIKF/wDRr/wZ/wDD8at/8y9H/Ccf8FC/%2BjX/AIM/%2BH41b/5l6APZqK8Z/wCE4/4KF/8ARr/wZ/8AD8at/wDMvXL/ABu/aO/bt%2BA/wY8X/HHxV%2Byh8JLrS/BnhfUNd1K20/466o080FpbSXEiRh/DCqXKxkKGZRkjJA5oA%2BjqK8Z/4Tj/AIKF/wDRr/wZ/wDD8at/8y9H/Ccf8FC/%2BjX/AIM/%2BH41b/5l6APVtV8J%2BFddz/bfhrT7zPX7VZJJn/voGuc1P9nL9nrW8/2z8CPBl3nr9q8L2kmf%2B%2BozXGf8Jx/wUL/6Nf8Agz/4fjVv/mXo/wCE4/4KF/8ARr/wZ/8AD8at/wDMvWcqNGfxRT9Un%2BaZ2UMxzDC/wK04f4Zzj/6TOJp6l%2Bwz%2BxRrGTqv7H/wuuCf4pfAOnMfzMOawdQ/4Jof8E/NTz9p/Y5%2BHq56/Z/DMEP/AKLUVhfF39o79u34NeFLTxf4j/ZQ%2BElzb3nijRNCjjsvjrqjOJ9U1W10yBzu8MKNizXcbOc5CKxAY4U9R/wnH/BQv/o1/wCDP/h%2BNW/%2BZeueWXZfP4qMH/25H/5E9ejxjxfh/wCFmWIj6Yiuv/cxzN//AMEkP%2BCb2pZ%2B0fskeGFz/wA%2B/nxf%2BgSCsa%2B/4Iqf8Ew9Qz9o/ZWsVz/zw8R6pF/6BdCu/wD%2BE4/4KF/9Gv8AwZ/8Pxq3/wAy9H/Ccf8ABQv/AKNf%2BDP/AIfjVv8A5l6xlk2Ty3w1P/wCP%2BR6dLxL8R6H8POcWvTE1v8A5YzzL/hx9/wTVg/5BPwM1LT/AE%2Bx%2BOtYXH/fV2aT/hyv%2BxHBxpUPjyw9PsfxF1IY/wC%2BpTXp3/Ccf8FC/wDo1/4M/wDh%2BNW/%2BZeuX8fftHft2/DvxX4I8Iax%2Byh8JJrjx54ol0LSpLb466oUgnj0rUNTLy7vDAITydOmUFQx3ugxgllz/sLJemGgvSKX5WOr/iK/ia/iznEy/wAVaUv/AEpSOZ/4c3fs1wf8gv4u/GOx9PsnxPvBj880v/DoX4XQ8ab%2B11%2B0RZen2X4sTDH5xmvTf%2BE4/wCChf8A0a/8Gf8Aw/Grf/MvR/wnH/BQv/o1/wCDP/h%2BNW/%2BZej%2Bwso6UV/5Mvymg/4ir4iv4szqP1VKX/pVCR5if%2BCTGlxf8g7/AIKG/tT2noLf4wMAPztjVP4K/sqXf7Mf/BQvwWtx%2B0x8VPiKutfBnxlsHxN8VDVDp/k6t4Vz9nPlp5fmeaN/Xd5UfTHPrX/Ccf8ABQv/AKNf%2BDP/AIfjVv8A5l6oeB/A/wC1Z4x/as8OfG743fDj4e%2BGdG8M/D3xDocMPhX4h32tXV3dalfaJcIzJcaRYpFGiaXKCwd2LSoAuMkbUMqy/DVVUpQtJec/yc2vwPPzTj7i/O8DPB47Fe0pztdOnQV7NNe9DDU5rVLaa7O6un7rRRRXoHx4UUUUAFFFFABXg/8AwTt8L6b4Z%2BCni2XT95bU/jx8Sr26Z8cyN4z1hT07BUUfhXvFfJX7JXiz9s7T/h74os/hj8A/hhq%2BhJ8afiL/AGfqOvfF3UdNu5l/4TPWSxktotAuUiIbcABM%2BQAcgnaE0m0%2BxcalSMJQT0la/nZ3X3PU%2BtaK8Z/4Tj/goX/0a/8ABn/w/Grf/MvR/wAJx/wUL/6Nf%2BDP/h%2BNW/8AmXpkHs1FeM/8Jx/wUL/6Nf8Agz/4fjVv/mXo/wCE4/4KF/8ARr/wZ/8AD8at/wDMvQB7NRXzj8Ef2jv27fjx8GPCHxx8K/sofCS10vxn4X0/XdNttQ%2BOuqLPDBd20dxGkgTwwyhwsgDBWYZBwSOa6j/hOP8AgoX/ANGv/Bn/AMPxq3/zL0AezUV4z/wnH/BQv/o1/wCDP/h%2BNW/%2BZej/AITj/goX/wBGv/Bn/wAPxq3/AMy9AHs1FfOPxu/aO/bt%2BA/wY8X/ABx8VfsofCS60vwZ4X1DXdSttP8AjrqjTzQWltJcSJGH8MKpcrGQoZlGSMkDmuo/4Tj/AIKF/wDRr/wZ/wDD8at/8y9AHs1FeM/8Jx/wUL/6Nf8Agz/4fjVv/mXo/wCE4/4KF/8ARr/wZ/8AD8at/wDMvQB7NRXjP/Ccf8FC/wDo1/4M/wDh%2BNW/%2BZeuX%2BLv7R37dvwa8KWni/xH%2Byh8JLm3vPFGiaFHHZfHXVGcT6pqtrpkDnd4YUbFmu42c5yEViAxwpAPo6ivGf8AhOP%2BChf/AEa/8Gf/AA/Grf8AzL0f8Jx/wUL/AOjX/gz/AOH41b/5l6APZqK8Z/4Tj/goX/0a/wDBn/w/Grf/ADL0f8Jx/wAFC/8Ao1/4M/8Ah%2BNW/wDmXoA9mor5x8fftHft2/DvxX4I8Iax%2Byh8JJrjx54ol0LSpLb466oUgnj0rUNTLy7vDAITydOmUFQx3ugxgll6j/hOP%2BChf/Rr/wAGf/D8at/8y9AHs1FeM/8ACcf8FC/%2BjX/gz/4fjVv/AJl6P%2BE4/wCChf8A0a/8Gf8Aw/Grf/MvQB7NRXjP/Ccf8FC/%2BjX/AIM/%2BH41b/5l65fVv2jv27dH%2BM%2BgfA64/ZQ%2BEjap4i8L6vrtncp8ddU8iODTrnTbeZHJ8Mbg7NqkBUBSCEkyVIUMAfR1FeM/8Jx/wUL/AOjX/gz/AOH41b/5l6P%2BE4/4KF/9Gv8AwZ/8Pxq3/wAy9AHs1FeM/wDCcf8ABQv/AKNf%2BDP/AIfjVv8A5l6P%2BE4/4KF/9Gv/AAZ/8Pxq3/zL0AezUV846T%2B0d%2B3brHxn1/4HW/7KHwkXVPDvhfSNdvLl/jrqnkSQajc6lbwohHhjcXVtLnLAqAA8eCxLBeo/4Tj/AIKF/wDRr/wZ/wDD8at/8y9AHs1FeM/8Jx/wUL/6Nf8Agz/4fjVv/mXo/wCE4/4KF/8ARr/wZ/8AD8at/wDMvQB7NRXjP/Ccf8FC/wDo1/4M/wDh%2BNW/%2BZeuX8A/tHft2/ETxX438IaP%2Byh8JIbjwH4oi0LVZLn466oEnnk0rT9TDxbfDBJTydRhUlgp3o4xgBmAPo6ivGf%2BE4/4KF/9Gv8AwZ/8Pxq3/wAy9H/Ccf8ABQv/AKNf%2BDP/AIfjVv8A5l6APZq8Z/Zf/wCS3/tHf9lmsf8A1CvC9H/Ccf8ABQv/AKNf%2BDP/AIfjVv8A5l6t/srfDn40%2BD9Y%2BKHjv46aB4X0nVPH3xCi1yz0rwn4ludWt7W1i0HR9MVXuLiys2aRpNOlcqItoWRBuY5wAet0UUUAFFFFABRRRQAUUUUAFFFFABRRRQAUUUUAFFFFABRRRQAUUUUAFFFFABXyv%2B09%2B1p8XPhh8Y/FmteAfDvg%2BTwx8H/D/h%2B98anWtIuJtV1S31e/lS5gsLiO4jSy8i2s47jMkU4uZCkZEPl%2BafqivGfjP%2BxD8OPjd8Uj8TNc8c%2BKtLi1G10i18X%2BGtGurVNO8UwaXeyXtjFfLLbyTBY5ppc/Z5YDLHIYpjLGFQAHs1FFFABRRRQB8x%2BHP2lfiZD%2B3/4o%2BD/xG1jw94T8Nr4gtNE8GRaj8ItZS68YwDQINRxB4ja7XTmlju7nUALQQvJ5dpMAoLNIv05Xlfiz9lqDx/8AGTSPin49%2BN/jXV9K8Pa7HrWgeALg6ZFo1jqEdu8Ec4aGyS9l2eZJIqTXUkYkfds%2BRAvqlABRRRQB4v8A8FBfi78cP2fv2R/Gnx6%2BAV74Uj1jwToV3rl1B4w0W5vra7tLW2lme3RLa6tmSV2RFEhcqgLEo/Arz/x5%2B1p8XPBfx48W6n4U8O%2BEIvh54Q%2BMfhH4feMrObSLg63quq67BoqR6hDdpcLDHHB/bmkxmKS3leRIZ8Sx7UFew/tY/s42X7WnwI179n3Wvir4p8I6T4nspbHXL/wgunfa7mylieKa23X9pdRojq/LIiyAqNrrzni4P2AfB0/xFs/iL4q%2BOPj7XWOs6TrnibRtQl0qKx8T65piRpY6tex21hEy3EQgtMLbNBAxsbYvExjyQD3uiiigArxf9sn4u/HD4JWvgHxj8LL3wp/Y2ofEzw54e8X2PiDRbm5urm11XWbHTQbOWG6hS2kjW5lk3yJOpKIuzkmvaK8q/au/Zbf9qrw3oXhef4%2B%2BN/A1voXiSw11G8Fw6Oz3d7Y3kF5ZtKdS0%2B8G2K4t43CxhA3Kyb1O0AHnH7PP7SvxM1v9qrxb8Efihq/h7wnp0PinW7fwT4Sk%2BEWs6Zc69bQukpv7fWri7%2Bwag7GSaWWK2gL8l2K4Yn6cryXSf2UQ/wAZNF%2BMvxH/AGgPHfjWbwvd3l34T0LxCNJhsNHurm3ktZLiJbDT7aWV/s808K%2BfJKqLO%2B0AkEetUAFFFFAHh/7d3xc%2BPH7P3wa1f46/Cjxj4FsdP8LaLc3l7ovizwze39z4hvcotnplnJbXsH2ea4lIt0byrpmlniCwsflbz/4I/tffGfXPiX4K/tbwZ4S0j4aeN/if4o%2BG3hXw1p2lzR6vol/oEOrb557kXDW80EjeH9TRYY7eIxq1sfMkywHp/wC0r%2ByDB%2B0l488EfECb9oHx34QufAN3c3ui2PhiLRp7OS9lQRreTQanp14jzwx%2BYsMgCmMTykfM2RV8B/sNfD3wH8Zbf4uw/EXxdqUGna7qevaJ4Q1K5sv7J0rW9RjePUNUgSK1Sfz5xPdlleZ4Ua%2BuTHFH5nAB7XRRRQAV8v8A7XPx4/aX%2BC3xE0/wppUPgDxro/jmHWrbRfhzF4PvpNYS1tNDuruS/uJxevFdWwuore2khFrED9vhQTGRkST6grw6b9ia4j/aP8V/tNaJ%2B1X8S9O1fxbpsOnXOlwweH57TT7OGBo4baza50mW5t4lld7rYs2153LuHB20AM/YQ/aD8b/Hv4e3l18V/H2jX3i7ThZtr/huy%2BF2r%2BEbzQHntllEFzZavdT3Dgtv8u4ASORUO0NtJr3SvN/gd%2Bzdp3wZ8T%2BJPiHrHxS8U%2BOPFXiuKxt9Y8T%2BLmsFuXtLMTfZbVItPtbW2jija5uXG2EMzXEhZmyMekUAFFFFAHxz/wAFBP24/ip%2Bxh45/tPXNF0Dxj4RfRtR1u38Ky/DnU7KW3TTdGvtSST/AISKa6fTJ7v7Xpo2WKwJdCOZZQNsLSN69%2BzR8Xfjnq3xU8b/ALPX7R1z4U1DxP4R0nQ9aj1rwVpFzYWNzY6oLyNIjBc3Ny6yxXGnXal/NxIhibZGSVFb46/sJeCP2nNaurX4/wDxb8a%2BKPBdzJcSL8MryTTYdFikmsZrJm329lHfSAR3EzBJbp0Dvu2/IgXp/wBnz9mbSPgHea94iu/ih4s8ceI/Ehs49W8VeNbize%2BltrSIxWtqPsdtbwrFEHlYYj3s88ruzs5NAHpVFFFABXxH%2B1P%2B2V%2B1n8G/jV4g%2BFHg7w34c8a6nYaLca74YCfA/wAQRyaKBqOmWqGFvtzjxNILHVLjzv7L8p4WhKyiMTCOvtyvD9e/Yt1PxL49PxO1r9rn4oza3p8F5F4NvCmgAeFVupoZJ/skY0nZOzRwLb7r1bpliZwpV3ZyAdV%2Byx8WH%2BMnwjg8WXvxM0bxVfw6jdWWqX2jeDL7w6La4ilZWtZtN1C4nurOeMYV45nD5%2BbaoYCvRq4b4B/AXw98APDOp6NpXinW/EGo6/r1xrfiTxJ4jmga91W/mCI08ot4oYExHFDEqQxRxqkSAKMEnuaACiiigAooooAKKKKACiiigCj4o8Q2HhLw1qPivVQ5tdMsZru5ES5by40LtgdzhTXzn%2BxN%2B0n8a/H/AIp0fwZ8bPD3gyzHjr4W2XxG8Mw%2BDNKuLQaZHeXBN3p92ZriUXc0b3Ns/wBsQQCdpZiYI9oL/S13aWt/ay2N7bpNDNG0c0UqhldSMFSDwQRxivIf2Zv2K/AX7MGqvq%2BgfEHxb4lltvDFj4Z8OjxZe2sw0DQrN5Ht9NtTb28JaNTJ80s5muJBHF5kz%2BWuAD2KiiigArhf2oPHnxF%2BFn7NHxE%2BJ3wf8KLr3i3w54F1fVPC2htYzXQ1HUbezlltrYwwMsswklRE8uNg7bsKQSDXdVneLdEv/EvhjUPD%2Bl%2BK9R0K5vbSSG31rSFga6sXZSBNELiKWIup5AkjdMj5lYZBAPLv2Kfi1P8AFD4Z31lq3xC8P6zqfh3VV0680zRPhhqfg59DQW0EkVncaVqlzPcwuEcSK7eWjxSxbEwN7%2BxV558B/wBnbSfgdeeJfEdz8RPEnjHxJ4v1GG88ReKfFb2Yu7ow26W8EQjsba2tooo40AVY4UyWdmLMzMfQ6ACiiigD5c/ao/ax%2BKH7OHxe8cWXxK0bwl4i%2BF9h%2Bzv4v8e22hW%2BiXCaq7aINLWe2uLmS5e3minW%2BnAQWyFQiZd8sK7f9mf4v/HzVPi54y/Z1/aWfwleeKPDHhjw94lj1XwVpNzY2Ullqz6lbrbGG5ublzLDcaRdgyiQLIjxN5cZ3LUHxj/YV8O/HT46t8ZfHnx28cy6bN4K1PwjffD2GDRf7Eu9G1Jbb7faSF9Na9Ina0gdnF0HUoQjIjMh6T9nf9l3Q/2fb7WvEc/xQ8W%2BN/EOv2thZX/ifxtc2kl6bCxSRbOzH2S2t4/KiM9w4JQyO9zK7u7NmgD0%2BiiigAr5E%2BNf7S/7W3gzXf2gPAlv4V8GeLL3wF4f8KeJPhtY6T8P9Tv51j1HVdShCXlrFePLqM8C6bHOpthbkuSFX5VavruvC5f2KPEMXx08bfH/AEL9tD4raVq3jfSLHTLmxsrPww1ppttZXFzPZpbCXRXk/dG8ulBmeUus5EnmFUKgHV/sqfFub4y/CkeJtR%2BJ2jeKdRtdVubHVrrR/BF/4bNncRN81rPpmo3E91aTopXckzBiGVtqqwr0muE%2BAfwD0D4A6FrNjp/i3XPEeq%2BJvEEuueJ/E3iSW3a91W/khhg82QW0MMEYWC3t4VSKKNFSFAFzknu6ACiiigD42/aW/a7/AGlv2ePjNB8NtZT4Z%2BNb7W4IJvCMOneFr20l8F3mpeIdM8PaRNqcr30wuop21ecFols5HFjdLGGXzDF7j%2Byr8X/iR8Rh4/8Ah98Yjok/ir4aePG8NazqvhrTprOw1PzNL07Vre4ht5p55LfNrqlujxtNLiSOTDEEY4W2/wCCavhJrr4hv4h/aX%2BJ2s2/xJ1465rFvqR0LzLPUoriGfT7m2uotLS6U2D29uLSN5pIolhQMj859Y%2BAfwF0P4B%2BHtW02y8X654k1bxFr02teJ/FHiV7Y3%2Br30kcUPnTC1gggXZBBbwIkUUaLHBGoXgkgHdUUUUAMuftP2aT7Hs87YfK83O3djjOOcZr4g%2BK37XP7afw0%2BImufDa3tvAfjPXvDF74at9W8deCPgrr%2BrR%2BHLfVmvHvbCXSrPUp7u5mjhsrG6JinT93dQtLAgMTSfb13DJcWstvDdSQPJGyrPEFLxkjAZdwK5HUZBHqDXz38GP2AvEHwE%2BG1x8NPh3%2B3V8Yoo7rVn1ObWbyy8Jz6hLdyvLJczzTPoR%2B0yTvLukknEj5jTYUAwQD1n4CfEOy%2BK3wd8P/EKw%2BIGjeKk1PTxI%2Bv8Ah/SZrC0u5ASshS1nmmltirqyNDJI7xsrKx3KQOvrkvgX8F/CX7Pvwv074U%2BCrm/uLKwluria%2B1W5E11fXd1cy3V1dTOFUNLNcTzSvtVV3SHaqrhR1tABVHxPD4kufDeoW/g3U7Gy1eSylXS7zU7B7q2guChEcksMcsTTRq2CyLJGWAIDqTuF6s3xjoN/4o8LX/h3S/FupaDc3lq8UGtaOIDdWLkcTRC4iliLqeQJI3Q4%2BZWGRQB8PfDf9uz9rX4wfFPW/gl8LNN%2BHyeM9NtddvpPGfiv4Xa1oa6ppmkWuiypYy6JeXyahp8r3fiHYk08zx%2BVDJcJC6zoD9jfAL4tab8fPgT4K%2BOujabLZ2fjXwlpuvWlnM%2B54Iry1juFjYgDJUSAE%2BorxbV/%2BCZHgfWtcvviLd/tKfFNPiBqyXlrrXxJtr3SIdWv9Mura1tptMKJpos4bYpZWjDyLaKVZIFlWUOWY/Qfgvwf4a%2BHng7SfAHgzSYtP0fQ9Mg0/SbCHOy2toY1jijXPOFRVUfSgDTooooA5f406j440b4W61rfw58Q2Ol6tYWZuob7UPB974gRI4yHlA06xngubyRoldUihkDl2XCufkb4t%2BEv/BRH4/eJPGmh6n43uPCPgTwZqU86%2BIPHF58DPEU1trF/Dr91pCJcyrfRp4ZnktbS1/cao0ksDyrG%2BdgSvtv4meDNd8e%2BEpvDnhv4pa/4NvJJY3i1/wAMxWL3cG1gSqrf21zAwYAqQ8TcE4wcEeK3X/BObwpqHg%2B4%2BG2rftIfE278Ma5qE1/480Ca40cReMLue8a6uJr6VdNFxF5pZYWjs5bWIQxJGqKN24A%2BiaKKKACiiigAooooAKKKKACiiigAooooAKKKKACiiigAooooAKKKKACiiigAooooAKKKKACiiigAooooAKKKKACiiigAooooAKKKKACiiigAooooAKKKKACiiigAooooAKKKKACiiigAooooAKKKKACiiigAooooAKKKKACiiigAooooAKKKKACiiigAooooAKKKKACiiigAooooAKKKKACiiigAooooAKKKKACiiigAooooAKKKKACiiigAooooAKKKKACiiigAooooAKKKKACiiigAooooAKKKKACiiigAooooAKKKKACiiigAooooAKKKKAP/2Q%3D%3D\">"
            ]
          },
          "metadata": {
            "tags": []
          }
        }
      ]
    },
    {
      "cell_type": "markdown",
      "metadata": {
        "id": "DQ10hktO6wYH",
        "colab_type": "text"
      },
      "source": [
        "# Submit the MLP with 2 hidden layers\n",
        "Run these cells after training the MLP with 2 hidden layers"
      ]
    },
    {
      "cell_type": "code",
      "metadata": {
        "id": "C1eEN2Yt6wYI",
        "colab_type": "code",
        "colab": {}
      },
      "source": [
        "## GRADED PART, DO NOT CHANGE!\n",
        "# Validation loss for MLP\n",
        "grader.set_answer(\"i8bgs\", s.run(loss, {input_X: X_val_flat, input_y: y_val_oh}))\n",
        "# Validation accuracy for MLP\n",
        "grader.set_answer(\"rE763\", accuracy_score(y_val, s.run(classes, {input_X: X_val_flat})))"
      ],
      "execution_count": 0,
      "outputs": []
    },
    {
      "cell_type": "code",
      "metadata": {
        "id": "bazbD0Ep6wYM",
        "colab_type": "code",
        "colab": {
          "base_uri": "https://localhost:8080/",
          "height": 35
        },
        "outputId": "f056df90-897a-4754-cb1e-899e0b089d3d"
      },
      "source": [
        "# you can make submission with answers so far to check yourself at this stage\n",
        "grader.submit(COURSERA_EMAIL, COURSERA_TOKEN)"
      ],
      "execution_count": 21,
      "outputs": [
        {
          "output_type": "stream",
          "text": [
            "Submitted to Coursera platform. See results on assignment page!\n"
          ],
          "name": "stdout"
        }
      ]
    },
    {
      "cell_type": "code",
      "metadata": {
        "id": "GRGZPELc6wYR",
        "colab_type": "code",
        "colab": {}
      },
      "source": [
        ""
      ],
      "execution_count": 0,
      "outputs": []
    }
  ]
}