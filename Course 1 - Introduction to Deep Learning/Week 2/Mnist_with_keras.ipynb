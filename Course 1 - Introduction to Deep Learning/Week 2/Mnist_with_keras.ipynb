{
  "nbformat": 4,
  "nbformat_minor": 0,
  "metadata": {
    "kernelspec": {
      "name": "python3",
      "display_name": "Python 3"
    },
    "language_info": {
      "codemirror_mode": {
        "name": "ipython",
        "version": 3
      },
      "file_extension": ".py",
      "mimetype": "text/x-python",
      "name": "python",
      "nbconvert_exporter": "python",
      "pygments_lexer": "ipython3",
      "version": "3.6.5"
    },
    "colab": {
      "name": "Mnist_with_keras.ipynb",
      "provenance": [],
      "collapsed_sections": [],
      "include_colab_link": true
    },
    "accelerator": "GPU"
  },
  "cells": [
    {
      "cell_type": "markdown",
      "metadata": {
        "id": "view-in-github",
        "colab_type": "text"
      },
      "source": [
        "<a href=\"https://colab.research.google.com/github/hxtruong/HSE-Advanced-ML-Specialization/blob/master/Course%201%20-%20Introduction%20to%20Deep%20Learning/Week%202/Mnist_with_keras.ipynb\" target=\"_parent\"><img src=\"https://colab.research.google.com/assets/colab-badge.svg\" alt=\"Open In Colab\"/></a>"
      ]
    },
    {
      "cell_type": "code",
      "metadata": {
        "id": "3fHVfobpNzqU",
        "colab_type": "code",
        "colab": {
          "base_uri": "https://localhost:8080/",
          "height": 345
        },
        "outputId": "82ae9564-6ef3-4e66-9765-b6e2896acb3c"
      },
      "source": [
        "! shred -u setup_google_colab.py\n",
        "! wget https://raw.githubusercontent.com/hse-aml/intro-to-dl/master/setup_google_colab.py -O setup_google_colab.py\n",
        "import setup_google_colab\n",
        "# please, uncomment the week you're working on\n",
        "# setup_google_colab.setup_week1()\n",
        "setup_google_colab.setup_week2()\n",
        "# setup_google_colab.setup_week2_honor()\n",
        "# setup_google_colab.setup_week3()\n",
        "# setup_google_colab.setup_week4()\n",
        "# setup_google_colab.setup_week5()\n",
        "# setup_google_colab.setup_week6()"
      ],
      "execution_count": 1,
      "outputs": [
        {
          "output_type": "stream",
          "text": [
            "shred: setup_google_colab.py: failed to open for writing: No such file or directory\n",
            "--2020-03-06 05:00:57--  https://raw.githubusercontent.com/hse-aml/intro-to-dl/master/setup_google_colab.py\n",
            "Resolving raw.githubusercontent.com (raw.githubusercontent.com)... 151.101.0.133, 151.101.64.133, 151.101.128.133, ...\n",
            "Connecting to raw.githubusercontent.com (raw.githubusercontent.com)|151.101.0.133|:443... connected.\n",
            "HTTP request sent, awaiting response... 200 OK\n",
            "Length: 3636 (3.6K) [text/plain]\n",
            "Saving to: ‘setup_google_colab.py’\n",
            "\n",
            "setup_google_colab. 100%[===================>]   3.55K  --.-KB/s    in 0s      \n",
            "\n",
            "2020-03-06 05:00:57 (114 MB/s) - ‘setup_google_colab.py’ saved [3636/3636]\n",
            "\n",
            "**************************************************\n",
            "inception_v3_weights_tf_dim_ordering_tf_kernels_notop.h5\n",
            "**************************************************\n",
            "cifar-10-batches-py.tar.gz\n",
            "**************************************************\n",
            "mnist.npz\n"
          ],
          "name": "stdout"
        }
      ]
    },
    {
      "cell_type": "code",
      "metadata": {
        "id": "V_2IjFZ3NneA",
        "colab_type": "code",
        "colab": {}
      },
      "source": [
        "# set tf 1.x for colab\n",
        "%tensorflow_version 1.x"
      ],
      "execution_count": 0,
      "outputs": []
    },
    {
      "cell_type": "markdown",
      "metadata": {
        "id": "QkhR8Yg8NneH",
        "colab_type": "text"
      },
      "source": [
        "# MNIST digits classification with Keras\n",
        "\n",
        "We don't expect you to code anything here because you've already solved it with TensorFlow.\n",
        "\n",
        "But you can appreciate how simpler it is with Keras.\n",
        "\n",
        "We'll be happy if you play around with the architecture though, there're some tips at the end."
      ]
    },
    {
      "cell_type": "markdown",
      "metadata": {
        "id": "CuXWLNiPNneJ",
        "colab_type": "text"
      },
      "source": [
        "<img src=\"https://github.com/hse-aml/intro-to-dl/blob/master/week2/v2/images/mnist_sample.png?raw=1\" style=\"width:30%\">"
      ]
    },
    {
      "cell_type": "code",
      "metadata": {
        "id": "vE9veVjqNneL",
        "colab_type": "code",
        "colab": {
          "base_uri": "https://localhost:8080/",
          "height": 72
        },
        "outputId": "3c6d2ad6-263d-49ad-95ab-8c46eb6c2e08"
      },
      "source": [
        "import numpy as np\n",
        "from sklearn.metrics import accuracy_score\n",
        "from matplotlib import pyplot as plt\n",
        "%matplotlib inline\n",
        "import tensorflow as tf\n",
        "print(\"We're using TF\", tf.__version__)\n",
        "import keras\n",
        "print(\"We are using Keras\", keras.__version__)\n",
        "\n",
        "import sys\n",
        "sys.path.append(\"../..\")\n",
        "import keras_utils\n",
        "from keras_utils import reset_tf_session"
      ],
      "execution_count": 3,
      "outputs": [
        {
          "output_type": "stream",
          "text": [
            "We're using TF 1.15.0\n"
          ],
          "name": "stdout"
        },
        {
          "output_type": "stream",
          "text": [
            "Using TensorFlow backend.\n"
          ],
          "name": "stderr"
        },
        {
          "output_type": "stream",
          "text": [
            "We are using Keras 2.0.6\n"
          ],
          "name": "stdout"
        }
      ]
    },
    {
      "cell_type": "markdown",
      "metadata": {
        "id": "K5EbC7w1NneQ",
        "colab_type": "text"
      },
      "source": [
        "# Look at the data\n",
        "\n",
        "In this task we have 50000 28x28 images of digits from 0 to 9.\n",
        "We will train a classifier on this data."
      ]
    },
    {
      "cell_type": "code",
      "metadata": {
        "id": "-ttf5iaXNneR",
        "colab_type": "code",
        "colab": {
          "base_uri": "https://localhost:8080/",
          "height": 54
        },
        "outputId": "27b9ee3e-9458-4f3d-be5c-3fbdc4a15010"
      },
      "source": [
        "import preprocessed_mnist\n",
        "X_train, y_train, X_val, y_val, X_test, y_test = preprocessed_mnist.load_dataset()"
      ],
      "execution_count": 4,
      "outputs": [
        {
          "output_type": "stream",
          "text": [
            "Downloading data from https://s3.amazonaws.com/img-datasets/mnist.npz\n",
            " 9789440/11490434 [========================>.....] - ETA: 0s"
          ],
          "name": "stdout"
        }
      ]
    },
    {
      "cell_type": "code",
      "metadata": {
        "id": "IXK_8h6MNneW",
        "colab_type": "code",
        "colab": {
          "base_uri": "https://localhost:8080/",
          "height": 695
        },
        "outputId": "f2aefc52-296d-474d-d118-f49fdb5ed047"
      },
      "source": [
        "# X contains rgb values divided by 255\n",
        "print(\"X_train [shape %s] sample patch:\\n\" % (str(X_train.shape)), X_train[1, 15:20, 5:10])\n",
        "print(\"A closeup of a sample patch:\")\n",
        "plt.imshow(X_train[1, 15:20, 5:10], cmap=\"Greys\")\n",
        "plt.show()\n",
        "print(\"And the whole sample:\")\n",
        "plt.imshow(X_train[1], cmap=\"Greys\")\n",
        "plt.show()\n",
        "print(\"y_train [shape %s] 10 samples:\\n\" % (str(y_train.shape)), y_train[:10])"
      ],
      "execution_count": 5,
      "outputs": [
        {
          "output_type": "stream",
          "text": [
            "X_train [shape (50000, 28, 28)] sample patch:\n",
            " [[0.         0.29803922 0.96470588 0.98823529 0.43921569]\n",
            " [0.         0.33333333 0.98823529 0.90196078 0.09803922]\n",
            " [0.         0.33333333 0.98823529 0.8745098  0.        ]\n",
            " [0.         0.33333333 0.98823529 0.56862745 0.        ]\n",
            " [0.         0.3372549  0.99215686 0.88235294 0.        ]]\n",
            "A closeup of a sample patch:\n"
          ],
          "name": "stdout"
        },
        {
          "output_type": "display_data",
          "data": {
            "image/png": "[encoded data removed]",
            "text/plain": [
              "<Figure size 432x288 with 1 Axes>"
            ]
          },
          "metadata": {
            "tags": []
          }
        },
        {
          "output_type": "stream",
          "text": [
            "And the whole sample:\n"
          ],
          "name": "stdout"
        },
        {
          "output_type": "display_data",
          "data": {
            "image/png": "[encoded data removed]",
            "text/plain": [
              "<Figure size 432x288 with 1 Axes>"
            ]
          },
          "metadata": {
            "tags": []
          }
        },
        {
          "output_type": "stream",
          "text": [
            "y_train [shape (50000,)] 10 samples:\n",
            " [5 0 4 1 9 2 1 3 1 4]\n"
          ],
          "name": "stdout"
        }
      ]
    },
    {
      "cell_type": "code",
      "metadata": {
        "id": "4a-XGuIPNneb",
        "colab_type": "code",
        "colab": {
          "base_uri": "https://localhost:8080/",
          "height": 54
        },
        "outputId": "1d898c13-b780-4903-f7d9-55453bc6f4cf"
      },
      "source": [
        "# flatten images\n",
        "X_train_flat = X_train.reshape((X_train.shape[0], -1))\n",
        "print(X_train_flat.shape)\n",
        "\n",
        "X_val_flat = X_val.reshape((X_val.shape[0], -1))\n",
        "print(X_val_flat.shape)"
      ],
      "execution_count": 6,
      "outputs": [
        {
          "output_type": "stream",
          "text": [
            "(50000, 784)\n",
            "(10000, 784)\n"
          ],
          "name": "stdout"
        }
      ]
    },
    {
      "cell_type": "code",
      "metadata": {
        "id": "8fFghmbsNneg",
        "colab_type": "code",
        "colab": {
          "base_uri": "https://localhost:8080/",
          "height": 90
        },
        "outputId": "1e0c225a-f7a2-40f6-b03d-a9657aa049a3"
      },
      "source": [
        "# one-hot encode the target\n",
        "y_train_oh = keras.utils.to_categorical(y_train, 10)\n",
        "y_val_oh = keras.utils.to_categorical(y_val, 10)\n",
        "\n",
        "print(y_train_oh.shape)\n",
        "print(y_train_oh[:3], y_train[:3])"
      ],
      "execution_count": 7,
      "outputs": [
        {
          "output_type": "stream",
          "text": [
            "(50000, 10)\n",
            "[[0. 0. 0. 0. 0. 1. 0. 0. 0. 0.]\n",
            " [1. 0. 0. 0. 0. 0. 0. 0. 0. 0.]\n",
            " [0. 0. 0. 0. 1. 0. 0. 0. 0. 0.]] [5 0 4]\n"
          ],
          "name": "stdout"
        }
      ]
    },
    {
      "cell_type": "code",
      "metadata": {
        "id": "aEgUoSEuNnel",
        "colab_type": "code",
        "colab": {
          "base_uri": "https://localhost:8080/",
          "height": 292
        },
        "outputId": "4fcd79a4-e620-4dfd-9fc6-5bd34f1f6f2d"
      },
      "source": [
        "# building a model with keras\n",
        "from keras.layers import Dense, Activation\n",
        "from keras.models import Sequential\n",
        "\n",
        "# we still need to clear a graph though\n",
        "s = reset_tf_session()\n",
        "\n",
        "model = Sequential()  # it is a feed-forward network without loops like in RNN\n",
        "model.add(Dense(256, input_shape=(784,)))  # the first layer must specify the input shape (replacing placeholders)\n",
        "model.add(Activation('sigmoid'))\n",
        "model.add(Dense(256))\n",
        "model.add(Activation('sigmoid'))\n",
        "model.add(Dense(10))\n",
        "model.add(Activation('softmax'))"
      ],
      "execution_count": 8,
      "outputs": [
        {
          "output_type": "stream",
          "text": [
            "WARNING:tensorflow:From /content/keras_utils.py:68: The name tf.get_default_session is deprecated. Please use tf.compat.v1.get_default_session instead.\n",
            "\n",
            "WARNING:tensorflow:From /usr/local/lib/python3.6/dist-packages/keras/backend/tensorflow_backend.py:79: The name tf.reset_default_graph is deprecated. Please use tf.compat.v1.reset_default_graph instead.\n",
            "\n",
            "WARNING:tensorflow:From /usr/local/lib/python3.6/dist-packages/keras/backend/tensorflow_backend.py:82: The name tf.placeholder is deprecated. Please use tf.compat.v1.placeholder instead.\n",
            "\n",
            "WARNING:tensorflow:From /usr/local/lib/python3.6/dist-packages/keras/backend/tensorflow_backend.py:84: The name tf.get_default_graph is deprecated. Please use tf.compat.v1.get_default_graph instead.\n",
            "\n",
            "WARNING:tensorflow:From /content/keras_utils.py:75: The name tf.ConfigProto is deprecated. Please use tf.compat.v1.ConfigProto instead.\n",
            "\n",
            "WARNING:tensorflow:From /content/keras_utils.py:77: The name tf.InteractiveSession is deprecated. Please use tf.compat.v1.InteractiveSession instead.\n",
            "\n",
            "WARNING:tensorflow:From /usr/local/lib/python3.6/dist-packages/keras/backend/tensorflow_backend.py:3535: The name tf.random_uniform is deprecated. Please use tf.random.uniform instead.\n",
            "\n"
          ],
          "name": "stdout"
        }
      ]
    },
    {
      "cell_type": "code",
      "metadata": {
        "id": "900CJhy8Nnep",
        "colab_type": "code",
        "colab": {
          "base_uri": "https://localhost:8080/",
          "height": 363
        },
        "outputId": "b0105d43-ef00-4011-cca1-83f4d3c65c1a"
      },
      "source": [
        "# you can look at all layers and parameter count\n",
        "model.summary()"
      ],
      "execution_count": 9,
      "outputs": [
        {
          "output_type": "stream",
          "text": [
            "_________________________________________________________________\n",
            "Layer (type)                 Output Shape              Param #   \n",
            "=================================================================\n",
            "dense_1 (Dense)              (None, 256)               200960    \n",
            "_________________________________________________________________\n",
            "activation_1 (Activation)    (None, 256)               0         \n",
            "_________________________________________________________________\n",
            "dense_2 (Dense)              (None, 256)               65792     \n",
            "_________________________________________________________________\n",
            "activation_2 (Activation)    (None, 256)               0         \n",
            "_________________________________________________________________\n",
            "dense_3 (Dense)              (None, 10)                2570      \n",
            "_________________________________________________________________\n",
            "activation_3 (Activation)    (None, 10)                0         \n",
            "=================================================================\n",
            "Total params: 269,322\n",
            "Trainable params: 269,322\n",
            "Non-trainable params: 0\n",
            "_________________________________________________________________\n"
          ],
          "name": "stdout"
        }
      ]
    },
    {
      "cell_type": "code",
      "metadata": {
        "id": "gNdy1BsONnet",
        "colab_type": "code",
        "colab": {
          "base_uri": "https://localhost:8080/",
          "height": 165
        },
        "outputId": "2d4585e7-9f8d-4705-9645-7cb7c86c147f"
      },
      "source": [
        "# now we \"compile\" the model specifying the loss and optimizer\n",
        "model.compile(\n",
        "    loss='categorical_crossentropy', # this is our cross-entropy\n",
        "    optimizer='adam',\n",
        "    metrics=['accuracy']  # report accuracy during training\n",
        ")"
      ],
      "execution_count": 10,
      "outputs": [
        {
          "output_type": "stream",
          "text": [
            "WARNING:tensorflow:From /usr/local/lib/python3.6/dist-packages/keras/optimizers.py:697: The name tf.train.Optimizer is deprecated. Please use tf.compat.v1.train.Optimizer instead.\n",
            "\n",
            "WARNING:tensorflow:From /usr/local/lib/python3.6/dist-packages/keras/backend/tensorflow_backend.py:2745: calling reduce_sum_v1 (from tensorflow.python.ops.math_ops) with keep_dims is deprecated and will be removed in a future version.\n",
            "Instructions for updating:\n",
            "keep_dims is deprecated, use keepdims instead\n",
            "WARNING:tensorflow:From /usr/local/lib/python3.6/dist-packages/keras/backend/tensorflow_backend.py:2749: The name tf.log is deprecated. Please use tf.math.log instead.\n",
            "\n"
          ],
          "name": "stdout"
        }
      ]
    },
    {
      "cell_type": "code",
      "metadata": {
        "id": "vwfuUsvVNney",
        "colab_type": "code",
        "colab": {
          "base_uri": "https://localhost:8080/",
          "height": 1000
        },
        "outputId": "05048c35-bb01-47f4-a7e0-659fe350ce36"
      },
      "source": [
        "# and now we can fit the model with model.fit()\n",
        "# and we don't have to write loops and batching manually as in TensorFlow\n",
        "model.fit(\n",
        "    X_train_flat, \n",
        "    y_train_oh,\n",
        "    batch_size=512, \n",
        "    epochs=40,\n",
        "    validation_data=(X_val_flat, y_val_oh),\n",
        "    callbacks=[keras_utils.TqdmProgressCallback()],\n",
        "    verbose=0\n",
        ")"
      ],
      "execution_count": 11,
      "outputs": [
        {
          "output_type": "stream",
          "text": [
            "WARNING:tensorflow:From /usr/local/lib/python3.6/dist-packages/keras/backend/tensorflow_backend.py:2289: The name tf.Session is deprecated. Please use tf.compat.v1.Session instead.\n",
            "\n",
            "WARNING:tensorflow:From /usr/local/lib/python3.6/dist-packages/tensorflow_core/python/ops/math_grad.py:1424: where (from tensorflow.python.ops.array_ops) is deprecated and will be removed in a future version.\n",
            "Instructions for updating:\n",
            "Use tf.where in 2.0, which has the same broadcast rule as np.where\n",
            "WARNING:tensorflow:From /usr/local/lib/python3.6/dist-packages/keras/backend/tensorflow_backend.py:879: The name tf.assign_add is deprecated. Please use tf.compat.v1.assign_add instead.\n",
            "\n",
            "WARNING:tensorflow:From /usr/local/lib/python3.6/dist-packages/keras/backend/tensorflow_backend.py:602: calling Constant.__init__ (from tensorflow.python.ops.init_ops) with dtype is deprecated and will be removed in a future version.\n",
            "Instructions for updating:\n",
            "Call initializer instance with the dtype argument instead of passing it to the constructor\n",
            "WARNING:tensorflow:From /usr/local/lib/python3.6/dist-packages/keras/backend/tensorflow_backend.py:866: The name tf.assign is deprecated. Please use tf.compat.v1.assign instead.\n",
            "\n",
            "\n",
            "Epoch 1/40\n",
            "WARNING:tensorflow:From /usr/local/lib/python3.6/dist-packages/keras/backend/tensorflow_backend.py:333: The name tf.global_variables is deprecated. Please use tf.compat.v1.global_variables instead.\n",
            "\n",
            "WARNING:tensorflow:From /usr/local/lib/python3.6/dist-packages/keras/backend/tensorflow_backend.py:341: The name tf.variables_initializer is deprecated. Please use tf.compat.v1.variables_initializer instead.\n",
            "\n",
            "**************************************************\n",
            "loss: 1.2145; acc: 0.6931; val_loss: 0.4683; val_acc: 0.8869\n",
            "\n",
            "Epoch 2/40\n",
            "**************************************************\n",
            "loss: 0.3900; acc: 0.8956; val_loss: 0.2935; val_acc: 0.9177\n",
            "\n",
            "Epoch 3/40\n",
            "**************************************************\n",
            "loss: 0.2921; acc: 0.9173; val_loss: 0.2446; val_acc: 0.9291\n",
            "\n",
            "Epoch 4/40\n",
            "**************************************************\n",
            "loss: 0.2487; acc: 0.9274; val_loss: 0.2186; val_acc: 0.9359\n",
            "\n",
            "Epoch 5/40\n",
            "**************************************************\n",
            "loss: 0.2181; acc: 0.9368; val_loss: 0.1920; val_acc: 0.9474\n",
            "\n",
            "Epoch 6/40\n",
            "**************************************************\n",
            "loss: 0.1927; acc: 0.9434; val_loss: 0.1782; val_acc: 0.9506\n",
            "\n",
            "Epoch 7/40\n",
            "**************************************************\n",
            "loss: 0.1719; acc: 0.9505; val_loss: 0.1616; val_acc: 0.9542\n",
            "\n",
            "Epoch 8/40\n",
            "**************************************************\n",
            "loss: 0.1549; acc: 0.9541; val_loss: 0.1468; val_acc: 0.9593\n",
            "\n",
            "Epoch 9/40\n",
            "**************************************************\n",
            "loss: 0.1390; acc: 0.9596; val_loss: 0.1357; val_acc: 0.9617\n",
            "\n",
            "Epoch 10/40\n",
            "**************************************************\n",
            "loss: 0.1264; acc: 0.9626; val_loss: 0.1272; val_acc: 0.9636\n",
            "\n",
            "Epoch 11/40\n",
            "**************************************************\n",
            "loss: 0.1140; acc: 0.9671; val_loss: 0.1219; val_acc: 0.9649\n",
            "\n",
            "Epoch 12/40\n",
            "**************************************************\n",
            "loss: 0.1043; acc: 0.9696; val_loss: 0.1128; val_acc: 0.9689\n",
            "\n",
            "Epoch 13/40\n",
            "**************************************************\n",
            "loss: 0.0951; acc: 0.9726; val_loss: 0.1086; val_acc: 0.9683\n",
            "\n",
            "Epoch 14/40\n",
            "**************************************************\n",
            "loss: 0.0860; acc: 0.9753; val_loss: 0.1058; val_acc: 0.9692\n",
            "\n",
            "Epoch 15/40\n",
            "**************************************************\n",
            "loss: 0.0790; acc: 0.9771; val_loss: 0.1005; val_acc: 0.9691\n",
            "\n",
            "Epoch 16/40\n",
            "**************************************************\n",
            "loss: 0.0721; acc: 0.9794; val_loss: 0.1030; val_acc: 0.9703\n",
            "\n",
            "Epoch 17/40\n",
            "**************************************************\n",
            "loss: 0.0660; acc: 0.9813; val_loss: 0.0937; val_acc: 0.9720\n",
            "\n",
            "Epoch 18/40\n",
            "**************************************************\n",
            "loss: 0.0604; acc: 0.9832; val_loss: 0.0929; val_acc: 0.9726\n",
            "\n",
            "Epoch 19/40\n",
            "**************************************************\n",
            "loss: 0.0558; acc: 0.9843; val_loss: 0.0886; val_acc: 0.9724\n",
            "\n",
            "Epoch 20/40\n",
            "**************************************************\n",
            "loss: 0.0503; acc: 0.9860; val_loss: 0.0872; val_acc: 0.9739\n",
            "\n",
            "Epoch 21/40\n",
            "**************************************************\n",
            "loss: 0.0455; acc: 0.9874; val_loss: 0.0857; val_acc: 0.9744\n",
            "\n",
            "Epoch 22/40\n",
            "**************************************************\n",
            "loss: 0.0412; acc: 0.9891; val_loss: 0.0821; val_acc: 0.9757\n",
            "\n",
            "Epoch 23/40\n",
            "**************************************************\n",
            "loss: 0.0373; acc: 0.9904; val_loss: 0.0832; val_acc: 0.9744\n",
            "\n",
            "Epoch 24/40\n",
            "**************************************************\n",
            "loss: 0.0337; acc: 0.9918; val_loss: 0.0819; val_acc: 0.9760\n",
            "\n",
            "Epoch 25/40\n",
            "**************************************************\n",
            "loss: 0.0311; acc: 0.9926; val_loss: 0.0814; val_acc: 0.9763\n",
            "\n",
            "Epoch 26/40\n",
            "**************************************************\n",
            "loss: 0.0281; acc: 0.9935; val_loss: 0.0804; val_acc: 0.9763\n",
            "\n",
            "Epoch 27/40\n",
            "**************************************************\n",
            "loss: 0.0254; acc: 0.9947; val_loss: 0.0838; val_acc: 0.9755\n",
            "\n",
            "Epoch 28/40\n",
            "**************************************************\n",
            "loss: 0.0227; acc: 0.9952; val_loss: 0.0792; val_acc: 0.9768\n",
            "\n",
            "Epoch 29/40\n",
            "**************************************************\n",
            "loss: 0.0205; acc: 0.9958; val_loss: 0.0774; val_acc: 0.9775\n",
            "\n",
            "Epoch 30/40\n",
            "**************************************************\n",
            "loss: 0.0181; acc: 0.9965; val_loss: 0.0785; val_acc: 0.9777\n",
            "\n",
            "Epoch 31/40\n",
            "**************************************************\n",
            "loss: 0.0168; acc: 0.9971; val_loss: 0.0770; val_acc: 0.9772\n",
            "\n",
            "Epoch 32/40\n",
            "**************************************************\n",
            "loss: 0.0148; acc: 0.9975; val_loss: 0.0785; val_acc: 0.9772\n",
            "\n",
            "Epoch 33/40\n",
            "**************************************************\n",
            "loss: 0.0131; acc: 0.9980; val_loss: 0.0767; val_acc: 0.9776\n",
            "\n",
            "Epoch 34/40\n",
            "**************************************************\n",
            "loss: 0.0117; acc: 0.9985; val_loss: 0.0761; val_acc: 0.9786\n",
            "\n",
            "Epoch 35/40\n",
            "**************************************************\n",
            "loss: 0.0107; acc: 0.9986; val_loss: 0.0755; val_acc: 0.9780\n",
            "\n",
            "Epoch 36/40\n",
            "**************************************************\n",
            "loss: 0.0095; acc: 0.9989; val_loss: 0.0761; val_acc: 0.9777\n",
            "\n",
            "Epoch 37/40\n",
            "**************************************************\n",
            "loss: 0.0087; acc: 0.9989; val_loss: 0.0764; val_acc: 0.9778\n",
            "\n",
            "Epoch 38/40\n",
            "**************************************************\n",
            "loss: 0.0078; acc: 0.9992; val_loss: 0.0764; val_acc: 0.9781\n",
            "\n",
            "Epoch 39/40\n",
            "**************************************************\n",
            "loss: 0.0070; acc: 0.9993; val_loss: 0.0781; val_acc: 0.9782\n",
            "\n",
            "Epoch 40/40\n",
            "**************************************************\n",
            "loss: 0.0062; acc: 0.9996; val_loss: 0.0765; val_acc: 0.9788\n"
          ],
          "name": "stdout"
        },
        {
          "output_type": "execute_result",
          "data": {
            "text/plain": [
              "<keras.callbacks.History at 0x7f7bbc15ca20>"
            ]
          },
          "metadata": {
            "tags": []
          },
          "execution_count": 11
        }
      ]
    },
    {
      "cell_type": "markdown",
      "metadata": {
        "id": "mjJ2OHg_Nne2",
        "colab_type": "text"
      },
      "source": [
        "# Here're the notes for those who want to play around here\n",
        "\n",
        "Here are some tips on what you could do:\n",
        "\n",
        " * __Network size__\n",
        "   * More neurons, \n",
        "   * More layers, ([docs](https://keras.io/))\n",
        "\n",
        "   * Other nonlinearities in the hidden layers\n",
        "     * tanh, relu, leaky relu, etc\n",
        "   * Larger networks may take more epochs to train, so don't discard your net just because it could didn't beat the baseline in 5 epochs.\n",
        "\n",
        "\n",
        " * __Early Stopping__\n",
        "   * Training for 100 epochs regardless of anything is probably a bad idea.\n",
        "   * Some networks converge over 5 epochs, others - over 500.\n",
        "   * Way to go: stop when validation score is 10 iterations past maximum\n",
        "     \n",
        "\n",
        " * __Faster optimization__\n",
        "   * rmsprop, nesterov_momentum, adam, adagrad and so on.\n",
        "     * Converge faster and sometimes reach better optima\n",
        "     * It might make sense to tweak learning rate/momentum, other learning parameters, batch size and number of epochs\n",
        "\n",
        "\n",
        " * __Regularize__ to prevent overfitting\n",
        "   * Add some L2 weight norm to the loss function, theano will do the rest\n",
        "     * Can be done manually or via - https://keras.io/regularizers/\n",
        "   \n",
        "   \n",
        " * __Data augmemntation__ - getting 5x as large dataset for free is a great deal\n",
        "   * https://keras.io/preprocessing/image/\n",
        "   * Zoom-in+slice = move\n",
        "   * Rotate+zoom(to remove black stripes)\n",
        "   * any other perturbations\n",
        "   * Simple way to do that (if you have PIL/Image): \n",
        "     * ```from scipy.misc import imrotate,imresize```\n",
        "     * and a few slicing\n",
        "   * Stay realistic. There's usually no point in flipping dogs upside down as that is not the way you usually see them."
      ]
    },
    {
      "cell_type": "code",
      "metadata": {
        "id": "Y46ZLff1Nne3",
        "colab_type": "code",
        "colab": {}
      },
      "source": [
        ""
      ],
      "execution_count": 0,
      "outputs": []
    }
  ]
}